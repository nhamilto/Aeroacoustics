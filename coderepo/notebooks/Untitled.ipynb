{
 "cells": [
  {
   "cell_type": "code",
   "execution_count": 3,
   "metadata": {},
   "outputs": [],
   "source": [
    "cont = 'Julie Lundquist <julie.lundquist@colorado.edu>; misa5952@colorado.edu <misa5952@colorado.edu>; rachel.robey@colorado.edu <rachel.robey@colorado.edu>; Arthur, Robert <arthur7@llnl.gov>; Lassman, William <Lassman1@llnl.gov>; Herges, Thomas <therges@sandia.gov>; mlblayl@sandia.gov <mlblayl@sandia.gov>; Churchfield, Matthew <Matt.Churchfield@nrel.gov>; Wharton, Sonia <wharton4@llnl.gov>; colleen.kaul@pnnl.gov <colleen.kaul@pnnl.gov>; sp2279@cornell.edu <sp2279@cornell.edu>; rb737@cornell.edu <rb737@cornell.edu>; marc.calaf@utah.edu <marc.calaf@utah.edu>; Shaw, William J <will.shaw@pnnl.gov>; Valerio.Iungo@utdallas.edu <Valerio.Iungo@utdallas.edu>; Moriarty, Patrick <Patrick.Moriarty@nrel.gov>; Jonkman, Jason <Jason.Jonkman@nrel.gov>; Rupert.Storey@ge.com <Rupert.Storey@ge.com>; adamwise@berkeley.edu <adamwise@berkeley.edu>; tinakc@berkeley.edu <tinakc@berkeley.edu>; raj.rai@pnnl.gov <raj.rai@pnnl.gov>; dcmania@sandia.gov <dcmania@sandia.gov>; Vincent.Pronk@colorado.edu <Vincent.Pronk@colorado.edu>; bchouch@sandia.gov <bchouch@sandia.gov>; gijs.deboer@colorado.edu <gijs.deboer@colorado.edu>; Steve.Borenstein@Colorado.edu <Steve.Borenstein@Colorado.edu>; Geerts@uwyo.edu <Geerts@uwyo.edu>; Cheung, Lawrence <lcheung@sandia.gov>; Hsieh, Alan <ahsieh@sandia.gov>; Gustafson, William I <William.Gustafson@pnnl.gov>; Debnath, Mithu <Mithu.Debnath@nrel.gov>; Quon, Eliot <Eliot.Quon@nrel.gov>; Shaler, Kelsey <Kelsey.Shaler@nrel.gov>'"
   ]
  },
  {
   "cell_type": "code",
   "execution_count": 11,
   "metadata": {},
   "outputs": [],
   "source": [
    "cont = [x.split('<')[1].split('>')[0] for x in cont.split('; ')]"
   ]
  },
  {
   "cell_type": "code",
   "execution_count": 12,
   "metadata": {},
   "outputs": [
    {
     "name": "stdout",
     "output_type": "stream",
     "text": [
      "julie.lundquist@colorado.edu\n",
      "misa5952@colorado.edu\n",
      "rachel.robey@colorado.edu\n",
      "arthur7@llnl.gov\n",
      "Lassman1@llnl.gov\n",
      "therges@sandia.gov\n",
      "mlblayl@sandia.gov\n",
      "Matt.Churchfield@nrel.gov\n",
      "wharton4@llnl.gov\n",
      "colleen.kaul@pnnl.gov\n",
      "sp2279@cornell.edu\n",
      "rb737@cornell.edu\n",
      "marc.calaf@utah.edu\n",
      "will.shaw@pnnl.gov\n",
      "Valerio.Iungo@utdallas.edu\n",
      "Patrick.Moriarty@nrel.gov\n",
      "Jason.Jonkman@nrel.gov\n",
      "Rupert.Storey@ge.com\n",
      "adamwise@berkeley.edu\n",
      "tinakc@berkeley.edu\n",
      "raj.rai@pnnl.gov\n",
      "dcmania@sandia.gov\n",
      "Vincent.Pronk@colorado.edu\n",
      "bchouch@sandia.gov\n",
      "gijs.deboer@colorado.edu\n",
      "Steve.Borenstein@Colorado.edu\n",
      "Geerts@uwyo.edu\n",
      "lcheung@sandia.gov\n",
      "ahsieh@sandia.gov\n",
      "William.Gustafson@pnnl.gov\n",
      "Mithu.Debnath@nrel.gov\n",
      "Eliot.Quon@nrel.gov\n",
      "Kelsey.Shaler@nrel.gov\n"
     ]
    },
    {
     "data": {
      "text/plain": [
       "[None,\n",
       " None,\n",
       " None,\n",
       " None,\n",
       " None,\n",
       " None,\n",
       " None,\n",
       " None,\n",
       " None,\n",
       " None,\n",
       " None,\n",
       " None,\n",
       " None,\n",
       " None,\n",
       " None,\n",
       " None,\n",
       " None,\n",
       " None,\n",
       " None,\n",
       " None,\n",
       " None,\n",
       " None,\n",
       " None,\n",
       " None,\n",
       " None,\n",
       " None,\n",
       " None,\n",
       " None,\n",
       " None,\n",
       " None,\n",
       " None,\n",
       " None,\n",
       " None]"
      ]
     },
     "execution_count": 12,
     "metadata": {},
     "output_type": "execute_result"
    }
   ],
   "source": [
    "[print(x) for x in cont]"
   ]
  },
  {
   "cell_type": "code",
   "execution_count": null,
   "metadata": {},
   "outputs": [],
   "source": []
  }
 ],
 "metadata": {
  "kernelspec": {
   "display_name": "Python 3",
   "language": "python",
   "name": "python3"
  },
  "language_info": {
   "codemirror_mode": {
    "name": "ipython",
    "version": 3
   },
   "file_extension": ".py",
   "mimetype": "text/x-python",
   "name": "python",
   "nbconvert_exporter": "python",
   "pygments_lexer": "ipython3",
   "version": "3.7.6"
  }
 },
 "nbformat": 4,
 "nbformat_minor": 4
}
