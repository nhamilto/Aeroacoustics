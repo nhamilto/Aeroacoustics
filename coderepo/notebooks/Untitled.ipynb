{
 "cells": [
  {
   "cell_type": "code",
   "execution_count": 13,
   "metadata": {},
   "outputs": [
    {
     "name": "stdout",
     "output_type": "stream",
     "text": [
      "The autoreload extension is already loaded. To reload it, use:\n",
      "  %reload_ext autoreload\n"
     ]
    }
   ],
   "source": [
    "import sys, os\n",
    "\n",
    "import numpy as np\n",
    "from nptdms import TdmsFile\n",
    "from dateutil.relativedelta import relativedelta\n",
    "from datetime import datetime\n",
    "\n",
    "### plotting libs\n",
    "import matplotlib.pyplot as plt\n",
    "plt.style.use('seaborn-colorblind')\n",
    "\n",
    "### some convenient magics\n",
    "%load_ext autoreload\n",
    "%autoreload 2\n",
    "\n",
    "### Directory setup\n",
    "cwd = os.getcwd()\n",
    "datapath = os.path.abspath(os.path.join(cwd, '../../data/'))\n",
    "figpath = os.path.abspath(os.path.join(cwd, 'figs/'))"
   ]
  },
  {
   "cell_type": "code",
   "execution_count": 14,
   "metadata": {},
   "outputs": [],
   "source": [
    "filename = os.path.join(datapath, 'DOE15_SlowData_2020_02_10_14_34_59_1Hz.tdms')\n",
    "tdms_file = TdmsFile(filename)\n"
   ]
  },
  {
   "cell_type": "code",
   "execution_count": 20,
   "metadata": {},
   "outputs": [
    {
     "data": {
      "text/plain": [
       "[<TdmsObject with path /'SlowData'/'MS Excel Timestamp'>,\n",
       " <TdmsObject with path /'SlowData'/'LabVIEW Timestamp'>,\n",
       " <TdmsObject with path /'SlowData'/'Scan Errors'>,\n",
       " <TdmsObject with path /'SlowData'/'Late Scans'>,\n",
       " <TdmsObject with path /'SlowData'/'Hum1'>,\n",
       " <TdmsObject with path /'SlowData'/'Temp1'>,\n",
       " <TdmsObject with path /'SlowData'/'Hum2'>,\n",
       " <TdmsObject with path /'SlowData'/'Temp2'>,\n",
       " <TdmsObject with path /'SlowData'/'Windspeed_38m'>,\n",
       " <TdmsObject with path /'SlowData'/'Windspeed_55m'>,\n",
       " <TdmsObject with path /'SlowData'/'Windspeed_87m'>,\n",
       " <TdmsObject with path /'SlowData'/'WD1_87m'>,\n",
       " <TdmsObject with path /'SlowData'/'Air_Press_2'>,\n",
       " <TdmsObject with path /'SlowData'/'Air_Press_1'>,\n",
       " <TdmsObject with path /'SlowData'/'Wind_Direction_38m'>,\n",
       " <TdmsObject with path /'SlowData'/'WindSpeed_80m'>,\n",
       " <TdmsObject with path /'SlowData'/'Precipitation'>,\n",
       " <TdmsObject with path /'SlowData'/'Tower Base Bend 1'>,\n",
       " <TdmsObject with path /'SlowData'/'Tower Base Bend 2'>,\n",
       " <TdmsObject with path /'SlowData'/'Tower Base Torque'>,\n",
       " <TdmsObject with path /'SlowData'/'Active Power'>,\n",
       " <TdmsObject with path /'SlowData'/'Reactive Power'>,\n",
       " <TdmsObject with path /'SlowData'/'Power Factor'>,\n",
       " <TdmsObject with path /'SlowData'/'TowerTopBending_0'>,\n",
       " <TdmsObject with path /'SlowData'/'TowerTopBending_90'>,\n",
       " <TdmsObject with path /'SlowData'/'TowerTopTorque'>,\n",
       " <TdmsObject with path /'SlowData'/'TowerTopDCAccel_NS'>,\n",
       " <TdmsObject with path /'SlowData'/'TowerTopDCAccel_EW'>,\n",
       " <TdmsObject with path /'SlowData'/'LSS RPM'>,\n",
       " <TdmsObject with path /'SlowData'/'HSS RPM'>,\n",
       " <TdmsObject with path /'SlowData'/'Mainshaft_Downwind_Bend_0'>,\n",
       " <TdmsObject with path /'SlowData'/'Mainshaft_Downwind_Bend_90'>,\n",
       " <TdmsObject with path /'SlowData'/'Mainshaft_Downwind_Torque'>,\n",
       " <TdmsObject with path /'SlowData'/'AzimuthAO'>,\n",
       " <TdmsObject with path /'SlowData'/'Blade_1_Flap'>,\n",
       " <TdmsObject with path /'SlowData'/'Blade_1_Edge'>,\n",
       " <TdmsObject with path /'SlowData'/'Blade_2_Flap'>,\n",
       " <TdmsObject with path /'SlowData'/'Blade_2_Edge'>,\n",
       " <TdmsObject with path /'SlowData'/'Blade_3_Flap'>,\n",
       " <TdmsObject with path /'SlowData'/'Blade_3_Edge'>,\n",
       " <TdmsObject with path /'SlowData'/'Pitch_Blade2'>,\n",
       " <TdmsObject with path /'SlowData'/'Azimuth'>,\n",
       " <TdmsObject with path /'SlowData'/'Yaw_Encoder'>,\n",
       " <TdmsObject with path /'SlowData'/'Pitch_Blade1'>,\n",
       " <TdmsObject with path /'SlowData'/'OPC_AI_CuTorqueAct'>,\n",
       " <TdmsObject with path /'SlowData'/'OPC_AI_In_GridMonRealPowerAct'>,\n",
       " <TdmsObject with path /'SlowData'/'OPC_AI_In_PitchAngleCurrent1'>,\n",
       " <TdmsObject with path /'SlowData'/'OPC_AI_In_PitchAngleCurrent2'>,\n",
       " <TdmsObject with path /'SlowData'/'OPC_AI_In_PitchAngleCurrent3'>,\n",
       " <TdmsObject with path /'SlowData'/'OPC_CMD_Close_Brake'>,\n",
       " <TdmsObject with path /'SlowData'/'OPC_DI_In_TBDiscBrakeClosed'>,\n",
       " <TdmsObject with path /'SlowData'/'OPC_In_RotorSpd'>,\n",
       " <TdmsObject with path /'SlowData'/'OPC_In_WindSpd'>,\n",
       " <TdmsObject with path /'SlowData'/'OPC_OpCtl_TurbineFullState'>,\n",
       " <TdmsObject with path /'SlowData'/'OPC_OpCtl_TurbineOperationalState'>,\n",
       " <TdmsObject with path /'SlowData'/'OPC_OpCtl_TurbineStatus'>,\n",
       " <TdmsObject with path /'SlowData'/'OPC_STATE_FAULT'>,\n",
       " <TdmsObject with path /'SlowData'/'OPC_TURB_STATE_SCADA'>,\n",
       " <TdmsObject with path /'SlowData'/'OPC_TurbineStatusSCADA'>,\n",
       " <TdmsObject with path /'SlowData'/'OPC_Yaw_AsPublished'>,\n",
       " <TdmsObject with path /'SlowData'/'WD_Mod_Active'>,\n",
       " <TdmsObject with path /'SlowData'/'WD_Nacelle'>,\n",
       " <TdmsObject with path /'SlowData'/'WD_Nacelle_Mod'>]"
      ]
     },
     "execution_count": 20,
     "metadata": {},
     "output_type": "execute_result"
    }
   ],
   "source": [
    "tdms_file.group_channels('SlowData')"
   ]
  },
  {
   "cell_type": "code",
   "execution_count": 79,
   "metadata": {},
   "outputs": [],
   "source": [
    "channels = ['LabVIEW Timestamp','Windspeed_87m','WD1_87m']\n",
    "# 'WD_Nacelle',\n",
    "# 'WD_Nacelle_Mod']"
   ]
  },
  {
   "cell_type": "code",
   "execution_count": 81,
   "metadata": {},
   "outputs": [],
   "source": [
    "dataset = {channel: tdms_file.object('SlowData', channel) for channel in channels}\n",
    "\n",
    "time = dataset['LabVIEW Timestamp'].data\n",
    "timestamp = [datetime.fromtimestamp(x- 2082844800) for x in time]\n",
    "\n",
    "windspeed = dataset['Windspeed_87m'].data\n",
    "winddirection = dataset['WD1_87m'].data"
   ]
  },
  {
   "cell_type": "code",
   "execution_count": 86,
   "metadata": {},
   "outputs": [
    {
     "data": {
      "image/png": "[encoded data removed]",
      "text/plain": [
       "<Figure size 360x216 with 2 Axes>"
      ]
     },
     "metadata": {
      "needs_background": "light"
     },
     "output_type": "display_data"
    }
   ],
   "source": [
    "fig, ax = plt.subplots(figsize=(5,3))\n",
    "\n",
    "ax.plot(timestamp, windspeed, c='C0')\n",
    "ax.set_xlabel('Datetime')\n",
    "ax.set_ylabel('Wind Speed [m/s]', c='C0')\n",
    "\n",
    "ax2=ax.twinx()\n",
    "\n",
    "ax2.plot(timestamp, winddirection, c='C1')\n",
    "ax2.set_ylabel('Wind Direction [$^\\circ$]', c='C1')\n",
    "\n",
    "plt.tight_layout()"
   ]
  },
  {
   "cell_type": "code",
   "execution_count": null,
   "metadata": {},
   "outputs": [],
   "source": [
    "\n"
   ]
  }
 ],
 "metadata": {
  "kernelspec": {
   "display_name": "aero",
   "language": "python",
   "name": "aero"
  },
  "language_info": {
   "codemirror_mode": {
    "name": "ipython",
    "version": 3
   },
   "file_extension": ".py",
   "mimetype": "text/x-python",
   "name": "python",
   "nbconvert_exporter": "python",
   "pygments_lexer": "ipython3",
   "version": "3.7.3"
  }
 },
 "nbformat": 4,
 "nbformat_minor": 4
}
