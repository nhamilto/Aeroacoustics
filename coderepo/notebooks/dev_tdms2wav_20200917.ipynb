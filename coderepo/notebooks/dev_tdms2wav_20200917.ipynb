{
 "cells": [
  {
   "cell_type": "markdown",
   "metadata": {},
   "source": [
    "# TDMS -> WAV"
   ]
  },
  {
   "cell_type": "code",
   "execution_count": 1,
   "metadata": {},
   "outputs": [],
   "source": [
    "import sys\n",
    "import os\n",
    "\n",
    "import numpy as np\n",
    "import pandas as pd\n",
    "# import matplotlib.pyplot as plt\n",
    "# plt.style.use('seaborn-colorblind')\n",
    "import datetime\n",
    "from nptdms import TdmsFile\n",
    "import wave\n",
    "\n",
    "import matplotlib.pyplot as plt\n",
    "sys.path.append('../')\n",
    "import CaptureTracker as ct\n",
    "\n",
    "### some convenient magics\n",
    "%load_ext autoreload\n",
    "%autoreload 2"
   ]
  },
  {
   "cell_type": "code",
   "execution_count": 2,
   "metadata": {},
   "outputs": [],
   "source": [
    "datadir = '/Volumes/Aeroacoustics/_RawData/MicrophoneRecordings/'"
   ]
  },
  {
   "cell_type": "code",
   "execution_count": 4,
   "metadata": {},
   "outputs": [],
   "source": [
    "dates = os.listdir(datadir)\n",
    "rawdatafiles = os.listdir(os.path.join(datadir, dates[0]))\n",
    "readpath = os.path.join(datadir,dates[0],rawdatafiles[0])"
   ]
  },
  {
   "cell_type": "code",
   "execution_count": 5,
   "metadata": {},
   "outputs": [],
   "source": [
    "metadata = TdmsFile(readpath, read_metadata_only=True)\n",
    "namethattune = TdmsFile(readpath)"
   ]
  },
  {
   "cell_type": "code",
   "execution_count": 6,
   "metadata": {},
   "outputs": [],
   "source": [
    "df = namethattune.as_dataframe()"
   ]
  },
  {
   "cell_type": "code",
   "execution_count": 7,
   "metadata": {},
   "outputs": [],
   "source": [
    "df.index = pd.TimedeltaIndex(data=1/51200*np.arange(len(df)), unit='s')# freq='195.3125U')"
   ]
  },
  {
   "cell_type": "code",
   "execution_count": 80,
   "metadata": {},
   "outputs": [],
   "source": [
    "for cn in range(len(channelnames)):\n",
    "    \n",
    "    obj = wave.open('sound_channel_{}.wav'.format(channelnames[cn].split(\"'/'\")[-1].split(\"'\")[0]),'wb')\n",
    "\n",
    "    sampleRate = 51200.0 # hertz\n",
    "    sampleWidth = 2\n",
    "    maxVolume = 2**(8*sampleWidth-1) - 1\n",
    "    \n",
    "    duration = np.round(df.shape[0]/51200, 2) # seconds\n",
    "\n",
    "    obj.setnchannels(1) # mono\n",
    "    obj.setsampwidth(sampleWidth)\n",
    "    obj.setframerate(sampleRate)\n",
    "        \n",
    "    tmp = (maxVolume/2*df[channelnames[cn]]).astype(int).values\n",
    "    \n",
    "    formatlist = ['<'] + ['h']*len(tmp)\n",
    "    formatlist = ('').join(formatlist)\n",
    "    \n",
    "    buf = struct.pack(formatlist, *tmp)\n",
    "    obj.writeframesraw(buf)\n",
    "    \n",
    "    obj.close()"
   ]
  },
  {
   "cell_type": "code",
   "execution_count": 75,
   "metadata": {},
   "outputs": [
    {
     "data": {
      "text/plain": [
       "'TestNode_North9042_MicAA'"
      ]
     },
     "execution_count": 75,
     "metadata": {},
     "output_type": "execute_result"
    }
   ],
   "source": []
  },
  {
   "cell_type": "code",
   "execution_count": 78,
   "metadata": {},
   "outputs": [
    {
     "data": {
      "text/plain": [
       "'sound_channel_TestNode_North9042_MicAA.wav'"
      ]
     },
     "execution_count": 78,
     "metadata": {},
     "output_type": "execute_result"
    }
   ],
   "source": [
    "'sound_channel_{}.wav'.format(channelnames[0].split(\"'/'\")[-1].split(\"'\")[0])"
   ]
  },
  {
   "cell_type": "code",
   "execution_count": null,
   "metadata": {},
   "outputs": [],
   "source": []
  },
  {
   "cell_type": "code",
   "execution_count": null,
   "metadata": {},
   "outputs": [],
   "source": []
  }
 ],
 "metadata": {
  "kernelspec": {
   "display_name": "aero",
   "language": "python",
   "name": "aero"
  },
  "language_info": {
   "codemirror_mode": {
    "name": "ipython",
    "version": 3
   },
   "file_extension": ".py",
   "mimetype": "text/x-python",
   "name": "python",
   "nbconvert_exporter": "python",
   "pygments_lexer": "ipython3",
   "version": "3.7.6"
  }
 },
 "nbformat": 4,
 "nbformat_minor": 4
}
