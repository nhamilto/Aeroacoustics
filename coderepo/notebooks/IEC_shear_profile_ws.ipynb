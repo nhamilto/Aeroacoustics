{
 "cells": [
  {
   "cell_type": "code",
   "execution_count": 12,
   "metadata": {},
   "outputs": [],
   "source": [
    "import numpy as np\n",
    "import matplotlib.pyplot as plt"
   ]
  },
  {
   "cell_type": "code",
   "execution_count": 14,
   "metadata": {},
   "outputs": [],
   "source": [
    "zmet = 10.0\n",
    "umet = np.arange(6,11,1)\n",
    "zhub = 87.0"
   ]
  },
  {
   "cell_type": "code",
   "execution_count": 15,
   "metadata": {},
   "outputs": [],
   "source": [
    "uhub = umet*(zhub/zmet)**0.2"
   ]
  },
  {
   "cell_type": "code",
   "execution_count": 16,
   "metadata": {},
   "outputs": [
    {
     "data": {
      "text/plain": [
       "array([ 9.2, 10.8, 12.3, 13.9, 15.4])"
      ]
     },
     "execution_count": 16,
     "metadata": {},
     "output_type": "execute_result"
    }
   ],
   "source": [
    "uhub.round(1)"
   ]
  },
  {
   "cell_type": "code",
   "execution_count": 17,
   "metadata": {},
   "outputs": [],
   "source": [
    "ratedws = 12.0 \n",
    "lowerlim = 0.8*ratedws\n",
    "upperlim= 1.3*ratedws"
   ]
  },
  {
   "cell_type": "code",
   "execution_count": 20,
   "metadata": {},
   "outputs": [],
   "source": [
    "wsrange = np.linspace(lowerlim, upperlim)\n",
    "umet_range = wsrange*(zmet/zhub)**0.2"
   ]
  },
  {
   "cell_type": "code",
   "execution_count": 21,
   "metadata": {},
   "outputs": [
    {
     "data": {
      "text/plain": [
       "array([ 6.2282693 ,  6.30771151,  6.38715372,  6.46659593,  6.54603814,\n",
       "        6.62548035,  6.70492256,  6.78436477,  6.86380698,  6.94324919,\n",
       "        7.02269141,  7.10213362,  7.18157583,  7.26101804,  7.34046025,\n",
       "        7.41990246,  7.49934467,  7.57878688,  7.65822909,  7.7376713 ,\n",
       "        7.81711351,  7.89655572,  7.97599793,  8.05544014,  8.13488235,\n",
       "        8.21432456,  8.29376677,  8.37320898,  8.45265119,  8.5320934 ,\n",
       "        8.61153561,  8.69097783,  8.77042004,  8.84986225,  8.92930446,\n",
       "        9.00874667,  9.08818888,  9.16763109,  9.2470733 ,  9.32651551,\n",
       "        9.40595772,  9.48539993,  9.56484214,  9.64428435,  9.72372656,\n",
       "        9.80316877,  9.88261098,  9.96205319, 10.0414954 , 10.12093761])"
      ]
     },
     "execution_count": 21,
     "metadata": {},
     "output_type": "execute_result"
    }
   ],
   "source": [
    "umet_range"
   ]
  },
  {
   "cell_type": "code",
   "execution_count": null,
   "metadata": {},
   "outputs": [],
   "source": []
  }
 ],
 "metadata": {
  "kernelspec": {
   "display_name": "Python 3",
   "language": "python",
   "name": "python3"
  },
  "language_info": {
   "codemirror_mode": {
    "name": "ipython",
    "version": 3
   },
   "file_extension": ".py",
   "mimetype": "text/x-python",
   "name": "python",
   "nbconvert_exporter": "python",
   "pygments_lexer": "ipython3",
   "version": "3.7.3"
  }
 },
 "nbformat": 4,
 "nbformat_minor": 4
}
