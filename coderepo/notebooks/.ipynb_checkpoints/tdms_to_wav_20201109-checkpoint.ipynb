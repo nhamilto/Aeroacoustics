{
 "cells": [
  {
   "cell_type": "code",
   "execution_count": 1,
   "metadata": {},
   "outputs": [],
   "source": [
    "import sys\n",
    "import os\n",
    "\n",
    "import numpy as np\n",
    "import pandas as pd\n",
    "# import matplotlib.pyplot as plt\n",
    "# plt.style.use('seaborn-colorblind')\n",
    "import datetime\n",
    "from nptdms import TdmsFile\n",
    "import wave\n",
    "\n",
    "sys.path.append('../aeroacoustics/')\n",
    "import CaptureTracker as ct\n",
    "import TDMS2WAV as tw\n",
    "\n",
    "### some convenient magics\n",
    "%load_ext autoreload\n",
    "%autoreload 2"
   ]
  },
  {
   "cell_type": "code",
   "execution_count": 2,
   "metadata": {},
   "outputs": [],
   "source": [
    "readpath = '/Volumes/Aeroacoustics/_RawData/FieldDay_20201105/'"
   ]
  },
  {
   "cell_type": "code",
   "execution_count": 3,
   "metadata": {},
   "outputs": [],
   "source": [
    "files = [x for x in os.listdir(readpath) if 'index' not in x]"
   ]
  },
  {
   "cell_type": "code",
   "execution_count": 5,
   "metadata": {},
   "outputs": [],
   "source": [
    "metadata = TdmsFile(os.path.join(readpath, files[0]), read_metadata_only=True)"
   ]
  },
  {
   "cell_type": "code",
   "execution_count": 8,
   "metadata": {},
   "outputs": [],
   "source": [
    "noisedf, startTime = tw.read_noise_tdms(os.path.join(readpath, files[0]))"
   ]
  },
  {
   "cell_type": "code",
   "execution_count": 31,
   "metadata": {},
   "outputs": [
    {
     "name": "stdout",
     "output_type": "stream",
     "text": [
      "Writing data to: /Volumes/Aeroacoustics/_ProcessedData/FieldDay_20201105_WAV/20201105_103542_NOISE_channel_InfraMic_12C.wav\n",
      "-16320 16383\n",
      "Writing data to: /Volumes/Aeroacoustics/_ProcessedData/FieldDay_20201105_WAV/20201105_103542_NOISE_channel_Mic_04C.wav\n",
      "8945 16383\n",
      "Writing data to: /Volumes/Aeroacoustics/_ProcessedData/FieldDay_20201105_WAV/20201105_103542_NOISE_channel_Mic_05C.wav\n",
      "11591 16383\n"
     ]
    }
   ],
   "source": [
    "tw.tdms2wav(noisedf, startTime, '/Volumes/Aeroacoustics/_ProcessedData/FieldDay_20201105_WAV/')"
   ]
  }
 ],
 "metadata": {
  "kernelspec": {
   "display_name": "aero",
   "language": "python",
   "name": "aero"
  },
  "language_info": {
   "codemirror_mode": {
    "name": "ipython",
    "version": 3
   },
   "file_extension": ".py",
   "mimetype": "text/x-python",
   "name": "python",
   "nbconvert_exporter": "python",
   "pygments_lexer": "ipython3",
   "version": "3.7.6"
  }
 },
 "nbformat": 4,
 "nbformat_minor": 4
}
