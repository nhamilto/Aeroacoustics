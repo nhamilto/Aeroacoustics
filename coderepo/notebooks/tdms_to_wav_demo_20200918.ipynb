{
 "cells": [
  {
   "cell_type": "code",
   "execution_count": 1,
   "metadata": {},
   "outputs": [],
   "source": [
    "import sys\n",
    "import os\n",
    "\n",
    "import numpy as np\n",
    "import pandas as pd\n",
    "# import matplotlib.pyplot as plt\n",
    "# plt.style.use('seaborn-colorblind')\n",
    "import datetime\n",
    "from nptdms import TdmsFile\n",
    "import wave\n",
    "\n",
    "sys.path.append('../aeroacoustics/')\n",
    "import CaptureTracker as ct\n",
    "import TDMS2WAV as tw\n",
    "\n",
    "### some convenient magics\n",
    "%load_ext autoreload\n",
    "%autoreload 2"
   ]
  },
  {
   "cell_type": "code",
   "execution_count": 29,
   "metadata": {},
   "outputs": [],
   "source": [
    "readpath = '/Volumes/Aeroacoustics/_RawData/MicrophoneRecordings/200916/20200916_172042_TestNode_North9042 - Name that song plus cal tone.tdms'"
   ]
  },
  {
   "cell_type": "code",
   "execution_count": 34,
   "metadata": {},
   "outputs": [],
   "source": [
    "metadata = TdmsFile(readpath, read_metadata_only=True)"
   ]
  },
  {
   "cell_type": "code",
   "execution_count": 44,
   "metadata": {},
   "outputs": [
    {
     "name": "stderr",
     "output_type": "stream",
     "text": [
      "/Users/nhamilto/Documents/github/npTDMS/nptdms/tdms.py:1101: UserWarning: 'TdmsFile.objects' is deprecated and will be removed in a future release. Use TdmsFile.groups() to access all groups in the file, and group.channels() to access all channels in a group.\n",
      "  warnings.warn(message)\n"
     ]
    },
    {
     "data": {
      "text/plain": [
       "OrderedDict([('wf_start_time', numpy.datetime64('2020-09-16T23:20:42.900000')),\n",
       "             ('wf_start_offset', 0.0),\n",
       "             ('wf_increment', 1.9531738293457335e-05),\n",
       "             ('wf_samples', 5120),\n",
       "             ('NI_ChannelName', 'TestNode_North9042_MicAA'),\n",
       "             ('NI_UnitDescription', 'Pa'),\n",
       "             ('unit_string', 'Pa')])"
      ]
     },
     "execution_count": 44,
     "metadata": {},
     "output_type": "execute_result"
    }
   ],
   "source": [
    "metadata.objects[\"/'NodeData'/'TestNode_North9042_MicAA'\"].properties"
   ]
  },
  {
   "cell_type": "code",
   "execution_count": 24,
   "metadata": {},
   "outputs": [],
   "source": [
    "nodedat = test.groups()[0]"
   ]
  },
  {
   "cell_type": "code",
   "execution_count": 17,
   "metadata": {},
   "outputs": [
    {
     "name": "stderr",
     "output_type": "stream",
     "text": [
      "/Users/nhamilto/Documents/github/npTDMS/nptdms/tdms.py:1101: UserWarning: 'TdmsFile.objects' is deprecated and will be removed in a future release. Use TdmsFile.groups() to access all groups in the file, and group.channels() to access all channels in a group.\n",
      "  warnings.warn(message)\n"
     ]
    }
   ],
   "source": [
    "nodedat = test.objects[\"/'NodeData'\"]"
   ]
  },
  {
   "cell_type": "code",
   "execution_count": 28,
   "metadata": {},
   "outputs": [
    {
     "name": "stderr",
     "output_type": "stream",
     "text": [
      "/Users/nhamilto/Documents/github/npTDMS/nptdms/tdms.py:1101: UserWarning: 'TdmsGroup.channel' is deprecated and will be removed in a future release. This always returns None.\n",
      "  warnings.warn(message)\n"
     ]
    }
   ],
   "source": [
    "nodedat.channel"
   ]
  },
  {
   "cell_type": "code",
   "execution_count": null,
   "metadata": {},
   "outputs": [],
   "source": [
    "nodedat"
   ]
  },
  {
   "cell_type": "code",
   "execution_count": null,
   "metadata": {},
   "outputs": [],
   "source": []
  },
  {
   "cell_type": "code",
   "execution_count": null,
   "metadata": {},
   "outputs": [],
   "source": []
  },
  {
   "cell_type": "code",
   "execution_count": null,
   "metadata": {},
   "outputs": [],
   "source": []
  },
  {
   "cell_type": "code",
   "execution_count": 30,
   "metadata": {},
   "outputs": [],
   "source": [
    "noisedf, startTime = tw.read_noise_tdms(readpath)"
   ]
  },
  {
   "cell_type": "code",
   "execution_count": 33,
   "metadata": {},
   "outputs": [
    {
     "data": {
      "text/plain": [
       "'20200916_172042'"
      ]
     },
     "execution_count": 33,
     "metadata": {},
     "output_type": "execute_result"
    }
   ],
   "source": [
    "startTime"
   ]
  },
  {
   "cell_type": "code",
   "execution_count": 32,
   "metadata": {},
   "outputs": [
    {
     "data": {
      "text/html": [
       "<div>\n",
       "<style scoped>\n",
       "    .dataframe tbody tr th:only-of-type {\n",
       "        vertical-align: middle;\n",
       "    }\n",
       "\n",
       "    .dataframe tbody tr th {\n",
       "        vertical-align: top;\n",
       "    }\n",
       "\n",
       "    .dataframe thead th {\n",
       "        text-align: right;\n",
       "    }\n",
       "</style>\n",
       "<table border=\"1\" class=\"dataframe\">\n",
       "  <thead>\n",
       "    <tr style=\"text-align: right;\">\n",
       "      <th></th>\n",
       "      <th>/'NodeData'/'TestNode_North9042_MicAA'</th>\n",
       "      <th>/'NodeData'/'TestNode_North9042_MicIEV'</th>\n",
       "      <th>/'NodeData'/'TestNode_North9042_Mod4C0'</th>\n",
       "      <th>/'NodeData'/'TestNode_North9042_Mic4C1'</th>\n",
       "    </tr>\n",
       "  </thead>\n",
       "  <tbody>\n",
       "    <tr>\n",
       "      <th>0 days 00:00:00</th>\n",
       "      <td>0.029867</td>\n",
       "      <td>-1.514966</td>\n",
       "      <td>0.051973</td>\n",
       "      <td>0.051055</td>\n",
       "    </tr>\n",
       "    <tr>\n",
       "      <th>0 days 00:00:00.000019531</th>\n",
       "      <td>0.030306</td>\n",
       "      <td>-1.501199</td>\n",
       "      <td>0.058777</td>\n",
       "      <td>0.058497</td>\n",
       "    </tr>\n",
       "    <tr>\n",
       "      <th>0 days 00:00:00.000039062</th>\n",
       "      <td>0.029508</td>\n",
       "      <td>-1.464090</td>\n",
       "      <td>0.059535</td>\n",
       "      <td>0.059275</td>\n",
       "    </tr>\n",
       "    <tr>\n",
       "      <th>0 days 00:00:00.000058594</th>\n",
       "      <td>0.030107</td>\n",
       "      <td>-1.403637</td>\n",
       "      <td>0.044392</td>\n",
       "      <td>0.043534</td>\n",
       "    </tr>\n",
       "    <tr>\n",
       "      <th>0 days 00:00:00.000078125</th>\n",
       "      <td>0.029688</td>\n",
       "      <td>-1.321018</td>\n",
       "      <td>0.035972</td>\n",
       "      <td>0.034935</td>\n",
       "    </tr>\n",
       "  </tbody>\n",
       "</table>\n",
       "</div>"
      ],
      "text/plain": [
       "                           /'NodeData'/'TestNode_North9042_MicAA'  \\\n",
       "0 days 00:00:00                                          0.029867   \n",
       "0 days 00:00:00.000019531                                0.030306   \n",
       "0 days 00:00:00.000039062                                0.029508   \n",
       "0 days 00:00:00.000058594                                0.030107   \n",
       "0 days 00:00:00.000078125                                0.029688   \n",
       "\n",
       "                           /'NodeData'/'TestNode_North9042_MicIEV'  \\\n",
       "0 days 00:00:00                                          -1.514966   \n",
       "0 days 00:00:00.000019531                                -1.501199   \n",
       "0 days 00:00:00.000039062                                -1.464090   \n",
       "0 days 00:00:00.000058594                                -1.403637   \n",
       "0 days 00:00:00.000078125                                -1.321018   \n",
       "\n",
       "                           /'NodeData'/'TestNode_North9042_Mod4C0'  \\\n",
       "0 days 00:00:00                                           0.051973   \n",
       "0 days 00:00:00.000019531                                 0.058777   \n",
       "0 days 00:00:00.000039062                                 0.059535   \n",
       "0 days 00:00:00.000058594                                 0.044392   \n",
       "0 days 00:00:00.000078125                                 0.035972   \n",
       "\n",
       "                           /'NodeData'/'TestNode_North9042_Mic4C1'  \n",
       "0 days 00:00:00                                           0.051055  \n",
       "0 days 00:00:00.000019531                                 0.058497  \n",
       "0 days 00:00:00.000039062                                 0.059275  \n",
       "0 days 00:00:00.000058594                                 0.043534  \n",
       "0 days 00:00:00.000078125                                 0.034935  "
      ]
     },
     "execution_count": 32,
     "metadata": {},
     "output_type": "execute_result"
    }
   ],
   "source": [
    "noisedf.head()"
   ]
  },
  {
   "cell_type": "code",
   "execution_count": 27,
   "metadata": {},
   "outputs": [
    {
     "data": {
      "text/plain": [
       "'TestNode_North9042_MicAA'"
      ]
     },
     "execution_count": 27,
     "metadata": {},
     "output_type": "execute_result"
    }
   ],
   "source": [
    "noisedf.columns[0].split(\"'/'\")[-1].split(\"'\")[0]"
   ]
  },
  {
   "cell_type": "code",
   "execution_count": 31,
   "metadata": {},
   "outputs": [
    {
     "name": "stdout",
     "output_type": "stream",
     "text": [
      "Writing data to: /Volumes/Aeroacoustics/_ProcessedData/NoiseRecordings/20200916_172042_NOISE_channel_TestNode_North9042_MicAA.wav\n",
      "Writing data to: /Volumes/Aeroacoustics/_ProcessedData/NoiseRecordings/20200916_172042_NOISE_channel_TestNode_North9042_MicIEV.wav\n",
      "Writing data to: /Volumes/Aeroacoustics/_ProcessedData/NoiseRecordings/20200916_172042_NOISE_channel_TestNode_North9042_Mod4C0.wav\n",
      "Writing data to: /Volumes/Aeroacoustics/_ProcessedData/NoiseRecordings/20200916_172042_NOISE_channel_TestNode_North9042_Mic4C1.wav\n"
     ]
    }
   ],
   "source": [
    "tw.tdms2wav(noisedf, startTime, '/Volumes/Aeroacoustics/_ProcessedData/NoiseRecordings/')"
   ]
  },
  {
   "cell_type": "code",
   "execution_count": null,
   "metadata": {},
   "outputs": [],
   "source": [
    "#scipy.signal.spectrogram"
   ]
  }
 ],
 "metadata": {
  "kernelspec": {
   "display_name": "aero",
   "language": "python",
   "name": "aero"
  },
  "language_info": {
   "codemirror_mode": {
    "name": "ipython",
    "version": 3
   },
   "file_extension": ".py",
   "mimetype": "text/x-python",
   "name": "python",
   "nbconvert_exporter": "python",
   "pygments_lexer": "ipython3",
   "version": "3.7.6"
  }
 },
 "nbformat": 4,
 "nbformat_minor": 4
}
