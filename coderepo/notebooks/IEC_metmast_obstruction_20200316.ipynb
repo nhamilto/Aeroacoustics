{
 "cells": [
  {
   "cell_type": "code",
   "execution_count": 1,
   "metadata": {},
   "outputs": [],
   "source": [
    "import sys, os\n",
    "\n",
    "import numpy as np\n",
    "import utm\n",
    "import matplotlib.pyplot as plt\n",
    "plt.style.use('seaborn-deep')\n",
    "\n",
    "### some convenient magics\n",
    "%load_ext autoreload\n",
    "%autoreload 2"
   ]
  },
  {
   "cell_type": "markdown",
   "metadata": {},
   "source": [
    "# Annex A\n",
    "\n",
    "(normative)\n",
    "\n",
    "## Assessment of obstacles at the test site\n",
    "\n",
    "### A.1 Requirements regarding neighbouring and operating wind turbines\n",
    "\n",
    "The wind turbine under test and the meteorological mast shall not be influenced by\n",
    "neighbouring wind turbines. If a neighbouring turbine is operated at any time during the power\n",
    "performance test, its wake shall be determined and accounted for as described in this annex.\n",
    "If the turbine is stopped at all times during the power performance test, it shall be considered\n",
    "as an obstacle and accounted for as described in Clause A.2.\n",
    "\n",
    "The minimum distance from the wind turbine under test and the meteorological mast to\n",
    "neighbouring and operating wind turbines shall be two rotor diameters Dn of the neighbouring\n",
    "wind turbine or two rotor diameters of the wind turbine under test if it has a larger diameter.\n",
    "The sectors to exclude due to wakes from neighbouring and operating wind turbines shall be\n",
    "taken from Figure A.1. The dimensions to be taken into account are the actual distance Ln\n",
    "and the rotor diameter Dn of the neighbouring and operating wind turbine. The sectors to be\n",
    "excluded shall be derived for both the wind turbine under test and the meteorological mast,\n",
    "and they shall be centred on the direction from the neighbouring and operating wind turbine to\n",
    "the meteorological mast or the wind turbine. An example is shown in Figure A.2.\n",
    "\n",
    "### A.2 Requirements regarding obstacles\n",
    "\n",
    "No significant obstacles (e.g. buildings, trees, parked wind turbines) shall exist in the\n",
    "measurement sector within a reasonable distance from the wind turbine and meteorological\n",
    "mast. Only small buildings, connected to the wind turbine operation or the measurement\n",
    "equipment, are acceptable.\n",
    "\n",
    "An obstacle model is used to predict the influence of obstacles upon the mast and the turbine\n",
    "position at hub height. The criteria for determining a significant obstacle is that the flow is\n",
    "affected by 1 % or more between the turbine position at hub height and the met mast at hub\n",
    "height for any wind direction in the measurement sector.\n",
    "\n",
    "The influence of an obstacle on the met mast or turbine position at the height z is estimated\n",
    "by\n",
    "\n",
    "$$ \\Delta U_z / U_h = -9.75 ( 1 - P_0) \\frac{h}{x} \\eta \\ \\text{exp}(-0.67 \\eta^{1.5}) $$\n",
    "\n",
    "$$ \\eta = \\frac{H}{h} ( K \\frac{x}{h} ) ^{\\frac{-1}{n+2}} $$\n",
    "\n",
    "$$ K = \\frac{2 \\kappa^2}{ \\text{ln} \\frac{h}{z_0}} $$\n",
    "\n",
    "where\n",
    "\n",
    "$x$ distance downstream obstacle to met mast or wind turbine [m]\n",
    "\n",
    "$h$ height of obstacle [m]\n",
    "\n",
    "$U_h$ free wind speed at height h of obstacle [m/s]\n",
    "\n",
    "$n$ velocity profile exponent (n=0.14)\n",
    "\n",
    "$P_0$ porosity of obstacle (0: solid, 1: no obstacle)\n",
    "\n",
    "$H$ hub height [m]\n",
    "\n",
    "$z_0$ roughness length [m]\n",
    "\n",
    "$\\kappa$ von Karman constant 0.4\n",
    "\n",
    "\n",
    "Sectors with a significant obstacle shall be excluded with reference to Figure A.1. The\n",
    "dimensions to be taken into account are the actual distance $L_e$ and an equivalent rotor\n",
    "diameter $D_e$ of the obstacle. The equivalent rotor diameter of the obstacle shall be defined as:\n",
    "\n",
    "$$ D_e = \\frac{2l_h l_w}{l_h + l_w}$$\n",
    "\n",
    "$D_e$ is the equivalent rotor diameter;\n",
    "\n",
    "$l_h$ is the height of obstacle;\n",
    "\n",
    "$l_w$ is the width of obstacle."
   ]
  },
  {
   "cell_type": "code",
   "execution_count": 2,
   "metadata": {},
   "outputs": [],
   "source": [
    "# Define some covenient functions\n",
    "\n",
    "def dist(point1, point2):\n",
    "    return np.sqrt((point2[0] - point1[0]) ** 2 +  (point2[1] - point1[1]) ** 2)\n",
    "\n",
    "def angle(point1, point2):\n",
    "    return 270 - np.degrees(np.arctan2((point2[1] - point1[1]), (point2[0] - point1[0])))\n",
    "\n",
    "def influence(x, h, H, P0=0, z0=0.01, n=0.14, kappa=0.4):\n",
    "    K = bigK(h, z0=z0, kappa=kappa)\n",
    "    etaval = eta(H, h, K, x, n=n, kappa=kappa, z0=z0)\n",
    "    return -9.75 * (1 - P0) * h / x * etaval * np.exp( -0.67 * etaval ** 1.5)\n",
    "\n",
    "def eta(H, h, K, x, n=0.14, kappa=0.4, z0=0.01):\n",
    "    return H/h * (K * x/h) ** (-1/(n + 2))\n",
    "\n",
    "def bigK(h, z0=0.01, kappa=0.4):\n",
    "    return 2 * kappa**2 / np.log( h / z0)"
   ]
  },
  {
   "cell_type": "code",
   "execution_count": 3,
   "metadata": {},
   "outputs": [],
   "source": [
    "# Lat/long coordinates\n",
    "latlongpoints = {'alstom': (39.91054, -105.22141),\n",
    "        'met2D': (39.91077, -105.22047),\n",
    "        'met15D': (39.9111, -105.22035),\n",
    "        'met1D': (39.91144, -105.22023)}\n",
    "\n",
    "utmpoints = {k: utm.from_latlon(*v) for k,v in latlongpoints.items()}"
   ]
  },
  {
   "cell_type": "code",
   "execution_count": 4,
   "metadata": {},
   "outputs": [],
   "source": [
    "# parameter values\n",
    "\n",
    "h = 3.5 # m, best guess for height of alstom obstruction\n",
    "\n",
    "lh = h # m, best guess for height of alstom obstruction\n",
    "lw = 2 # m, best guess for width of alstom obstruction\n",
    "De = 2 * (lh * lw) / (lh + lw)\n",
    "\n",
    "H = 10 # m Height of anemometer on temp met mast"
   ]
  },
  {
   "cell_type": "code",
   "execution_count": 11,
   "metadata": {},
   "outputs": [
    {
     "name": "stdout",
     "output_type": "stream",
     "text": [
      "met2D\n",
      "Relative distance Le/De = 33.11820847770487\n",
      "Disturbed Sector = 26.519033417968817\n",
      "influence = -0.07048598641407475\n",
      "excluded angles = (239.25555652485843, 265.7745899428273)\n",
      "\n",
      "met15D\n",
      "Relative distance Le/De = 43.16305568298347\n",
      "Disturbed Sector = 25.269259977211508\n",
      "influence = -0.07512189583447282\n",
      "excluded angles = (223.05578813208956, 248.32504810930106)\n",
      "\n",
      "met1D\n",
      "Relative distance Le/De = 55.766169045976746\n",
      "Disturbed Sector = 24.33227619548289\n",
      "influence = -0.07426605284677366\n",
      "excluded angles = (213.25109180287103, 237.58336799835394)\n",
      "\n"
     ]
    }
   ],
   "source": [
    "# calculate influence of alstom on met mast and wind directions to exclude at various locations\n",
    "excluded_angles = {}\n",
    "keys = [k for k in utmpoints if 'met' in k]\n",
    "\n",
    "for k in keys:\n",
    "       \n",
    "    print(k)\n",
    "    Le = dist(utmpoints['alstom'], utmpoints[k])\n",
    "    print('Relative distance Le/De =', Le/De)\n",
    "\n",
    "    ang = angle(utmpoints['alstom'], utmpoints[k])\n",
    "    alpha = 1.3 * np.degrees(np.arctan(2.5 * De/Le + 0.15)) + 10\n",
    "    print('Disturbed Sector =', alpha)\n",
    "    \n",
    "    inf = influence(Le, h, H)\n",
    "    print('influence =', inf)\n",
    "    \n",
    "    excluded_angles[k] = (ang - alpha/2, ang + alpha/2)\n",
    "    print('excluded angles =', excluded_angles[k])\n",
    "    \n",
    "    print()\n"
   ]
  },
  {
   "cell_type": "code",
   "execution_count": 9,
   "metadata": {},
   "outputs": [
    {
     "data": {
      "image/png": "[encoded data removed]",
      "text/plain": [
       "<Figure size 432x288 with 1 Axes>"
      ]
     },
     "metadata": {
      "needs_background": "light"
     },
     "output_type": "display_data"
    }
   ],
   "source": [
    "fig = plt.figure()\n",
    "ax = fig.add_subplot(111, projection='polar')\n",
    "ax.set_theta_direction(-1)\n",
    "ax.set_theta_offset(np.pi/2.0)\n",
    "\n",
    "for ii, k in enumerate(keys):\n",
    "    \n",
    "    sec = ax.axvspan(np.radians(excluded_angles[k][0]), \n",
    "                     np.radians(excluded_angles[k][1]), \n",
    "                     alpha=0.75, \n",
    "                     color='C{}'.format(ii), \n",
    "                     label=k,\n",
    "                    )\n",
    "    \n",
    "ax.axvline(np.radians(285), ls='--', c='k', label='Prevailing direction')\n",
    "ax.legend(loc=6, bbox_to_anchor=(1,0.5))\n",
    "ax.set_title('Wind Directions to exclude',va='bottom', pad=10)\n",
    "\n",
    "plt.tight_layout()"
   ]
  },
  {
   "cell_type": "code",
   "execution_count": null,
   "metadata": {},
   "outputs": [],
   "source": []
  }
 ],
 "metadata": {
  "kernelspec": {
   "display_name": "aero",
   "language": "python",
   "name": "aero"
  },
  "language_info": {
   "codemirror_mode": {
    "name": "ipython",
    "version": 3
   },
   "file_extension": ".py",
   "mimetype": "text/x-python",
   "name": "python",
   "nbconvert_exporter": "python",
   "pygments_lexer": "ipython3",
   "version": "3.7.6"
  }
 },
 "nbformat": 4,
 "nbformat_minor": 4
}
