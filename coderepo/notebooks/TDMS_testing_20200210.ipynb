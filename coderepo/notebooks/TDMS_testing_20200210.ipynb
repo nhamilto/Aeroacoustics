{
 "cells": [
  {
   "cell_type": "code",
   "execution_count": 1,
   "metadata": {},
   "outputs": [],
   "source": [
    "import sys, os\n",
    "\n",
    "import numpy as np\n",
    "import pandas as pd\n",
    "from nptdms import TdmsFile\n",
    "from dateutil.relativedelta import relativedelta\n",
    "from datetime import datetime\n",
    "\n",
    "### plotting libs\n",
    "import matplotlib.pyplot as plt\n",
    "plt.style.use('seaborn-colorblind')\n",
    "\n",
    "### some convenient magics\n",
    "%load_ext autoreload\n",
    "%autoreload 2\n",
    "\n",
    "### Directory setup\n",
    "cwd = os.getcwd()\n",
    "datapath = os.path.abspath(os.path.join(cwd, '../../data/'))\n",
    "figpath = os.path.abspath(os.path.join(cwd, 'figs/'))"
   ]
  },
  {
   "cell_type": "code",
   "execution_count": 12,
   "metadata": {},
   "outputs": [],
   "source": [
    "filename = os.path.join(datapath, 'DOE15_SlowData_2020_02_10_14_34_59_1Hz.tdms')\n",
    "tdms_file = TdmsFile(filename)\n",
    "\n",
    "channels = ['LabVIEW Timestamp','Windspeed_87m','WD1_87m']+['WD_Mod_Active','WD_Nacelle','WD_Nacelle_Mod']\n",
    "\n",
    "dataset = {channel: tdms_file.object('SlowData', channel).data for channel in channels}\n",
    "dataset['LabVIEW Timestamp'] = [datetime.fromtimestamp(x- 2082844800) for x in dataset['LabVIEW Timestamp']]\n",
    "dataset = pd.DataFrame.from_dict(dataset)\n",
    "dataset = dataset.set_index('LabVIEW Timestamp')"
   ]
  },
  {
   "cell_type": "code",
   "execution_count": 24,
   "metadata": {},
   "outputs": [
    {
     "data": {
      "text/plain": [
       "array([2., 2., 2., ..., 2., 2., 2.])"
      ]
     },
     "execution_count": 24,
     "metadata": {},
     "output_type": "execute_result"
    }
   ],
   "source": [
    "tdms_file.object('SlowData', 'OPC_OpCtl_TurbineStatus').data \n",
    "# Should be == 2 for active, == 0 for background noise\n"
   ]
  },
  {
   "cell_type": "code",
   "execution_count": 23,
   "metadata": {},
   "outputs": [
    {
     "data": {
      "text/html": [
       "<div>\n",
       "<style scoped>\n",
       "    .dataframe tbody tr th:only-of-type {\n",
       "        vertical-align: middle;\n",
       "    }\n",
       "\n",
       "    .dataframe tbody tr th {\n",
       "        vertical-align: top;\n",
       "    }\n",
       "\n",
       "    .dataframe thead th {\n",
       "        text-align: right;\n",
       "    }\n",
       "</style>\n",
       "<table border=\"1\" class=\"dataframe\">\n",
       "  <thead>\n",
       "    <tr style=\"text-align: right;\">\n",
       "      <th></th>\n",
       "      <th>Windspeed_87m</th>\n",
       "      <th>WD1_87m</th>\n",
       "      <th>WD_Mod_Active</th>\n",
       "      <th>WD_Nacelle</th>\n",
       "      <th>WD_Nacelle_Mod</th>\n",
       "    </tr>\n",
       "    <tr>\n",
       "      <th>LabVIEW Timestamp</th>\n",
       "      <th></th>\n",
       "      <th></th>\n",
       "      <th></th>\n",
       "      <th></th>\n",
       "      <th></th>\n",
       "    </tr>\n",
       "  </thead>\n",
       "  <tbody>\n",
       "    <tr>\n",
       "      <th>2020-02-10 14:34:59.500</th>\n",
       "      <td>4.893892</td>\n",
       "      <td>159.343230</td>\n",
       "      <td>1.0</td>\n",
       "      <td>NaN</td>\n",
       "      <td>NaN</td>\n",
       "    </tr>\n",
       "    <tr>\n",
       "      <th>2020-02-10 14:35:00.500</th>\n",
       "      <td>4.860565</td>\n",
       "      <td>160.504132</td>\n",
       "      <td>1.0</td>\n",
       "      <td>NaN</td>\n",
       "      <td>NaN</td>\n",
       "    </tr>\n",
       "    <tr>\n",
       "      <th>2020-02-10 14:35:01.500</th>\n",
       "      <td>4.946382</td>\n",
       "      <td>155.384846</td>\n",
       "      <td>1.0</td>\n",
       "      <td>NaN</td>\n",
       "      <td>NaN</td>\n",
       "    </tr>\n",
       "    <tr>\n",
       "      <th>2020-02-10 14:35:02.500</th>\n",
       "      <td>4.976383</td>\n",
       "      <td>154.345168</td>\n",
       "      <td>1.0</td>\n",
       "      <td>NaN</td>\n",
       "      <td>NaN</td>\n",
       "    </tr>\n",
       "    <tr>\n",
       "      <th>2020-02-10 14:35:03.500</th>\n",
       "      <td>4.761951</td>\n",
       "      <td>154.056960</td>\n",
       "      <td>1.0</td>\n",
       "      <td>NaN</td>\n",
       "      <td>NaN</td>\n",
       "    </tr>\n",
       "  </tbody>\n",
       "</table>\n",
       "</div>"
      ],
      "text/plain": [
       "                         Windspeed_87m     WD1_87m  WD_Mod_Active  WD_Nacelle  \\\n",
       "LabVIEW Timestamp                                                               \n",
       "2020-02-10 14:34:59.500       4.893892  159.343230            1.0         NaN   \n",
       "2020-02-10 14:35:00.500       4.860565  160.504132            1.0         NaN   \n",
       "2020-02-10 14:35:01.500       4.946382  155.384846            1.0         NaN   \n",
       "2020-02-10 14:35:02.500       4.976383  154.345168            1.0         NaN   \n",
       "2020-02-10 14:35:03.500       4.761951  154.056960            1.0         NaN   \n",
       "\n",
       "                         WD_Nacelle_Mod  \n",
       "LabVIEW Timestamp                        \n",
       "2020-02-10 14:34:59.500             NaN  \n",
       "2020-02-10 14:35:00.500             NaN  \n",
       "2020-02-10 14:35:01.500             NaN  \n",
       "2020-02-10 14:35:02.500             NaN  \n",
       "2020-02-10 14:35:03.500             NaN  "
      ]
     },
     "execution_count": 23,
     "metadata": {},
     "output_type": "execute_result"
    }
   ],
   "source": [
    "dataset.head(5)"
   ]
  },
  {
   "cell_type": "code",
   "execution_count": 35,
   "metadata": {},
   "outputs": [],
   "source": [
    "all_channels = [v.channel for k,v in tdms_file.objects.items()]"
   ]
  },
  {
   "cell_type": "code",
   "execution_count": 4,
   "metadata": {},
   "outputs": [],
   "source": [
    "data1T = dataset.resample('1T').mean()\n",
    "\n",
    "wdbins = np.arange(100, 201, 10)\n",
    "wsbins = np.arange(2,7.1) + 0.5"
   ]
  },
  {
   "cell_type": "code",
   "execution_count": 5,
   "metadata": {},
   "outputs": [
    {
     "data": {
      "image/png": "[encoded data removed]",
      "text/plain": [
       "<Figure size 360x216 with 2 Axes>"
      ]
     },
     "metadata": {
      "needs_background": "light"
     },
     "output_type": "display_data"
    }
   ],
   "source": [
    "fig, ax = plt.subplots(figsize=(5,3))\n",
    "\n",
    "dataset['Windspeed_87m'].plot(ax=ax, c='C0')\n",
    "# ax.plot(timestamp, windspeed, c='C0')\n",
    "ax.set_xlabel('Datetime')\n",
    "ax.set_ylabel('Wind Speed [m/s]', c='C0')\n",
    "\n",
    "ax2=ax.twinx()\n",
    "dataset['WD1_87m'].plot(ax=ax2, c='C1')\n",
    "# ax2.plot(timestamp, winddirection, c='C1')\n",
    "ax2.set_ylabel('Wind Direction [$^\\circ$]', c='C1')\n",
    "\n",
    "plt.tight_layout()"
   ]
  },
  {
   "cell_type": "code",
   "execution_count": 6,
   "metadata": {},
   "outputs": [
    {
     "data": {
      "image/png": "[encoded data removed]",
      "text/plain": [
       "<Figure size 432x288 with 2 Axes>"
      ]
     },
     "metadata": {
      "needs_background": "light"
     },
     "output_type": "display_data"
    }
   ],
   "source": [
    "fig, ax = plt.subplots()\n",
    "\n",
    "cpct,_,_,counts = ax.hist2d(data1T[channels[1]], data1T[channels[2]], [wsbins, wdbins], cmap='plasma')\n",
    "\n",
    "for i in range(len(wdbins)-1):\n",
    "    for j in range(len(wsbins)-1):\n",
    "        ax.text(wsbins[j]+0.5, wdbins[i]+5, np.int(cpct.T[i,j]), \n",
    "                color=\"w\", ha=\"center\", va=\"center\", fontweight=\"bold\")\n",
    "\n",
    "plt.colorbar(counts, ax=ax, label='Number of 1-min Obs.')\n",
    "ax.set_xlabel('Wind Speed Bin [m/s]')\n",
    "ax.set_ylabel('Wind Direction Bin [$^\\circ$]')\n",
    "\n",
    "plt.tight_layout()\n"
   ]
  },
  {
   "cell_type": "code",
   "execution_count": null,
   "metadata": {},
   "outputs": [],
   "source": []
  },
  {
   "cell_type": "code",
   "execution_count": null,
   "metadata": {},
   "outputs": [],
   "source": []
  }
 ],
 "metadata": {
  "kernelspec": {
   "display_name": "Python 3",
   "language": "python",
   "name": "python3"
  },
  "language_info": {
   "codemirror_mode": {
    "name": "ipython",
    "version": 3
   },
   "file_extension": ".py",
   "mimetype": "text/x-python",
   "name": "python",
   "nbconvert_exporter": "python",
   "pygments_lexer": "ipython3",
   "version": "3.7.6"
  }
 },
 "nbformat": 4,
 "nbformat_minor": 4
}
