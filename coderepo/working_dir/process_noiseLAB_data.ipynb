{
 "cells": [
  {
   "cell_type": "markdown",
   "metadata": {},
   "source": [
    "# Import new noiseLAB data into main dataset"
   ]
  },
  {
   "cell_type": "code",
   "execution_count": 1,
   "metadata": {},
   "outputs": [],
   "source": [
    "import sys\n",
    "import os\n",
    "import numpy as np\n",
    "import pandas as pd\n",
    "import matplotlib.pyplot as plt\n",
    "import pickle\n",
    "from nptdms import TdmsFile\n",
    "import imp\n",
    "import seaborn as sns\n",
    "\n",
    "from aeroacoustics import dataset as ds\n",
    "from aeroacoustics import read_data_files as rd"
   ]
  },
  {
   "cell_type": "code",
   "execution_count": 2,
   "metadata": {},
   "outputs": [
    {
     "data": {
      "text/plain": [
       "<module 'aeroacoustics.dataset' from '/Users/esimley/Documents/Code/Aeroacoustics/coderepo/aeroacoustics/dataset.py'>"
      ]
     },
     "execution_count": 2,
     "metadata": {},
     "output_type": "execute_result"
    }
   ],
   "source": [
    "imp.reload(rd)\n",
    "imp.reload(ds)"
   ]
  },
  {
   "cell_type": "code",
   "execution_count": 3,
   "metadata": {},
   "outputs": [
    {
     "name": "stdout",
     "output_type": "stream",
     "text": [
      "Using matplotlib backend: MacOSX\n"
     ]
    }
   ],
   "source": [
    "%matplotlib"
   ]
  },
  {
   "cell_type": "markdown",
   "metadata": {},
   "source": [
    "## Parameters"
   ]
  },
  {
   "cell_type": "code",
   "execution_count": 4,
   "metadata": {},
   "outputs": [],
   "source": [
    "# root_dir_noiselab='/Volumes/Aeroacoustics/_ProcessedData/SliceData'\n",
    "root_dir_noiselab='/Volumes/Aeroacoustics/NoiseLAB/DOE15AeroacousticsProject/Results/Tables'\n",
    "root_dir_tdms='/Volumes/Tests/_raw data/Slow'\n",
    "\n",
    "# list_filename='noiseLAB_files.p'\n",
    "# dataset_file='aeroacoustics_dataset.p'\n",
    "\n",
    "list_filename='/Volumes/Aeroacoustics/_ProcessedData/Dataset/noiseLAB_files.p'\n",
    "list_filename_unweighted='/Volumes/Aeroacoustics/_ProcessedData/Dataset/noiseLAB_files_unweighted.p'\n",
    "dataset_file='/Volumes/Aeroacoustics/_ProcessedData/Dataset/aeroacoustics_dataset.p'\n",
    "dataset_file_unweighted='/Volumes/Aeroacoustics/_ProcessedData/Dataset/aeroacoustics_dataset_unweighted.p'\n",
    "# dataset_file='aeroacoustics_dataset.p'\n",
    "\n",
    "list_filename_fft='/Volumes/Aeroacoustics/_ProcessedData/Dataset/noiseLAB_files_fft.p'\n",
    "list_filename_fft_unweighted='/Volumes/Aeroacoustics/_ProcessedData/Dataset/noiseLAB_files_fft_unweighted.p'\n",
    "dataset_file_fft='/Volumes/Aeroacoustics/_ProcessedData/Dataset/aeroacoustics_dataset_fft.p'\n",
    "dataset_file_fft_unweighted='/Volumes/Aeroacoustics/_ProcessedData/Dataset/aeroacoustics_dataset_fft_unweighted.p'\n",
    "# dataset_file_fft='aeroacoustics_dataset_fft.p'\n",
    "\n",
    "fig_dir = '/Volumes/Aeroacoustics/_ProcessedData/Figures'"
   ]
  },
  {
   "cell_type": "markdown",
   "metadata": {},
   "source": [
    "## Reinitialize aeroacoustics dataset"
   ]
  },
  {
   "cell_type": "code",
   "execution_count": null,
   "metadata": {},
   "outputs": [],
   "source": [
    "df = pd.DataFrame()\n",
    "# df.to_pickle(dataset_file)\n",
    "df.to_pickle(dataset_file_unweighted)\n",
    "\n",
    "files = []\n",
    "# pickle.dump( files, open( list_filename, \"wb\" ) )\n",
    "pickle.dump( files, open( list_filename_unweighted, \"wb\" ) )\n"
   ]
  },
  {
   "cell_type": "markdown",
   "metadata": {},
   "source": [
    "### Only FFT"
   ]
  },
  {
   "cell_type": "code",
   "execution_count": null,
   "metadata": {},
   "outputs": [],
   "source": [
    "df = pd.DataFrame()\n",
    "df.to_pickle(dataset_file_fft)\n",
    "\n",
    "files = []\n",
    "pickle.dump( files, open( list_filename_fft, \"wb\" ) )"
   ]
  },
  {
   "cell_type": "markdown",
   "metadata": {},
   "source": [
    "## Check for new noiseLAB files"
   ]
  },
  {
   "cell_type": "code",
   "execution_count": 5,
   "metadata": {},
   "outputs": [
    {
     "name": "stdout",
     "output_type": "stream",
     "text": [
      "['noiseLAB_20210204_151151.xls']\n",
      "['noiseLAB_20210204_151151_FFT.xls']\n",
      "['noiseLAB_20210204_151151_unweighted.xls']\n"
     ]
    }
   ],
   "source": [
    "files_new = ds.identify_NoiseLabSlice_to_add(list_filename,root_dir=root_dir_noiselab)\n",
    "\n",
    "files_new = [f for f in files_new if ('FFT' not in f) & ('unweighted' not in f)]\n",
    "print(files_new)\n",
    "\n",
    "files_new_fft = ds.identify_NoiseLabSlice_to_add(list_filename_fft,root_dir=root_dir_noiselab)\n",
    "\n",
    "files_new_fft = [f for f in files_new_fft if ('FFT' in f) & ('unweighted' not in f)]\n",
    "print(files_new_fft)\n",
    "\n",
    "files_new_unweighted = ds.identify_NoiseLabSlice_to_add(list_filename_unweighted,root_dir=root_dir_noiselab)\n",
    "\n",
    "files_new_unweighted = [f for f in files_new_unweighted if ('FFT' not in f) & ('unweighted' in f)]\n",
    "print(files_new_unweighted)"
   ]
  },
  {
   "cell_type": "markdown",
   "metadata": {},
   "source": [
    "## Add new files to dataset"
   ]
  },
  {
   "cell_type": "markdown",
   "metadata": {},
   "source": [
    "This combines the noiseLAB slice data with the SCADA and met data from tdms files, then adds the new data to the master dataset"
   ]
  },
  {
   "cell_type": "markdown",
   "metadata": {},
   "source": [
    "### Third octave bands"
   ]
  },
  {
   "cell_type": "code",
   "execution_count": null,
   "metadata": {},
   "outputs": [],
   "source": [
    "files = pickle.load( open( list_filename, \"rb\" ) )\n",
    "print(files)"
   ]
  },
  {
   "cell_type": "code",
   "execution_count": null,
   "metadata": {},
   "outputs": [],
   "source": [
    "for i_f, f in enumerate(files_new):\n",
    "    print('File '+str(i_f)+' out of '+str(len(files_new)))\n",
    "    print(f)\n",
    "    file_status = ds.process_NoiseLabSlice_file(f,root_dir_noiselab=root_dir_noiselab,\n",
    "                                                       root_dir_tdms=root_dir_tdms,\n",
    "                                                       dataset_file=dataset_file)\n",
    "    \n",
    "    if file_status == 1:\n",
    "        files.append(f)\n",
    "        \n",
    "    pickle.dump( files, open( list_filename, \"wb\" ) )"
   ]
  },
  {
   "cell_type": "markdown",
   "metadata": {},
   "source": [
    "### FFT Spectrum"
   ]
  },
  {
   "cell_type": "code",
   "execution_count": null,
   "metadata": {},
   "outputs": [],
   "source": [
    "files = pickle.load( open( list_filename_fft, \"rb\" ) )\n",
    "print(files)"
   ]
  },
  {
   "cell_type": "code",
   "execution_count": null,
   "metadata": {},
   "outputs": [],
   "source": [
    "for i_f, f in enumerate(files_new_fft):\n",
    "    print('File '+str(i_f)+' out of '+str(len(files_new_fft)))\n",
    "    print(f)\n",
    "    file_status = ds.process_NoiseLabSlice_file(f,root_dir_noiselab=root_dir_noiselab,\n",
    "                                                       root_dir_tdms=root_dir_tdms,\n",
    "                                                       dataset_file=dataset_file_fft,\n",
    "                                                       third_octave=False)\n",
    "    \n",
    "    if file_status == 1:\n",
    "        files.append(f)\n",
    "        \n",
    "    pickle.dump( files, open( list_filename_fft, \"wb\" ) )"
   ]
  },
  {
   "cell_type": "markdown",
   "metadata": {},
   "source": [
    "### Unweighted third octave bands"
   ]
  },
  {
   "cell_type": "code",
   "execution_count": 29,
   "metadata": {},
   "outputs": [
    {
     "name": "stdout",
     "output_type": "stream",
     "text": [
      "['noiseLAB_20201201_095608_unweighted.xls', 'noiseLAB_20201201_102609_unweighted.xls', 'noiseLAB_20201201_105609_unweighted.xls', 'noiseLAB_20201201_112609_unweighted.xls', 'noiseLAB_20201201_115609_unweighted.xls', 'noiseLAB_20201201_123745_unweighted.xls', 'noiseLAB_20201201_130746_unweighted.xls', 'noiseLAB_20201201_133746_unweighted.xls', 'noiseLAB_20201201_140746_unweighted.xls', 'noiseLAB_20201222_120243_unweighted.xls', 'noiseLAB_20201222_123243_unweighted.xls', 'noiseLAB_20201222_130244_unweighted.xls', 'noiseLAB_20201222_133244_unweighted.xls', 'noiseLAB_20210105_145844_unweighted.xls', 'noiseLAB_20210105_152844_unweighted.xls', 'noiseLAB_20210105_155844_unweighted.xls', 'noiseLAB_20210105_162844_unweighted.xls', 'noiseLAB_20210105_165844_unweighted.xls', 'noiseLAB_20210105_172845_unweighted.xls', 'noiseLAB_20210105_175845_unweighted.xls', 'noiseLAB_20210105_182845_unweighted.xls', 'noiseLAB_20210105_185846_unweighted.xls', 'noiseLAB_20210105_192846_unweighted.xls', 'noiseLAB_20210105_195846_unweighted.xls', 'noiseLAB_20210105_202846_unweighted.xls', 'noiseLAB_20210105_205846_unweighted.xls', 'noiseLAB_20210105_212847_unweighted.xls', 'noiseLAB_20210105_215847_unweighted.xls', 'noiseLAB_20210105_222847_unweighted.xls', 'noiseLAB_20210105_225847_unweighted.xls', 'noiseLAB_20210105_232848_unweighted.xls', 'noiseLAB_20210105_235848_unweighted.xls']\n"
     ]
    }
   ],
   "source": [
    "files = pickle.load( open( list_filename_unweighted, \"rb\" ) )\n",
    "print(files)"
   ]
  },
  {
   "cell_type": "code",
   "execution_count": null,
   "metadata": {},
   "outputs": [],
   "source": [
    "for i_f, f in enumerate(files_new_unweighted):\n",
    "    print('File '+str(i_f)+' out of '+str(len(files_new_unweighted)))\n",
    "    print(f)\n",
    "    file_status = ds.process_NoiseLabSlice_file(f,root_dir_noiselab=root_dir_noiselab,\n",
    "                                                       root_dir_tdms=root_dir_tdms,\n",
    "                                                       dataset_file=dataset_file_unweighted,\n",
    "                                                       unweighted=True)\n",
    "    \n",
    "    if file_status == 1:\n",
    "        files.append(f)\n",
    "        \n",
    "    pickle.dump( files, open( list_filename_unweighted, \"wb\" ) )"
   ]
  },
  {
   "cell_type": "code",
   "execution_count": 6,
   "metadata": {},
   "outputs": [],
   "source": [
    "df = pd.read_pickle(dataset_file)"
   ]
  },
  {
   "cell_type": "code",
   "execution_count": 7,
   "metadata": {},
   "outputs": [
    {
     "data": {
      "text/html": [
       "<div>\n",
       "<style scoped>\n",
       "    .dataframe tbody tr th:only-of-type {\n",
       "        vertical-align: middle;\n",
       "    }\n",
       "\n",
       "    .dataframe tbody tr th {\n",
       "        vertical-align: top;\n",
       "    }\n",
       "\n",
       "    .dataframe thead th {\n",
       "        text-align: right;\n",
       "    }\n",
       "</style>\n",
       "<table border=\"1\" class=\"dataframe\">\n",
       "  <thead>\n",
       "    <tr style=\"text-align: right;\">\n",
       "      <th></th>\n",
       "      <th>01N_Leq</th>\n",
       "      <th>02N_Leq</th>\n",
       "      <th>03N_Leq</th>\n",
       "      <th>04C_Leq</th>\n",
       "      <th>05C_Leq</th>\n",
       "      <th>06S_Leq</th>\n",
       "      <th>07S_Leq</th>\n",
       "      <th>08S_Leq</th>\n",
       "      <th>11N_Leq</th>\n",
       "      <th>12C_Leq</th>\n",
       "      <th>...</th>\n",
       "      <th>EGD_In_RotorSpd</th>\n",
       "      <th>EGD_In_WindSpd</th>\n",
       "      <th>EGD_OpCtl_TurbineFullState</th>\n",
       "      <th>EGD_OpCtl_TurbineOperationState</th>\n",
       "      <th>EGD_OpCtl_TurbineStatus</th>\n",
       "      <th>EGD_Out_CalcTrbineStateSCADA</th>\n",
       "      <th>EGD_Out_TurbineStatusSCADA</th>\n",
       "      <th>EGD_W_In_WtgBrake</th>\n",
       "      <th>EGD_Yaw_PositionToNorth</th>\n",
       "      <th>Yaw_Offset_Cmd</th>\n",
       "    </tr>\n",
       "    <tr>\n",
       "      <th>time</th>\n",
       "      <th></th>\n",
       "      <th></th>\n",
       "      <th></th>\n",
       "      <th></th>\n",
       "      <th></th>\n",
       "      <th></th>\n",
       "      <th></th>\n",
       "      <th></th>\n",
       "      <th></th>\n",
       "      <th></th>\n",
       "      <th></th>\n",
       "      <th></th>\n",
       "      <th></th>\n",
       "      <th></th>\n",
       "      <th></th>\n",
       "      <th></th>\n",
       "      <th></th>\n",
       "      <th></th>\n",
       "      <th></th>\n",
       "      <th></th>\n",
       "      <th></th>\n",
       "    </tr>\n",
       "  </thead>\n",
       "  <tbody>\n",
       "    <tr>\n",
       "      <th>2020-12-01 09:56:18</th>\n",
       "      <td>49.43</td>\n",
       "      <td>45.89</td>\n",
       "      <td>48.24</td>\n",
       "      <td>50.77</td>\n",
       "      <td>46.39</td>\n",
       "      <td>51.42</td>\n",
       "      <td>49.24</td>\n",
       "      <td>47.97</td>\n",
       "      <td>48.75</td>\n",
       "      <td>48.57</td>\n",
       "      <td>...</td>\n",
       "      <td>18.3030</td>\n",
       "      <td>8.1319</td>\n",
       "      <td>30.0</td>\n",
       "      <td>10.0</td>\n",
       "      <td>2.0</td>\n",
       "      <td>1.0</td>\n",
       "      <td>2.0</td>\n",
       "      <td>0.0</td>\n",
       "      <td>104.000000</td>\n",
       "      <td>0.023291</td>\n",
       "    </tr>\n",
       "    <tr>\n",
       "      <th>2020-12-01 09:56:28</th>\n",
       "      <td>49.00</td>\n",
       "      <td>45.28</td>\n",
       "      <td>47.96</td>\n",
       "      <td>50.26</td>\n",
       "      <td>45.70</td>\n",
       "      <td>50.74</td>\n",
       "      <td>48.98</td>\n",
       "      <td>47.20</td>\n",
       "      <td>48.26</td>\n",
       "      <td>48.06</td>\n",
       "      <td>...</td>\n",
       "      <td>18.3294</td>\n",
       "      <td>8.5696</td>\n",
       "      <td>30.0</td>\n",
       "      <td>10.0</td>\n",
       "      <td>2.0</td>\n",
       "      <td>1.0</td>\n",
       "      <td>2.0</td>\n",
       "      <td>0.0</td>\n",
       "      <td>104.000000</td>\n",
       "      <td>-0.025674</td>\n",
       "    </tr>\n",
       "    <tr>\n",
       "      <th>2020-12-01 09:56:38</th>\n",
       "      <td>48.01</td>\n",
       "      <td>44.66</td>\n",
       "      <td>46.97</td>\n",
       "      <td>49.48</td>\n",
       "      <td>45.62</td>\n",
       "      <td>49.80</td>\n",
       "      <td>48.00</td>\n",
       "      <td>46.39</td>\n",
       "      <td>47.29</td>\n",
       "      <td>47.33</td>\n",
       "      <td>...</td>\n",
       "      <td>18.3553</td>\n",
       "      <td>9.1073</td>\n",
       "      <td>30.0</td>\n",
       "      <td>10.0</td>\n",
       "      <td>2.0</td>\n",
       "      <td>1.0</td>\n",
       "      <td>2.0</td>\n",
       "      <td>0.0</td>\n",
       "      <td>104.000000</td>\n",
       "      <td>-0.006084</td>\n",
       "    </tr>\n",
       "    <tr>\n",
       "      <th>2020-12-01 09:56:48</th>\n",
       "      <td>48.00</td>\n",
       "      <td>44.68</td>\n",
       "      <td>46.92</td>\n",
       "      <td>49.17</td>\n",
       "      <td>45.13</td>\n",
       "      <td>49.42</td>\n",
       "      <td>47.68</td>\n",
       "      <td>46.18</td>\n",
       "      <td>47.03</td>\n",
       "      <td>47.31</td>\n",
       "      <td>...</td>\n",
       "      <td>18.3079</td>\n",
       "      <td>10.2166</td>\n",
       "      <td>30.0</td>\n",
       "      <td>10.0</td>\n",
       "      <td>2.0</td>\n",
       "      <td>1.0</td>\n",
       "      <td>2.0</td>\n",
       "      <td>0.0</td>\n",
       "      <td>104.000000</td>\n",
       "      <td>-0.040721</td>\n",
       "    </tr>\n",
       "    <tr>\n",
       "      <th>2020-12-01 09:56:58</th>\n",
       "      <td>48.34</td>\n",
       "      <td>45.41</td>\n",
       "      <td>47.21</td>\n",
       "      <td>49.33</td>\n",
       "      <td>45.21</td>\n",
       "      <td>49.53</td>\n",
       "      <td>47.71</td>\n",
       "      <td>46.41</td>\n",
       "      <td>47.59</td>\n",
       "      <td>47.73</td>\n",
       "      <td>...</td>\n",
       "      <td>18.2184</td>\n",
       "      <td>9.5183</td>\n",
       "      <td>30.0</td>\n",
       "      <td>10.0</td>\n",
       "      <td>2.0</td>\n",
       "      <td>1.0</td>\n",
       "      <td>2.0</td>\n",
       "      <td>0.0</td>\n",
       "      <td>104.000000</td>\n",
       "      <td>-0.031700</td>\n",
       "    </tr>\n",
       "    <tr>\n",
       "      <th>...</th>\n",
       "      <td>...</td>\n",
       "      <td>...</td>\n",
       "      <td>...</td>\n",
       "      <td>...</td>\n",
       "      <td>...</td>\n",
       "      <td>...</td>\n",
       "      <td>...</td>\n",
       "      <td>...</td>\n",
       "      <td>...</td>\n",
       "      <td>...</td>\n",
       "      <td>...</td>\n",
       "      <td>...</td>\n",
       "      <td>...</td>\n",
       "      <td>...</td>\n",
       "      <td>...</td>\n",
       "      <td>...</td>\n",
       "      <td>...</td>\n",
       "      <td>...</td>\n",
       "      <td>...</td>\n",
       "      <td>...</td>\n",
       "      <td>...</td>\n",
       "    </tr>\n",
       "    <tr>\n",
       "      <th>2021-01-05 22:57:57</th>\n",
       "      <td>NaN</td>\n",
       "      <td>NaN</td>\n",
       "      <td>NaN</td>\n",
       "      <td>37.68</td>\n",
       "      <td>39.40</td>\n",
       "      <td>33.02</td>\n",
       "      <td>33.03</td>\n",
       "      <td>32.30</td>\n",
       "      <td>NaN</td>\n",
       "      <td>40.85</td>\n",
       "      <td>...</td>\n",
       "      <td>18.3470</td>\n",
       "      <td>17.1322</td>\n",
       "      <td>30.0</td>\n",
       "      <td>10.0</td>\n",
       "      <td>2.0</td>\n",
       "      <td>1.0</td>\n",
       "      <td>2.0</td>\n",
       "      <td>0.0</td>\n",
       "      <td>76.000000</td>\n",
       "      <td>-17.939208</td>\n",
       "    </tr>\n",
       "    <tr>\n",
       "      <th>2021-01-05 22:58:07</th>\n",
       "      <td>NaN</td>\n",
       "      <td>NaN</td>\n",
       "      <td>NaN</td>\n",
       "      <td>37.58</td>\n",
       "      <td>37.52</td>\n",
       "      <td>32.71</td>\n",
       "      <td>32.32</td>\n",
       "      <td>31.26</td>\n",
       "      <td>NaN</td>\n",
       "      <td>39.28</td>\n",
       "      <td>...</td>\n",
       "      <td>18.0515</td>\n",
       "      <td>16.0532</td>\n",
       "      <td>30.0</td>\n",
       "      <td>10.0</td>\n",
       "      <td>2.0</td>\n",
       "      <td>1.0</td>\n",
       "      <td>2.0</td>\n",
       "      <td>0.0</td>\n",
       "      <td>76.000000</td>\n",
       "      <td>-17.968928</td>\n",
       "    </tr>\n",
       "    <tr>\n",
       "      <th>2021-01-05 22:58:17</th>\n",
       "      <td>NaN</td>\n",
       "      <td>NaN</td>\n",
       "      <td>NaN</td>\n",
       "      <td>36.85</td>\n",
       "      <td>36.74</td>\n",
       "      <td>31.76</td>\n",
       "      <td>30.87</td>\n",
       "      <td>30.39</td>\n",
       "      <td>NaN</td>\n",
       "      <td>38.75</td>\n",
       "      <td>...</td>\n",
       "      <td>18.3444</td>\n",
       "      <td>14.5729</td>\n",
       "      <td>30.0</td>\n",
       "      <td>10.0</td>\n",
       "      <td>2.0</td>\n",
       "      <td>1.0</td>\n",
       "      <td>2.0</td>\n",
       "      <td>0.0</td>\n",
       "      <td>79.000000</td>\n",
       "      <td>-17.994478</td>\n",
       "    </tr>\n",
       "    <tr>\n",
       "      <th>2021-01-05 22:58:27</th>\n",
       "      <td>NaN</td>\n",
       "      <td>NaN</td>\n",
       "      <td>NaN</td>\n",
       "      <td>36.57</td>\n",
       "      <td>37.84</td>\n",
       "      <td>31.85</td>\n",
       "      <td>30.74</td>\n",
       "      <td>30.84</td>\n",
       "      <td>NaN</td>\n",
       "      <td>38.66</td>\n",
       "      <td>...</td>\n",
       "      <td>18.3914</td>\n",
       "      <td>14.3683</td>\n",
       "      <td>30.0</td>\n",
       "      <td>10.0</td>\n",
       "      <td>2.0</td>\n",
       "      <td>1.0</td>\n",
       "      <td>2.0</td>\n",
       "      <td>0.0</td>\n",
       "      <td>83.800029</td>\n",
       "      <td>-18.000060</td>\n",
       "    </tr>\n",
       "    <tr>\n",
       "      <th>2021-01-05 22:58:37</th>\n",
       "      <td>NaN</td>\n",
       "      <td>NaN</td>\n",
       "      <td>NaN</td>\n",
       "      <td>41.30</td>\n",
       "      <td>41.31</td>\n",
       "      <td>NaN</td>\n",
       "      <td>NaN</td>\n",
       "      <td>NaN</td>\n",
       "      <td>NaN</td>\n",
       "      <td>41.29</td>\n",
       "      <td>...</td>\n",
       "      <td>18.2836</td>\n",
       "      <td>14.0043</td>\n",
       "      <td>30.0</td>\n",
       "      <td>10.0</td>\n",
       "      <td>2.0</td>\n",
       "      <td>1.0</td>\n",
       "      <td>2.0</td>\n",
       "      <td>0.0</td>\n",
       "      <td>84.000000</td>\n",
       "      <td>-17.982342</td>\n",
       "    </tr>\n",
       "  </tbody>\n",
       "</table>\n",
       "<p>4975 rows × 88 columns</p>\n",
       "</div>"
      ],
      "text/plain": [
       "                     01N_Leq  02N_Leq  03N_Leq  04C_Leq  05C_Leq  06S_Leq  \\\n",
       "time                                                                        \n",
       "2020-12-01 09:56:18    49.43    45.89    48.24    50.77    46.39    51.42   \n",
       "2020-12-01 09:56:28    49.00    45.28    47.96    50.26    45.70    50.74   \n",
       "2020-12-01 09:56:38    48.01    44.66    46.97    49.48    45.62    49.80   \n",
       "2020-12-01 09:56:48    48.00    44.68    46.92    49.17    45.13    49.42   \n",
       "2020-12-01 09:56:58    48.34    45.41    47.21    49.33    45.21    49.53   \n",
       "...                      ...      ...      ...      ...      ...      ...   \n",
       "2021-01-05 22:57:57      NaN      NaN      NaN    37.68    39.40    33.02   \n",
       "2021-01-05 22:58:07      NaN      NaN      NaN    37.58    37.52    32.71   \n",
       "2021-01-05 22:58:17      NaN      NaN      NaN    36.85    36.74    31.76   \n",
       "2021-01-05 22:58:27      NaN      NaN      NaN    36.57    37.84    31.85   \n",
       "2021-01-05 22:58:37      NaN      NaN      NaN    41.30    41.31      NaN   \n",
       "\n",
       "                     07S_Leq  08S_Leq  11N_Leq  12C_Leq  ...  EGD_In_RotorSpd  \\\n",
       "time                                                     ...                    \n",
       "2020-12-01 09:56:18    49.24    47.97    48.75    48.57  ...          18.3030   \n",
       "2020-12-01 09:56:28    48.98    47.20    48.26    48.06  ...          18.3294   \n",
       "2020-12-01 09:56:38    48.00    46.39    47.29    47.33  ...          18.3553   \n",
       "2020-12-01 09:56:48    47.68    46.18    47.03    47.31  ...          18.3079   \n",
       "2020-12-01 09:56:58    47.71    46.41    47.59    47.73  ...          18.2184   \n",
       "...                      ...      ...      ...      ...  ...              ...   \n",
       "2021-01-05 22:57:57    33.03    32.30      NaN    40.85  ...          18.3470   \n",
       "2021-01-05 22:58:07    32.32    31.26      NaN    39.28  ...          18.0515   \n",
       "2021-01-05 22:58:17    30.87    30.39      NaN    38.75  ...          18.3444   \n",
       "2021-01-05 22:58:27    30.74    30.84      NaN    38.66  ...          18.3914   \n",
       "2021-01-05 22:58:37      NaN      NaN      NaN    41.29  ...          18.2836   \n",
       "\n",
       "                    EGD_In_WindSpd EGD_OpCtl_TurbineFullState  \\\n",
       "time                                                            \n",
       "2020-12-01 09:56:18         8.1319                       30.0   \n",
       "2020-12-01 09:56:28         8.5696                       30.0   \n",
       "2020-12-01 09:56:38         9.1073                       30.0   \n",
       "2020-12-01 09:56:48        10.2166                       30.0   \n",
       "2020-12-01 09:56:58         9.5183                       30.0   \n",
       "...                            ...                        ...   \n",
       "2021-01-05 22:57:57        17.1322                       30.0   \n",
       "2021-01-05 22:58:07        16.0532                       30.0   \n",
       "2021-01-05 22:58:17        14.5729                       30.0   \n",
       "2021-01-05 22:58:27        14.3683                       30.0   \n",
       "2021-01-05 22:58:37        14.0043                       30.0   \n",
       "\n",
       "                    EGD_OpCtl_TurbineOperationState EGD_OpCtl_TurbineStatus  \\\n",
       "time                                                                          \n",
       "2020-12-01 09:56:18                            10.0                     2.0   \n",
       "2020-12-01 09:56:28                            10.0                     2.0   \n",
       "2020-12-01 09:56:38                            10.0                     2.0   \n",
       "2020-12-01 09:56:48                            10.0                     2.0   \n",
       "2020-12-01 09:56:58                            10.0                     2.0   \n",
       "...                                             ...                     ...   \n",
       "2021-01-05 22:57:57                            10.0                     2.0   \n",
       "2021-01-05 22:58:07                            10.0                     2.0   \n",
       "2021-01-05 22:58:17                            10.0                     2.0   \n",
       "2021-01-05 22:58:27                            10.0                     2.0   \n",
       "2021-01-05 22:58:37                            10.0                     2.0   \n",
       "\n",
       "                    EGD_Out_CalcTrbineStateSCADA EGD_Out_TurbineStatusSCADA  \\\n",
       "time                                                                          \n",
       "2020-12-01 09:56:18                          1.0                        2.0   \n",
       "2020-12-01 09:56:28                          1.0                        2.0   \n",
       "2020-12-01 09:56:38                          1.0                        2.0   \n",
       "2020-12-01 09:56:48                          1.0                        2.0   \n",
       "2020-12-01 09:56:58                          1.0                        2.0   \n",
       "...                                          ...                        ...   \n",
       "2021-01-05 22:57:57                          1.0                        2.0   \n",
       "2021-01-05 22:58:07                          1.0                        2.0   \n",
       "2021-01-05 22:58:17                          1.0                        2.0   \n",
       "2021-01-05 22:58:27                          1.0                        2.0   \n",
       "2021-01-05 22:58:37                          1.0                        2.0   \n",
       "\n",
       "                    EGD_W_In_WtgBrake EGD_Yaw_PositionToNorth Yaw_Offset_Cmd  \n",
       "time                                                                          \n",
       "2020-12-01 09:56:18               0.0              104.000000       0.023291  \n",
       "2020-12-01 09:56:28               0.0              104.000000      -0.025674  \n",
       "2020-12-01 09:56:38               0.0              104.000000      -0.006084  \n",
       "2020-12-01 09:56:48               0.0              104.000000      -0.040721  \n",
       "2020-12-01 09:56:58               0.0              104.000000      -0.031700  \n",
       "...                               ...                     ...            ...  \n",
       "2021-01-05 22:57:57               0.0               76.000000     -17.939208  \n",
       "2021-01-05 22:58:07               0.0               76.000000     -17.968928  \n",
       "2021-01-05 22:58:17               0.0               79.000000     -17.994478  \n",
       "2021-01-05 22:58:27               0.0               83.800029     -18.000060  \n",
       "2021-01-05 22:58:37               0.0               84.000000     -17.982342  \n",
       "\n",
       "[4975 rows x 88 columns]"
      ]
     },
     "execution_count": 7,
     "metadata": {},
     "output_type": "execute_result"
    }
   ],
   "source": [
    "df"
   ]
  },
  {
   "cell_type": "code",
   "execution_count": 10,
   "metadata": {},
   "outputs": [
    {
     "data": {
      "text/plain": [
       "Index(['01N_Leq', '02N_Leq', '03N_Leq', '04C_Leq', '05C_Leq', '06S_Leq',\n",
       "       '07S_Leq', '08S_Leq', '11N_Leq', '12C_Leq', '13S_Leq',\n",
       "       '01N_third_octave_spectrum', '02N_third_octave_spectrum',\n",
       "       '03N_third_octave_spectrum', '04C_third_octave_spectrum',\n",
       "       '05C_third_octave_spectrum', '06S_third_octave_spectrum',\n",
       "       '07S_third_octave_spectrum', '08S_third_octave_spectrum',\n",
       "       '11N_third_octave_spectrum', '12C_third_octave_spectrum',\n",
       "       '13S_third_octave_spectrum', 'MS Excel Timestamp', 'LabVIEW Timestamp',\n",
       "       'Scan Errors', 'Late Scans', 'SCADA_nacelleWS', 'Hum1', 'Temp1', 'Hum2',\n",
       "       'Temp2', 'Windspeed_38m', 'Windspeed_55m', 'Windspeed_87m', 'WD1_87m',\n",
       "       'Air_Press_2', 'Air_Press_1', 'Wind_Direction_38m', 'WindSpeed_80m',\n",
       "       'Precipitation', 'Tower Base Bend 1', 'Tower Base Bend 2',\n",
       "       'Tower Base Torque', 'Active Power', 'Reactive Power', 'Power Factor',\n",
       "       'Windspeed_AeroA_10m', 'TowerTopBending_0', 'TowerTopBending_90',\n",
       "       'TowerTopTorque', 'TowerTopDCAccel_NS', 'TowerTopDCAccel_EW', 'LSS RPM',\n",
       "       'HSS RPM', 'NacelleWindSpeed', 'Mainshaft_Downwind_Bend_0',\n",
       "       'Mainshaft_Downwind_Bend_90', 'Mainshaft_Downwind_Torque', 'AzimuthAO',\n",
       "       'Blade_1_Flap', 'Blade_1_Edge', 'Blade_2_Flap', 'Blade_2_Edge',\n",
       "       'Blade_3_Flap', 'Blade_3_Edge', 'Pitch_Blade2', 'Azimuth',\n",
       "       'Yaw_Encoder', 'Pitch_Blade1', 'WD_Mod_Active', 'WD_Nacelle',\n",
       "       'WD_Nacelle_Mod', 'EGD_AI_CuTorqueAct', 'EGD_AI_In_GridMonRealPowerAct',\n",
       "       'EGD_AI_In_PitchAngleCurrent1', 'EGD_AI_In_PitchAngleCurrent2',\n",
       "       'EGD_AI_In_PitchAngleCurrent3', 'EGD_DI_In_TBDiscBrakeClosed',\n",
       "       'EGD_In_RotorSpd', 'EGD_In_WindSpd', 'EGD_OpCtl_TurbineFullState',\n",
       "       'EGD_OpCtl_TurbineOperationState', 'EGD_OpCtl_TurbineStatus',\n",
       "       'EGD_Out_CalcTrbineStateSCADA', 'EGD_Out_TurbineStatusSCADA',\n",
       "       'EGD_W_In_WtgBrake', 'EGD_Yaw_PositionToNorth', 'Yaw_Offset_Cmd'],\n",
       "      dtype='object')"
      ]
     },
     "execution_count": 10,
     "metadata": {},
     "output_type": "execute_result"
    }
   ],
   "source": [
    "df.columns"
   ]
  },
  {
   "cell_type": "code",
   "execution_count": 11,
   "metadata": {},
   "outputs": [
    {
     "data": {
      "text/plain": [
       "[<matplotlib.lines.Line2D at 0x7f8a27a59b10>]"
      ]
     },
     "execution_count": 11,
     "metadata": {},
     "output_type": "execute_result"
    }
   ],
   "source": [
    "plt.figure()\n",
    "plt.plot(df['Yaw_Offset_Cmd'])\n"
   ]
  },
  {
   "cell_type": "code",
   "execution_count": 26,
   "metadata": {},
   "outputs": [
    {
     "data": {
      "text/plain": [
       "[<matplotlib.lines.Line2D at 0x7ffdd13d4610>]"
      ]
     },
     "execution_count": 26,
     "metadata": {},
     "output_type": "execute_result"
    }
   ],
   "source": [
    "plt.figure()\n",
    "# plt.plot(df['Active Power'])\n",
    "# plt.plot(df['WindSpeed_80m'])\n",
    "# plt.plot(df['Active Power'].values)\n",
    "# plt.plot(df['EGD_OpCtl_TurbineFullState'].values)\n",
    "# plt.plot(df['EGD_OpCtl_TurbineOperationState'].values)\n",
    "# plt.plot(df['EGD_OpCtl_TurbineStatus'].values)\n",
    "# plt.plot(df['EGD_Out_CalcTrbineStateSCADA'].values)\n",
    "# plt.plot(df['EGD_Out_TurbineStatusSCADA'].values)\n",
    "# plt.plot(df['EGD_Yaw_PositionToNorth'],'r')\n",
    "# plt.plot(df['Yaw_Encoder'])\n",
    "# plt.plot(df['WD1_87m'])\n",
    "# plt.plot(df['Wind_Direction_38m'])\n",
    "# plt.scatter(df['WindSpeed_80m'],df['01N_Leq'])\n",
    "plt.plot(df['Active Power'])\n",
    "plt.plot(df['Yaw_Offset_Cmd'])"
   ]
  },
  {
   "cell_type": "code",
   "execution_count": null,
   "metadata": {},
   "outputs": [],
   "source": []
  },
  {
   "cell_type": "code",
   "execution_count": null,
   "metadata": {},
   "outputs": [],
   "source": [
    "plt.figure()\n",
    "plt.plot(df['01N_Leq'])"
   ]
  },
  {
   "cell_type": "code",
   "execution_count": null,
   "metadata": {},
   "outputs": [],
   "source": [
    "# df_unw = pd.read_pickle(dataset_file_unweighted)\n",
    "# df_unw = pd.read_pickle(dataset_file)\n",
    "df_unw = pickle.load( open( dataset_file, \"rb\" ) )\n",
    "# df_unw = pd.read_pickle(list_filename)"
   ]
  },
  {
   "cell_type": "code",
   "execution_count": null,
   "metadata": {},
   "outputs": [],
   "source": [
    "df_unw"
   ]
  },
  {
   "cell_type": "code",
   "execution_count": null,
   "metadata": {},
   "outputs": [],
   "source": [
    "df_fft.tail()"
   ]
  },
  {
   "cell_type": "markdown",
   "metadata": {},
   "source": [
    "## Summarize data"
   ]
  },
  {
   "cell_type": "code",
   "execution_count": 25,
   "metadata": {},
   "outputs": [],
   "source": [
    "df = pd.read_pickle(dataset_file_unweighted)\n",
    "# df = pd.read_pickle(dataset_file)\n",
    "# df = pd.read_pickle(dataset_file_fft)"
   ]
  },
  {
   "cell_type": "code",
   "execution_count": 32,
   "metadata": {},
   "outputs": [],
   "source": [
    "df_filt = df.copy()\n",
    "\n",
    "# df_filt['ws_round'] = df_filt['WindSpeed_80m'].round()\n",
    "# df_filt['Yaw_Offset_Cmd'] = -1*df_filt['Yaw_Offset_Cmd']\n",
    "# df_filt['Yaw_Offset_Cmd_Bin'] = 0.\n",
    "# df_filt.loc[df_filt['Yaw_Offset_Cmd'] < -9.,'Yaw_Offset_Cmd_Bin'] = -18.\n",
    "# df_filt.loc[(df_filt['Yaw_Offset_Cmd'] >= 5.) & (df_filt['Yaw_Offset_Cmd'] < 14.),'Yaw_Offset_Cmd_Bin'] = 10.\n",
    "# df_filt.loc[(df_filt['Yaw_Offset_Cmd'] >= 14.) & (df_filt['Yaw_Offset_Cmd'] < 21.5),'Yaw_Offset_Cmd_Bin'] = 18.\n",
    "# df_filt.loc[df_filt['Yaw_Offset_Cmd'] >= 21.5,'Yaw_Offset_Cmd_Bin'] = 25."
   ]
  },
  {
   "cell_type": "markdown",
   "metadata": {},
   "source": [
    "### Correct yaw offset bins"
   ]
  },
  {
   "cell_type": "code",
   "execution_count": 33,
   "metadata": {},
   "outputs": [],
   "source": [
    "df_filt.loc[(df_filt.index >= '2021-01-05 17:30:00') & (df_filt.index < '2021-01-05 17:55:00'),'Yaw_Offset_Cmd_Bin'] = 10.\n",
    "df_filt.loc[(df_filt.index >= '2021-01-05 18:00:00') & (df_filt.index < '2021-01-05 18:26:00'),'Yaw_Offset_Cmd_Bin'] = 18.\n",
    "df_filt.loc[(df_filt.index >= '2021-01-05 18:29:00') & (df_filt.index < '2021-01-05 18:55:00'),'Yaw_Offset_Cmd_Bin'] = 25.\n",
    "df_filt.loc[(df_filt.index >= '2021-01-05 19:00:00') & (df_filt.index < '2021-01-05 19:20:00'),'Yaw_Offset_Cmd_Bin'] = -18.\n",
    "df_filt.loc[(df_filt.index >= '2021-01-05 19:40:00') & (df_filt.index < '2021-01-05 19:50:00'),'Yaw_Offset_Cmd_Bin'] = 10.\n",
    "df_filt.loc[(df_filt.index >= '2021-01-05 20:00:00') & (df_filt.index < '2021-01-05 20:20:00'),'Yaw_Offset_Cmd_Bin'] = 18.\n",
    "df_filt.loc[(df_filt.index >= '2021-01-05 23:22:00') & (df_filt.index < '2021-01-05 23:26:30'),'Yaw_Offset_Cmd_Bin'] = -18.\n",
    "df_filt.loc[(df_filt.index >= '2021-01-05 23:28:00') & (df_filt.index < '2021-01-05 23:31:00'),'Yaw_Offset_Cmd_Bin'] = 10.\n",
    "df_filt.loc[(df_filt.index >= '2021-01-28 10:00:00') & (df_filt.index < '2021-01-28 13:25:00'),'Yaw_Offset_Cmd_Bin'] = 0.\n",
    "df_filt.loc[(df_filt.index >= '2021-02-04 10:45:00') & (df_filt.index < '2021-02-04 11:05:00'),'Yaw_Offset_Cmd_Bin'] = 0.\n",
    "df_filt.loc[(df_filt.index >= '2021-02-04 11:25:00') & (df_filt.index < '2021-02-04 11:39:00'),'Yaw_Offset_Cmd_Bin'] = 10.\n",
    "df_filt.loc[(df_filt.index >= '2021-02-04 17:20:00') & (df_filt.index < '2021-02-04 17:35:00'),'Yaw_Offset_Cmd_Bin'] = 18.\n",
    "df_filt.loc[(df_filt.index >= '2021-02-04 19:06:00') & (df_filt.index < '2021-02-04 19:30:00'),'Yaw_Offset_Cmd_Bin'] = 10.\n",
    "df_filt.loc[(df_filt.index >= '2021-02-04 22:10:00') & (df_filt.index < '2021-02-04 22:30:00'),'Yaw_Offset_Cmd_Bin'] = 18.\n",
    "df_filt.loc[(df_filt.index >= '2021-02-05 00:37:00') & (df_filt.index < '2021-02-05 01:05:00'),'Yaw_Offset_Cmd_Bin'] = 18.\n",
    "df_filt.loc[(df_filt.index >= '2021-02-05 01:15:00') & (df_filt.index < '2021-02-05 01:30:00'),'Yaw_Offset_Cmd_Bin'] = 10."
   ]
  },
  {
   "cell_type": "markdown",
   "metadata": {},
   "source": [
    "### Filter data"
   ]
  },
  {
   "cell_type": "code",
   "execution_count": 34,
   "metadata": {},
   "outputs": [],
   "source": [
    "use_any_WD_background = True\n",
    "\n",
    "# df_filt = df.copy()\n",
    "\n",
    "# get rid of spurious offset commands\n",
    "# df_filt.loc[df_filt.index < '2021-01-01','Yaw_Offset_Cmd_Bin'] = 0.\n",
    "\n",
    "# filter to remove 5 minutes after a yaw offset command change\n",
    "change_points = df_filt.loc[df_filt['Yaw_Offset_Cmd_Bin'].diff().abs() > 0].index\n",
    "for d in change_points:\n",
    "    df_filt = df_filt[(df_filt.index < d) | (df_filt.index >= d + pd.Timedelta('5 min'))]\n",
    "\n",
    "# create derived signals\n",
    "df_filt['Turbine Operating'] = (df_filt['EGD_OpCtl_TurbineStatus'] == 2)\n",
    "# catch operation based on power too, and remove from dataset\n",
    "df_filt = df_filt[(df_filt['Active Power'] < 10) | df_filt['Turbine Operating']]\n",
    "\n",
    "# This should catch cases where the yaw offset command is NaN beause the turbine is not running\n",
    "df_filt.loc[~df_filt['Turbine Operating'],'Yaw_Offset_Cmd_Bin'] = 0.\n",
    "df_filt['Yaw_Position_Normal'] = (df_filt['Yaw_Encoder'] + df_filt['Yaw_Offset_Cmd_Bin']) % 360.\n",
    "\n",
    "# filter to yaw position +/- 15 degrees from 285\n",
    "df_filt['Direction Valid'] = (df_filt['Yaw_Position_Normal'] >= 270.) & (df_filt['Yaw_Position_Normal'] <= 300.)\n",
    "\n",
    "if use_any_WD_background:\n",
    "    df_filt = df_filt[df_filt['Direction Valid'] | ~df_filt['Turbine Operating']]\n",
    "else:\n",
    "    df_filt = df_filt[df_filt['Direction Valid']]\n",
    "\n",
    "# filter to rows when all mics are available\n",
    "cols2check = ['01N_Leq', '02N_Leq', '03N_Leq', '04C_Leq', '05C_Leq', '06S_Leq', '07S_Leq', '08S_Leq', '11N_Leq', '12C_Leq', '13S_Leq']\n",
    "# df_filt = df_filt.dropna(subset=cols2check)"
   ]
  },
  {
   "cell_type": "code",
   "execution_count": 23,
   "metadata": {},
   "outputs": [
    {
     "data": {
      "text/plain": [
       "[<matplotlib.lines.Line2D at 0x7ffdd1648e50>]"
      ]
     },
     "execution_count": 23,
     "metadata": {},
     "output_type": "execute_result"
    }
   ],
   "source": [
    "plt.figure()\n",
    "plt.plot(df_filt['Yaw_Position_Normal'])\n",
    "plt.plot(df_filt['Wind_Direction_38m'])\n",
    "# plt.plot(df_filt['WD1_87m'],'r')\n",
    "plt.plot(df_filt['Active Power'],'k')"
   ]
  },
  {
   "cell_type": "markdown",
   "metadata": {},
   "source": [
    "### Plot histograms by offset"
   ]
  },
  {
   "cell_type": "code",
   "execution_count": 32,
   "metadata": {},
   "outputs": [],
   "source": [
    "df_filt = df_filt.dropna(subset=cols2check)"
   ]
  },
  {
   "cell_type": "code",
   "execution_count": 35,
   "metadata": {},
   "outputs": [
    {
     "name": "stderr",
     "output_type": "stream",
     "text": [
      "/Users/esimley/opt/anaconda3/lib/python3.7/site-packages/seaborn/distributions.py:2557: FutureWarning: `distplot` is a deprecated function and will be removed in a future version. Please adapt your code to use either `displot` (a figure-level function with similar flexibility) or `histplot` (an axes-level function for histograms).\n",
      "  warnings.warn(msg, FutureWarning)\n",
      "/Users/esimley/opt/anaconda3/lib/python3.7/site-packages/seaborn/distributions.py:2557: FutureWarning: `distplot` is a deprecated function and will be removed in a future version. Please adapt your code to use either `displot` (a figure-level function with similar flexibility) or `histplot` (an axes-level function for histograms).\n",
      "  warnings.warn(msg, FutureWarning)\n",
      "/Users/esimley/opt/anaconda3/lib/python3.7/site-packages/seaborn/distributions.py:2557: FutureWarning: `distplot` is a deprecated function and will be removed in a future version. Please adapt your code to use either `displot` (a figure-level function with similar flexibility) or `histplot` (an axes-level function for histograms).\n",
      "  warnings.warn(msg, FutureWarning)\n",
      "/Users/esimley/opt/anaconda3/lib/python3.7/site-packages/seaborn/distributions.py:2557: FutureWarning: `distplot` is a deprecated function and will be removed in a future version. Please adapt your code to use either `displot` (a figure-level function with similar flexibility) or `histplot` (an axes-level function for histograms).\n",
      "  warnings.warn(msg, FutureWarning)\n",
      "/Users/esimley/opt/anaconda3/lib/python3.7/site-packages/seaborn/distributions.py:2557: FutureWarning: `distplot` is a deprecated function and will be removed in a future version. Please adapt your code to use either `displot` (a figure-level function with similar flexibility) or `histplot` (an axes-level function for histograms).\n",
      "  warnings.warn(msg, FutureWarning)\n",
      "/Users/esimley/opt/anaconda3/lib/python3.7/site-packages/seaborn/distributions.py:2557: FutureWarning: `distplot` is a deprecated function and will be removed in a future version. Please adapt your code to use either `displot` (a figure-level function with similar flexibility) or `histplot` (an axes-level function for histograms).\n",
      "  warnings.warn(msg, FutureWarning)\n"
     ]
    }
   ],
   "source": [
    "\n",
    "ws_col = 'WindSpeed_80m'\n",
    "\n",
    "yaw_offset_targets = [0.,-18.,10.,18.,25.]\n",
    "\n",
    "bins_dist = np.arange(3.5,20.5,1.)\n",
    "\n",
    "\n",
    "fig,axs = plt.subplots(3,2,sharex=True,sharey = True,figsize=(10,9.25))\n",
    "\n",
    "for i, yaw_offset_target in enumerate(yaw_offset_targets):\n",
    "    sns.distplot(df_filt.loc[(df_filt['Yaw_Offset_Cmd_Bin'] == yaw_offset_target) & df_filt['Turbine Operating'],ws_col],bins=bins_dist,kde=False,norm_hist=False,label='Turbine Operating',color='b',ax=axs[i % 3][int(i/3)])\n",
    "#     sns.distplot(df_filt.loc[(df_filt['Yaw_Offset_Cmd_Bin'] == yaw_offset_target) & (~df_filt['Turbine Operating']),ws_col],bins=bins_dist,kde=False,norm_hist=False,label='Background',color='g',ax=axs[i % 3][int(i/3)])\n",
    "    axs[i % 3][int(i/3)].set_title('Yaw Offset: '+str(yaw_offset_target))\n",
    "#     axs[i % 3][int(i/3)].legend()\n",
    "    axs[i % 3][int(i/3)].grid()\n",
    "    axs[i % 3][int(i/3)].plot(bins_dist,10*np.ones_like(bins_dist),'k--')\n",
    "\n",
    "sns.distplot(df_filt.loc[(~df_filt['Turbine Operating']),ws_col],bins=bins_dist,kde=False,norm_hist=False,label='Background',color='b',ax=axs[2][1])\n",
    "axs[2][1].set_title('Background')\n",
    "axs[2][1].grid()\n",
    "axs[2][1].plot(bins_dist,10*np.ones_like(bins_dist),'k--')\n",
    "axs[2][1].set_xlabel('Wind Speed (m/s)')\n",
    "axs[2][0].set_xlabel('Wind Speed (m/s)')\n",
    "\n",
    "\n",
    "axs[0][0].set_ylabel('10 s Slice Count')\n",
    "axs[1][0].set_ylabel('10 s Slice Count')\n",
    "axs[2][0].set_ylabel('10 s Slice Count')\n",
    "\n",
    "axs[0][0].set_xlim((bins_dist[0],bins_dist[-1]))\n",
    "\n",
    "datestr = 'Dates Included:\\n'\n",
    "for d in np.unique(df.index.date):\n",
    "    datestr = datestr+str(d)+'\\n'\n",
    "\n",
    "axs[2][1].text(0.05,0.9,datestr,fontsize=12,verticalalignment='top',transform=axs[2][1].transAxes)\n",
    "\n",
    "plt.tight_layout()    \n",
    "    \n",
    "    \n",
    "fig.savefig(os.path.join(fig_dir,'DataCollection_Summary.pdf'), bbox_inches='tight')"
   ]
  },
  {
   "cell_type": "code",
   "execution_count": 10,
   "metadata": {},
   "outputs": [
    {
     "data": {
      "text/plain": [
       "<matplotlib.collections.PathCollection at 0x7fb18fac4a90>"
      ]
     },
     "execution_count": 10,
     "metadata": {},
     "output_type": "execute_result"
    }
   ],
   "source": [
    "plt.figure()\n",
    "plt.scatter(df_filt.loc[~df_filt['Turbine Operating'],'NacelleWindSpeed'],df_filt.loc[~df_filt['Turbine Operating'],'Active Power'])\n",
    "plt.scatter(df_filt.loc[~df_filt['Turbine Operating'],ws_col],df_filt.loc[~df_filt['Turbine Operating'],'Active Power'])\n",
    "# plt.scatter(df_filt.loc[~df_filt['Turbine Operating'],'NacelleWindSpeed'],df_filt.loc[~df_filt['Turbine Operating'],'LSS RPM'])\n",
    "# plt.scatter(df_filt.loc[~df_filt['Turbine Operating'],ws_col],df_filt.loc[~df_filt['Turbine Operating'],'LSS RPM'])\n"
   ]
  },
  {
   "cell_type": "code",
   "execution_count": 27,
   "metadata": {},
   "outputs": [
    {
     "data": {
      "text/plain": [
       "<matplotlib.collections.PathCollection at 0x7fb19005e2d0>"
      ]
     },
     "execution_count": 27,
     "metadata": {},
     "output_type": "execute_result"
    }
   ],
   "source": [
    "plt.figure()\n",
    "# plt.scatter(df['WindSpeed_80m'],df['Active Power'])\n",
    "plt.scatter(df_filt['WindSpeed_80m'],df_filt['12C_Leq'])"
   ]
  },
  {
   "cell_type": "code",
   "execution_count": 24,
   "metadata": {},
   "outputs": [
    {
     "data": {
      "text/plain": [
       "[<matplotlib.lines.Line2D at 0x7fb1912467d0>]"
      ]
     },
     "execution_count": 24,
     "metadata": {},
     "output_type": "execute_result"
    }
   ],
   "source": [
    "plt.figure()\n",
    "# plt.plot(df['Yaw_Offset_Cmd_Bin'])\n",
    "# plt.plot(df[ws_col])\n",
    "for k in [3,4,9]:\n",
    "    plt.plot(df_filt[cols2check[k]])\n",
    "plt.plot(df_filt['Active Power'])\n",
    "plt.plot(df_filt['Yaw_Offset_Cmd_Bin'])\n",
    "# plt.plot(df['Yaw_Offset_Cmd'])\n",
    "# plt.plot(df['WD_Nacelle'])\n",
    "# plt.plot(df['Yaw_Encoder'],label='Yaw Encoder')\n",
    "# plt.plot(df['Yaw_Position_Normal'],label='Yaw_Position_Normal')\n",
    "# # plt.plot(df['WD1_87m'],label='WD1_87m')\n",
    "# plt.plot(df['Wind_Direction_38m'],label='Wind_Direction_38m')\n",
    "# plt.legend()"
   ]
  },
  {
   "cell_type": "markdown",
   "metadata": {},
   "source": [
    "## Check out data format"
   ]
  },
  {
   "cell_type": "code",
   "execution_count": 158,
   "metadata": {},
   "outputs": [],
   "source": [
    "filename = os.path.join(root_dir_tdms,'2020-12-11/DOE15_SlowData_2020_12_11_06_16_29_1Hz.tdms')\n",
    "\n",
    "currFile = TdmsFile(filename)\n",
    "df_sc = currFile.as_dataframe()\n",
    "\n",
    "#rename columns\n",
    "col_names = list(df_sc.columns)\n",
    "for i in range(len(col_names)):\n",
    "    col_names[i] = col_names[i].replace('/\\'SlowData\\'/\\'','')[:-1]\n",
    "df_sc.columns = col_names\n",
    "\n",
    "# set timestamp\n",
    "# TODO: For now, rounding timestamp to nearest second. Should we change to interpolating to integer seconds?\n",
    "df_sc['time'] = pd.to_datetime(currFile.object('SlowData','MS Excel Timestamp').time_track(absolute_time=True))\n",
    "df_sc['time'] = df_sc.time.dt.round(freq='s')"
   ]
  },
  {
   "cell_type": "code",
   "execution_count": 159,
   "metadata": {},
   "outputs": [
    {
     "data": {
      "text/plain": [
       "array(['MS Excel Timestamp', 'LabVIEW Timestamp', 'Scan Errors',\n",
       "       'Late Scans', 'SCADA_nacelleWS', 'Hum1', 'Temp1', 'Hum2', 'Temp2',\n",
       "       'Windspeed_38m', 'Windspeed_55m', 'Windspeed_87m', 'WD1_87m',\n",
       "       'Air_Press_2', 'Air_Press_1', 'Wind_Direction_38m',\n",
       "       'WindSpeed_80m', 'Precipitation', 'Tower Base Bend 1',\n",
       "       'Tower Base Bend 2', 'Tower Base Torque', 'Active Power',\n",
       "       'Reactive Power', 'Power Factor', 'Windspeed_AeroA_10m',\n",
       "       'TowerTopBending_0', 'TowerTopBending_90', 'TowerTopTorque',\n",
       "       'TowerTopDCAccel_NS', 'TowerTopDCAccel_EW', 'LSS RPM', 'HSS RPM',\n",
       "       'NacelleWindSpeed', 'Mainshaft_Downwind_Bend_0',\n",
       "       'Mainshaft_Downwind_Bend_90', 'Mainshaft_Downwind_Torque',\n",
       "       'AzimuthAO', 'Blade_1_Flap', 'Blade_1_Edge', 'Blade_2_Flap',\n",
       "       'Blade_2_Edge', 'Blade_3_Flap', 'Blade_3_Edge', 'Pitch_Blade2',\n",
       "       'Azimuth', 'Yaw_Encoder', 'Pitch_Blade1', 'WD_Mod_Active',\n",
       "       'WD_Nacelle', 'WD_Nacelle_Mod', 'EGD_AI_CuTorqueAct',\n",
       "       'EGD_AI_In_GridMonRealPowerAct', 'EGD_AI_In_PitchAngleCurrent1',\n",
       "       'EGD_AI_In_PitchAngleCurrent2', 'EGD_AI_In_PitchAngleCurrent3',\n",
       "       'EGD_DI_In_TBDiscBrakeClosed', 'EGD_In_RotorSpd', 'EGD_In_WindSpd',\n",
       "       'EGD_OpCtl_TurbineFullState', 'EGD_OpCtl_TurbineOperationState',\n",
       "       'EGD_OpCtl_TurbineStatus', 'EGD_Out_CalcTrbineStateSCADA',\n",
       "       'EGD_Out_TurbineStatusSCADA', 'EGD_W_In_WtgBrake',\n",
       "       'EGD_Yaw_PositionToNorth', 'time'], dtype=object)"
      ]
     },
     "execution_count": 159,
     "metadata": {},
     "output_type": "execute_result"
    }
   ],
   "source": [
    "df_sc.columns.values"
   ]
  },
  {
   "cell_type": "code",
   "execution_count": 175,
   "metadata": {},
   "outputs": [],
   "source": [
    "plt.figure()\n",
    "plt.plot(df_sc.time,df_sc['Wind_Direction_38m'])\n",
    "plt.grid()"
   ]
  },
  {
   "cell_type": "code",
   "execution_count": 191,
   "metadata": {},
   "outputs": [
    {
     "data": {
      "text/plain": [
       "0       2020-12-11 06:16:47\n",
       "1       2020-12-11 06:16:48\n",
       "2       2020-12-11 06:16:49\n",
       "3       2020-12-11 06:16:50\n",
       "4       2020-12-11 06:16:51\n",
       "                ...        \n",
       "86395   2020-12-12 06:16:42\n",
       "86396   2020-12-12 06:16:43\n",
       "86397   2020-12-12 06:16:44\n",
       "86398   2020-12-12 06:16:45\n",
       "86399   2020-12-12 06:16:46\n",
       "Name: time, Length: 86400, dtype: datetime64[ns]"
      ]
     },
     "execution_count": 191,
     "metadata": {},
     "output_type": "execute_result"
    }
   ],
   "source": [
    "df_sc.time"
   ]
  },
  {
   "cell_type": "code",
   "execution_count": 190,
   "metadata": {},
   "outputs": [],
   "source": [
    "df_sc.time = df_sc.time.dt.tz_localize(tz='UTC').dt.tz_convert('US/Mountain').dt.tz_localize(None)\n"
   ]
  },
  {
   "cell_type": "code",
   "execution_count": 163,
   "metadata": {},
   "outputs": [
    {
     "data": {
      "text/plain": [
       "0    3.690537e+09\n",
       "1    3.690537e+09\n",
       "2    3.690537e+09\n",
       "3    3.690537e+09\n",
       "4    3.690537e+09\n",
       "Name: LabVIEW Timestamp, dtype: float64"
      ]
     },
     "execution_count": 163,
     "metadata": {},
     "output_type": "execute_result"
    }
   ],
   "source": [
    "df_sc['LabVIEW Timestamp'][0:5]"
   ]
  },
  {
   "cell_type": "code",
   "execution_count": 169,
   "metadata": {},
   "outputs": [
    {
     "data": {
      "text/plain": [
       "0       1970-01-01 00:00:00.000044176\n",
       "1       1970-01-01 00:00:00.000044176\n",
       "2       1970-01-01 00:00:00.000044176\n",
       "3       1970-01-01 00:00:00.000044176\n",
       "4       1970-01-01 00:00:00.000044176\n",
       "                     ...             \n",
       "86395   1970-01-01 00:00:00.000044177\n",
       "86396   1970-01-01 00:00:00.000044177\n",
       "86397   1970-01-01 00:00:00.000044177\n",
       "86398   1970-01-01 00:00:00.000044177\n",
       "86399   1970-01-01 00:00:00.000044177\n",
       "Name: MS Excel Timestamp, Length: 86400, dtype: datetime64[ns]"
      ]
     },
     "execution_count": 169,
     "metadata": {},
     "output_type": "execute_result"
    }
   ],
   "source": [
    "pd.to_datetime(df_sc['MS Excel Timestamp'])"
   ]
  },
  {
   "cell_type": "code",
   "execution_count": null,
   "metadata": {},
   "outputs": [],
   "source": [
    "filename = os.path.join(root_dir_noiselab,'noiseLAB_20201201_115609.xls')\n",
    "filename_fft = os.path.join(root_dir_noiselab,'noiseLAB_20201201_115609_FFT.xls')"
   ]
  },
  {
   "cell_type": "code",
   "execution_count": null,
   "metadata": {},
   "outputs": [],
   "source": [
    "imp.reload(rd)\n",
    "\n",
    "filename = os.path.join(root_dir_noiselab,'noiseLAB_20201201_115609_unweighted.xls')\n",
    "filename_fft = os.path.join(root_dir_noiselab,'noiseLAB_20201201_115609_FFT_unweighted.xls')\n",
    "\n",
    "df_nl = rd.read_NoiseLabSlice_file(filename,unweighted=True)\n",
    "df_nl_fft = rd.read_NoiseLabFFTSlice_file(filename_fft)\n",
    "\n",
    "# df_nl = pd.read_csv(filename,sep='\\t')\n",
    "\n",
    "# remove whitespace\n",
    "# df_nl.rename(columns=lambda x: x.strip(),inplace=True)"
   ]
  },
  {
   "cell_type": "code",
   "execution_count": null,
   "metadata": {},
   "outputs": [],
   "source": [
    "df_nl.head()"
   ]
  },
  {
   "cell_type": "code",
   "execution_count": null,
   "metadata": {},
   "outputs": [],
   "source": [
    "df_nl_fft.head()"
   ]
  },
  {
   "cell_type": "code",
   "execution_count": null,
   "metadata": {},
   "outputs": [],
   "source": [
    "filename = os.path.join(root_dir_tdms,'2020-12-22/DOE15_SlowData_2020_12_22_06_13_41_1Hz.tdms')\n",
    "# df_sc = rd.read_tdmsSCADA_file(filename)\n",
    "currFile = TdmsFile(filename)\n",
    "df_sc = currFile.as_dataframe()"
   ]
  },
  {
   "cell_type": "code",
   "execution_count": null,
   "metadata": {},
   "outputs": [],
   "source": [
    "df_sc.columns.values"
   ]
  },
  {
   "cell_type": "code",
   "execution_count": null,
   "metadata": {},
   "outputs": [],
   "source": [
    "df_sc[\"/'SlowData'/'Active Power'\"]"
   ]
  },
  {
   "cell_type": "code",
   "execution_count": null,
   "metadata": {},
   "outputs": [],
   "source": [
    "# filename = os.path.join(root_dir_noiselab,'noiseLAB_20201201_115609_FFT_unweighted.xls')\n",
    "filename = os.path.join(root_dir_noiselab,'noiseLAB_20201201_112609_unweighted.xls')\n",
    "\n",
    "df_nl = pd.read_csv(filename,sep='\\t')\n",
    "\n",
    "    # remove whitespace\n",
    "df_nl.rename(columns=lambda x: x.strip(),inplace=True)\n",
    "df_nl.columns.values"
   ]
  },
  {
   "cell_type": "code",
   "execution_count": null,
   "metadata": {},
   "outputs": [],
   "source": []
  }
 ],
 "metadata": {
  "kernelspec": {
   "display_name": "Python 3",
   "language": "python",
   "name": "python3"
  },
  "language_info": {
   "codemirror_mode": {
    "name": "ipython",
    "version": 3
   },
   "file_extension": ".py",
   "mimetype": "text/x-python",
   "name": "python",
   "nbconvert_exporter": "python",
   "pygments_lexer": "ipython3",
   "version": "3.7.4"
  },
  "toc": {
   "base_numbering": 1,
   "nav_menu": {},
   "number_sections": true,
   "sideBar": true,
   "skip_h1_title": false,
   "title_cell": "Table of Contents",
   "title_sidebar": "Contents",
   "toc_cell": false,
   "toc_position": {
    "height": "calc(100% - 180px)",
    "left": "10px",
    "top": "150px",
    "width": "345.1875px"
   },
   "toc_section_display": true,
   "toc_window_display": true
  }
 },
 "nbformat": 4,
 "nbformat_minor": 4
}
