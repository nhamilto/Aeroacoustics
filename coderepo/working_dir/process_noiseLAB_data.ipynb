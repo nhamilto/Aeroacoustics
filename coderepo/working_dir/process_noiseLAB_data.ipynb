{
 "cells": [
  {
   "cell_type": "markdown",
   "metadata": {},
   "source": [
    "# Import new noiseLAB data into main dataset"
   ]
  },
  {
   "cell_type": "code",
   "execution_count": 1,
   "metadata": {},
   "outputs": [],
   "source": [
    "import sys\n",
    "import os\n",
    "import numpy as np\n",
    "import pandas as pd\n",
    "import matplotlib.pyplot as plt\n",
    "import pickle\n",
    "from nptdms import TdmsFile\n",
    "import imp\n",
    "import seaborn as sns\n",
    "\n",
    "from aeroacoustics import dataset as ds\n",
    "from aeroacoustics import read_data_files as rd"
   ]
  },
  {
   "cell_type": "code",
   "execution_count": 2,
   "metadata": {},
   "outputs": [
    {
     "data": {
      "text/plain": [
       "<module 'aeroacoustics.dataset' from '/Users/esimley/Documents/Code/Aeroacoustics/coderepo/aeroacoustics/dataset.py'>"
      ]
     },
     "execution_count": 2,
     "metadata": {},
     "output_type": "execute_result"
    }
   ],
   "source": [
    "imp.reload(rd)\n",
    "imp.reload(ds)"
   ]
  },
  {
   "cell_type": "code",
   "execution_count": 3,
   "metadata": {},
   "outputs": [
    {
     "name": "stdout",
     "output_type": "stream",
     "text": [
      "Using matplotlib backend: MacOSX\n"
     ]
    }
   ],
   "source": [
    "%matplotlib"
   ]
  },
  {
   "cell_type": "markdown",
   "metadata": {},
   "source": [
    "## Parameters"
   ]
  },
  {
   "cell_type": "code",
   "execution_count": 4,
   "metadata": {},
   "outputs": [],
   "source": [
    "# root_dir_noiselab='/Volumes/Aeroacoustics/_ProcessedData/SliceData'\n",
    "root_dir_noiselab='/Volumes/Aeroacoustics/NoiseLAB/DOE15AeroacousticsProject/Results/Tables'\n",
    "root_dir_tdms='/Volumes/Tests/_raw data/Slow'\n",
    "\n",
    "# list_filename='noiseLAB_files.p'\n",
    "# dataset_file='aeroacoustics_dataset.p'\n",
    "\n",
    "list_filename='/Volumes/Aeroacoustics/_ProcessedData/Dataset/noiseLAB_files.p'\n",
    "list_filename_unweighted='/Volumes/Aeroacoustics/_ProcessedData/Dataset/noiseLAB_files_unweighted.p'\n",
    "dataset_file='/Volumes/Aeroacoustics/_ProcessedData/Dataset/aeroacoustics_dataset.p'\n",
    "dataset_file_unweighted='/Volumes/Aeroacoustics/_ProcessedData/Dataset/aeroacoustics_dataset_unweighted.p'\n",
    "# dataset_file='aeroacoustics_dataset.p'\n",
    "\n",
    "list_filename_fft='/Volumes/Aeroacoustics/_ProcessedData/Dataset/noiseLAB_files_fft.p'\n",
    "list_filename_fft_unweighted='/Volumes/Aeroacoustics/_ProcessedData/Dataset/noiseLAB_files_fft_unweighted.p'\n",
    "dataset_file_fft='/Volumes/Aeroacoustics/_ProcessedData/Dataset/aeroacoustics_dataset_fft.p'\n",
    "dataset_file_fft_unweighted='/Volumes/Aeroacoustics/_ProcessedData/Dataset/aeroacoustics_dataset_fft_unweighted.p'\n",
    "# dataset_file_fft='aeroacoustics_dataset_fft.p'\n",
    "\n",
    "fig_dir = '/Volumes/Aeroacoustics/_ProcessedData/Figures'\n"
   ]
  },
  {
   "cell_type": "markdown",
   "metadata": {},
   "source": [
    "## Reinitialize aeroacoustics dataset"
   ]
  },
  {
   "cell_type": "code",
   "execution_count": null,
   "metadata": {},
   "outputs": [],
   "source": [
    "# df = pd.DataFrame()\n",
    "# # df.to_pickle(dataset_file)\n",
    "# df.to_pickle(dataset_file_unweighted)\n",
    "\n",
    "# files = []\n",
    "# # pickle.dump( files, open( list_filename, \"wb\" ) )\n",
    "# pickle.dump( files, open( list_filename_unweighted, \"wb\" ) )\n"
   ]
  },
  {
   "cell_type": "markdown",
   "metadata": {},
   "source": [
    "### Only FFT"
   ]
  },
  {
   "cell_type": "code",
   "execution_count": null,
   "metadata": {},
   "outputs": [],
   "source": [
    "# df = pd.DataFrame()\n",
    "# df.to_pickle(dataset_file_fft)\n",
    "\n",
    "# files = []\n",
    "# pickle.dump( files, open( list_filename_fft, \"wb\" ) )"
   ]
  },
  {
   "cell_type": "markdown",
   "metadata": {},
   "source": [
    "## Check for new noiseLAB files"
   ]
  },
  {
   "cell_type": "code",
   "execution_count": null,
   "metadata": {},
   "outputs": [],
   "source": [
    "files_new = ds.identify_NoiseLabSlice_to_add(list_filename,root_dir=root_dir_noiselab)\n",
    "\n",
    "files_new = [f for f in files_new if ('FFT' not in f) & ('unweighted' not in f)]\n",
    "print(files_new)\n",
    "\n",
    "files_new_fft = ds.identify_NoiseLabSlice_to_add(list_filename_fft,root_dir=root_dir_noiselab)\n",
    "\n",
    "files_new_fft = [f for f in files_new_fft if ('FFT' in f) & ('unweighted' not in f)]\n",
    "print(files_new_fft)\n",
    "\n",
    "files_new_unweighted = ds.identify_NoiseLabSlice_to_add(list_filename_unweighted,root_dir=root_dir_noiselab)\n",
    "\n",
    "files_new_unweighted = [f for f in files_new_unweighted if ('FFT' not in f) & ('unweighted' in f)]\n",
    "print(files_new_unweighted)"
   ]
  },
  {
   "cell_type": "markdown",
   "metadata": {},
   "source": [
    "## Add new files to dataset"
   ]
  },
  {
   "cell_type": "markdown",
   "metadata": {},
   "source": [
    "This combines the noiseLAB slice data with the SCADA and met data from tdms files, then adds the new data to the master dataset"
   ]
  },
  {
   "cell_type": "markdown",
   "metadata": {},
   "source": [
    "### Third octave bands"
   ]
  },
  {
   "cell_type": "code",
   "execution_count": null,
   "metadata": {},
   "outputs": [],
   "source": [
    "files = pickle.load( open( list_filename, \"rb\" ) )\n",
    "print(files)"
   ]
  },
  {
   "cell_type": "code",
   "execution_count": null,
   "metadata": {},
   "outputs": [],
   "source": [
    "for i_f, f in enumerate(files_new):\n",
    "    print('File '+str(i_f)+' out of '+str(len(files_new)))\n",
    "    print(f)\n",
    "    file_status = ds.process_NoiseLabSlice_file(f,root_dir_noiselab=root_dir_noiselab,\n",
    "                                                       root_dir_tdms=root_dir_tdms,\n",
    "                                                       dataset_file=dataset_file)\n",
    "    \n",
    "    if file_status == 1:\n",
    "        files.append(f)\n",
    "        \n",
    "    pickle.dump( files, open( list_filename, \"wb\" ) )"
   ]
  },
  {
   "cell_type": "markdown",
   "metadata": {},
   "source": [
    "### FFT Spectrum"
   ]
  },
  {
   "cell_type": "code",
   "execution_count": null,
   "metadata": {},
   "outputs": [],
   "source": [
    "files = pickle.load( open( list_filename_fft, \"rb\" ) )\n",
    "print(files)"
   ]
  },
  {
   "cell_type": "code",
   "execution_count": null,
   "metadata": {},
   "outputs": [],
   "source": [
    "for i_f, f in enumerate(files_new_fft):\n",
    "    print('File '+str(i_f)+' out of '+str(len(files_new_fft)))\n",
    "    print(f)\n",
    "    file_status = ds.process_NoiseLabSlice_file(f,root_dir_noiselab=root_dir_noiselab,\n",
    "                                                       root_dir_tdms=root_dir_tdms,\n",
    "                                                       dataset_file=dataset_file_fft,\n",
    "                                                       third_octave=False)\n",
    "    \n",
    "    if file_status == 1:\n",
    "        files.append(f)\n",
    "        \n",
    "    pickle.dump( files, open( list_filename_fft, \"wb\" ) )"
   ]
  },
  {
   "cell_type": "markdown",
   "metadata": {},
   "source": [
    "### Unweighted third octave bands"
   ]
  },
  {
   "cell_type": "code",
   "execution_count": null,
   "metadata": {},
   "outputs": [],
   "source": [
    "files = pickle.load( open( list_filename_unweighted, \"rb\" ) )\n",
    "print(files)"
   ]
  },
  {
   "cell_type": "code",
   "execution_count": null,
   "metadata": {},
   "outputs": [],
   "source": [
    "for i_f, f in enumerate(files_new_unweighted):\n",
    "    print('File '+str(i_f)+' out of '+str(len(files_new_unweighted)))\n",
    "    print(f)\n",
    "    file_status = ds.process_NoiseLabSlice_file(f,root_dir_noiselab=root_dir_noiselab,\n",
    "                                                       root_dir_tdms=root_dir_tdms,\n",
    "                                                       dataset_file=dataset_file_unweighted,\n",
    "                                                       unweighted=True)\n",
    "    \n",
    "    if file_status == 1:\n",
    "        files.append(f)\n",
    "        \n",
    "    pickle.dump( files, open( list_filename_unweighted, \"wb\" ) )"
   ]
  },
  {
   "cell_type": "markdown",
   "metadata": {},
   "source": [
    "## Summarize data"
   ]
  },
  {
   "cell_type": "code",
   "execution_count": 6,
   "metadata": {},
   "outputs": [],
   "source": [
    "df = pd.read_pickle(dataset_file_unweighted)\n",
    "# df = pd.read_pickle(dataset_file)\n",
    "# df = pd.read_pickle(dataset_file_fft)"
   ]
  },
  {
   "cell_type": "markdown",
   "metadata": {},
   "source": [
    "### Check out the data"
   ]
  },
  {
   "cell_type": "code",
   "execution_count": null,
   "metadata": {},
   "outputs": [],
   "source": [
    "plt.figure()\n",
    "plt.plot(df_filt['Yaw_Offset_Cmd_Bin'])\n",
    "# plt.plot(df['Active Power'])\n",
    "# plt.plot(df['WindSpeed_80m'])\n",
    "# plt.plot(df['Active Power'].values)\n",
    "# plt.plot(df['EGD_OpCtl_TurbineFullState'].values)\n",
    "# plt.plot(df['EGD_OpCtl_TurbineOperationState'].values)\n",
    "# plt.plot(df['EGD_OpCtl_TurbineStatus'].values)\n",
    "# plt.plot(df['EGD_Out_CalcTrbineStateSCADA'].values)\n",
    "# plt.plot(df['EGD_Out_TurbineStatusSCADA'].values)\n",
    "# plt.plot(df['EGD_Yaw_PositionToNorth'],'r')\n",
    "# plt.plot(df['Yaw_Encoder'])\n",
    "# plt.plot(df['WD1_87m'])\n",
    "# plt.plot(df['Wind_Direction_38m'])\n",
    "# plt.scatter(df['WindSpeed_80m'],df['01N_Leq'])\n",
    "\n",
    "# fig,axs = plt.subplots(2,1,sharex=True)\n",
    "# # axs[0].plot(df['WindSpeed_80m'],label='Wind Speed')\n",
    "# # axs[0].plot(df['04C_Leq'],label='04C_Leq')\n",
    "# axs[0].plot(~df_filt['Turbine Operating'],label='Background Period')\n",
    "# axs[0].legend()\n",
    "# axs[1].plot(df_filt['Active Power'],label='Power')\n",
    "# axs[1].plot(df_filt['Yaw_Encoder'],label='Yaw Position')\n",
    "# # axs[1].plot(df['WD_Nacelle'],label='WD Nacelle')\n",
    "# axs[1].legend()\n",
    "# plt.plot(df['Yaw_Offset_Cmd_Bin'])"
   ]
  },
  {
   "cell_type": "markdown",
   "metadata": {},
   "source": [
    "### Correct yaw offset bins"
   ]
  },
  {
   "cell_type": "code",
   "execution_count": 23,
   "metadata": {},
   "outputs": [],
   "source": [
    "df_filt = df.copy()\n",
    "\n",
    "df_filt.loc[(df_filt.index >= '2021-01-05 17:30:00') & (df_filt.index < '2021-01-05 17:55:00'),'Yaw_Offset_Cmd_Bin'] = 10.\n",
    "df_filt.loc[(df_filt.index >= '2021-01-05 18:00:00') & (df_filt.index < '2021-01-05 18:26:00'),'Yaw_Offset_Cmd_Bin'] = 18.\n",
    "df_filt.loc[(df_filt.index >= '2021-01-05 18:29:00') & (df_filt.index < '2021-01-05 18:55:00'),'Yaw_Offset_Cmd_Bin'] = 25.\n",
    "df_filt.loc[(df_filt.index >= '2021-01-05 19:00:00') & (df_filt.index < '2021-01-05 19:20:00'),'Yaw_Offset_Cmd_Bin'] = -18.\n",
    "df_filt.loc[(df_filt.index >= '2021-01-05 19:40:00') & (df_filt.index < '2021-01-05 19:50:00'),'Yaw_Offset_Cmd_Bin'] = 10.\n",
    "df_filt.loc[(df_filt.index >= '2021-01-05 20:00:00') & (df_filt.index < '2021-01-05 20:20:00'),'Yaw_Offset_Cmd_Bin'] = 18.\n",
    "df_filt.loc[(df_filt.index >= '2021-01-05 23:22:00') & (df_filt.index < '2021-01-05 23:26:30'),'Yaw_Offset_Cmd_Bin'] = -18.\n",
    "df_filt.loc[(df_filt.index >= '2021-01-05 23:28:00') & (df_filt.index < '2021-01-05 23:31:00'),'Yaw_Offset_Cmd_Bin'] = 10.\n",
    "df_filt.loc[(df_filt.index >= '2021-01-28 10:00:00') & (df_filt.index < '2021-01-28 13:25:00'),'Yaw_Offset_Cmd_Bin'] = 0.\n",
    "df_filt.loc[(df_filt.index >= '2021-02-04 10:45:00') & (df_filt.index < '2021-02-04 11:05:00'),'Yaw_Offset_Cmd_Bin'] = 0.\n",
    "df_filt.loc[(df_filt.index >= '2021-02-04 11:25:00') & (df_filt.index < '2021-02-04 11:39:00'),'Yaw_Offset_Cmd_Bin'] = 10.\n",
    "df_filt.loc[(df_filt.index >= '2021-02-04 17:20:00') & (df_filt.index < '2021-02-04 17:35:00'),'Yaw_Offset_Cmd_Bin'] = 18.\n",
    "df_filt.loc[(df_filt.index >= '2021-02-04 19:06:00') & (df_filt.index < '2021-02-04 19:30:00'),'Yaw_Offset_Cmd_Bin'] = 10.\n",
    "df_filt.loc[(df_filt.index >= '2021-02-04 22:10:00') & (df_filt.index < '2021-02-04 22:30:00'),'Yaw_Offset_Cmd_Bin'] = 18.\n",
    "df_filt.loc[(df_filt.index >= '2021-02-05 00:37:00') & (df_filt.index < '2021-02-05 01:05:00'),'Yaw_Offset_Cmd_Bin'] = 18.\n",
    "df_filt.loc[(df_filt.index >= '2021-02-05 01:15:00') & (df_filt.index < '2021-02-05 01:30:00'),'Yaw_Offset_Cmd_Bin'] = 25.\n",
    "df_filt.loc[(df_filt.index >= '2021-02-05 01:40:00') & (df_filt.index < '2021-02-05 01:50:00'),'Yaw_Offset_Cmd_Bin'] = -18.\n",
    "df_filt.loc[(df_filt.index >= '2021-02-05 02:40:00') & (df_filt.index < '2021-02-05 02:50:00'),'Yaw_Offset_Cmd_Bin'] = 10.\n",
    "df_filt.loc[(df_filt.index >= '2021-02-05 03:36:00') & (df_filt.index < '2021-02-05 03:40:00'),'Yaw_Offset_Cmd_Bin'] = 25.\n",
    "df_filt.loc[(df_filt.index >= '2021-02-05 05:25:00') & (df_filt.index < '2021-02-05 05:34:00'),'Yaw_Offset_Cmd_Bin'] = 10.\n",
    "df_filt.loc[(df_filt.index >= '2021-02-05 06:06:00') & (df_filt.index < '2021-02-05 06:35:00'),'Yaw_Offset_Cmd_Bin'] = 25.\n",
    "df_filt.loc[(df_filt.index >= '2021-02-05 08:04:00') & (df_filt.index < '2021-02-05 08:05:00'),'Yaw_Offset_Cmd_Bin'] = 10.\n",
    "df_filt.loc[(df_filt.index >= '2021-02-05 08:25:00') & (df_filt.index < '2021-02-05 08:33:00'),'Yaw_Offset_Cmd_Bin'] = 18.\n",
    "df_filt.loc[(df_filt.index >= '2021-02-05 08:40:00') & (df_filt.index < '2021-02-05 08:44:00'),'Yaw_Offset_Cmd_Bin'] = 25.\n",
    "df_filt.loc[(df_filt.index >= '2021-02-05 10:07:00') & (df_filt.index < '2021-02-05 10:15:00'),'Yaw_Offset_Cmd_Bin'] = 10.\n",
    "df_filt.loc[(df_filt.index >= '2021-02-05 10:40:00') & (df_filt.index < '2021-02-05 11:00:00'),'Yaw_Offset_Cmd_Bin'] = 18.\n",
    "df_filt.loc[(df_filt.index >= '2021-02-05 11:10:00') & (df_filt.index < '2021-02-05 11:33:00'),'Yaw_Offset_Cmd_Bin'] = 25.\n",
    "df_filt.loc[(df_filt.index >= '2021-02-05 11:55:00') & (df_filt.index < '2021-02-05 12:05:00'),'Yaw_Offset_Cmd_Bin'] = -18.\n",
    "df_filt.loc[(df_filt.index >= '2021-02-05 12:07:00') & (df_filt.index < '2021-02-05 12:25:00'),'Yaw_Offset_Cmd_Bin'] = 0.\n",
    "df_filt.loc[(df_filt.index >= '2021-02-05 12:37:00') & (df_filt.index < '2021-02-05 13:05:00'),'Yaw_Offset_Cmd_Bin'] = 10.\n",
    "df_filt.loc[(df_filt.index >= '2021-02-05 14:10:00') & (df_filt.index < '2021-02-05 14:30:00'),'Yaw_Offset_Cmd_Bin'] = -18.\n",
    "df_filt.loc[(df_filt.index >= '2021-02-05 15:30:00') & (df_filt.index < '2021-02-05 15:35:00'),'Yaw_Offset_Cmd_Bin'] = 10.\n",
    "df_filt.loc[(df_filt.index >= '2021-02-05 15:40:00') & (df_filt.index < '2021-02-05 16:02:00'),'Yaw_Offset_Cmd_Bin'] = 18.\n",
    "df_filt.loc[(df_filt.index >= '2021-02-05 16:25:00') & (df_filt.index < '2021-02-05 16:34:00'),'Yaw_Offset_Cmd_Bin'] = 25.\n",
    "df_filt.loc[(df_filt.index >= '2021-02-05 18:15:00') & (df_filt.index < '2021-02-05 18:30:00'),'Yaw_Offset_Cmd_Bin'] = 18.\n",
    "df_filt.loc[(df_filt.index >= '2021-02-05 19:10:00') & (df_filt.index < '2021-02-05 19:20:00'),'Yaw_Offset_Cmd_Bin'] = -18.\n",
    "df_filt.loc[(df_filt.index >= '2021-02-05 20:50:00') & (df_filt.index < '2021-02-05 21:05:00'),'Yaw_Offset_Cmd_Bin'] = 18.\n",
    "df_filt.loc[(df_filt.index >= '2021-02-05 21:08:00') & (df_filt.index < '2021-02-05 21:20:00'),'Yaw_Offset_Cmd_Bin'] = 25.\n",
    "df_filt.loc[(df_filt.index >= '2021-02-05 22:40:00') & (df_filt.index < '2021-02-05 22:50:00'),'Yaw_Offset_Cmd_Bin'] = 10.\n",
    "df_filt.loc[(df_filt.index >= '2021-02-05 23:20:00') & (df_filt.index < '2021-02-05 23:30:00'),'Yaw_Offset_Cmd_Bin'] = 18.\n",
    "df_filt.loc[(df_filt.index >= '2021-02-06 00:20:00') & (df_filt.index < '2021-02-06 00:30:00'),'Yaw_Offset_Cmd_Bin'] = -18.\n",
    "df_filt.loc[(df_filt.index >= '2021-02-06 01:25:00') & (df_filt.index < '2021-02-06 01:35:00'),'Yaw_Offset_Cmd_Bin'] = 10.\n",
    "df_filt.loc[(df_filt.index >= '2021-02-06 01:50:00') & (df_filt.index < '2021-02-06 02:05:00'),'Yaw_Offset_Cmd_Bin'] = 18.\n",
    "df_filt.loc[(df_filt.index >= '2021-02-06 02:10:00') & (df_filt.index < '2021-02-06 02:34:00'),'Yaw_Offset_Cmd_Bin'] = 25.\n",
    "df_filt.loc[(df_filt.index >= '2021-02-06 02:40:00') & (df_filt.index < '2021-02-06 02:50:00'),'Yaw_Offset_Cmd_Bin'] = -18.\n",
    "df_filt.loc[(df_filt.index >= '2021-02-06 03:07:00') & (df_filt.index < '2021-02-06 03:15:00'),'Yaw_Offset_Cmd_Bin'] = 0.\n",
    "df_filt.loc[(df_filt.index >= '2021-02-06 04:50:00') & (df_filt.index < '2021-02-06 04:55:00'),'Yaw_Offset_Cmd_Bin'] = 25.\n",
    "df_filt.loc[(df_filt.index >= '2021-02-06 05:40:00') & (df_filt.index < '2021-02-06 05:50:00'),'Yaw_Offset_Cmd_Bin'] = 0."
   ]
  },
  {
   "cell_type": "markdown",
   "metadata": {},
   "source": [
    "### Filter data"
   ]
  },
  {
   "cell_type": "code",
   "execution_count": 24,
   "metadata": {},
   "outputs": [],
   "source": [
    "# If true, will use any wind direction for background noise. If false, keep only 270 - 300 deg\n",
    "use_any_WD_background = True\n",
    "\n",
    "# df_filt = df.copy()\n",
    "\n",
    "# get rid of spurious offset commands\n",
    "# df_filt.loc[df_filt.index < '2021-01-01','Yaw_Offset_Cmd_Bin'] = 0.\n",
    "\n",
    "# filter to remove 5 minutes after a yaw offset command change\n",
    "change_points = df_filt.loc[df_filt['Yaw_Offset_Cmd_Bin'].diff().abs() > 0].index\n",
    "for d in change_points:\n",
    "    df_filt = df_filt[(df_filt.index < d) | (df_filt.index >= d + pd.Timedelta('5 min'))]\n",
    "\n",
    "# create derived signals\n",
    "df_filt['Turbine Operating'] = (df_filt['EGD_OpCtl_TurbineStatus'] == 2)\n",
    "# catch operation based on power too, and remove from dataset\n",
    "df_filt = df_filt[(df_filt['Active Power'] < 0) | df_filt['Turbine Operating']]\n",
    "    \n",
    "# filter out when turbine not operating but still yawing?\n",
    "df_filt = df_filt.loc[(df_filt['Turbine Operating']) | (df_filt['Yaw_Encoder'].diff().abs() < 0.1)]\n",
    "    \n",
    "# This should catch cases where the yaw offset command is NaN beause the turbine is not running\n",
    "df_filt.loc[~df_filt['Turbine Operating'],'Yaw_Offset_Cmd_Bin'] = 0.\n",
    "df_filt['Yaw_Position_Normal'] = (df_filt['Yaw_Encoder'] + df_filt['Yaw_Offset_Cmd_Bin']) % 360.\n",
    "\n",
    "# filter to yaw position +/- 15 degrees from 285\n",
    "df_filt['Direction Valid'] = (df_filt['Yaw_Position_Normal'] >= 270.) & (df_filt['Yaw_Position_Normal'] <= 300.)\n",
    "\n",
    "if use_any_WD_background:\n",
    "    df_filt = df_filt[df_filt['Direction Valid'] | ~df_filt['Turbine Operating']]\n",
    "else:\n",
    "    df_filt = df_filt[df_filt['Direction Valid']]\n",
    "\n",
    "# filter to rows when all mics are available\n",
    "cols2check = ['01N_Leq', '02N_Leq', '03N_Leq', '04C_Leq', '05C_Leq', '06S_Leq', '07S_Leq', '08S_Leq', '11N_Leq', '12C_Leq', '13S_Leq']\n",
    "# df_filt = df_filt.dropna(subset=cols2check)"
   ]
  },
  {
   "cell_type": "markdown",
   "metadata": {},
   "source": [
    "### Plot histograms by offset"
   ]
  },
  {
   "cell_type": "code",
   "execution_count": 48,
   "metadata": {},
   "outputs": [],
   "source": [
    "\n",
    "df_filt = df_filt_orig.copy()\n",
    "\n",
    "# df_filt_orig = df_filt.copy()\n",
    "# df_filt = df_filt[(df_filt.index >= '2021-02-04 00:00:00') & (df_filt.index < '2021-02-04 18:00:00')]"
   ]
  },
  {
   "cell_type": "code",
   "execution_count": 30,
   "metadata": {},
   "outputs": [
    {
     "data": {
      "text/html": [
       "<div>\n",
       "<style scoped>\n",
       "    .dataframe tbody tr th:only-of-type {\n",
       "        vertical-align: middle;\n",
       "    }\n",
       "\n",
       "    .dataframe tbody tr th {\n",
       "        vertical-align: top;\n",
       "    }\n",
       "\n",
       "    .dataframe thead th {\n",
       "        text-align: right;\n",
       "    }\n",
       "</style>\n",
       "<table border=\"1\" class=\"dataframe\">\n",
       "  <thead>\n",
       "    <tr style=\"text-align: right;\">\n",
       "      <th></th>\n",
       "      <th>01N_Leq</th>\n",
       "      <th>02N_Leq</th>\n",
       "      <th>03N_Leq</th>\n",
       "      <th>04C_Leq</th>\n",
       "      <th>05C_Leq</th>\n",
       "      <th>06S_Leq</th>\n",
       "      <th>07S_Leq</th>\n",
       "      <th>08S_Leq</th>\n",
       "      <th>11N_Leq</th>\n",
       "      <th>12C_Leq</th>\n",
       "      <th>...</th>\n",
       "      <th>EGD_Out_CalcTrbineStateSCADA</th>\n",
       "      <th>EGD_Out_TurbineStatusSCADA</th>\n",
       "      <th>EGD_W_In_WtgBrake</th>\n",
       "      <th>EGD_Yaw_PositionToNorth</th>\n",
       "      <th>Yaw_Offset_Cmd</th>\n",
       "      <th>Yaw_Offset_Cmd_Bin</th>\n",
       "      <th>EGD_In_TbWindSpeed_NRG</th>\n",
       "      <th>Turbine Operating</th>\n",
       "      <th>Yaw_Position_Normal</th>\n",
       "      <th>Direction Valid</th>\n",
       "    </tr>\n",
       "    <tr>\n",
       "      <th>time</th>\n",
       "      <th></th>\n",
       "      <th></th>\n",
       "      <th></th>\n",
       "      <th></th>\n",
       "      <th></th>\n",
       "      <th></th>\n",
       "      <th></th>\n",
       "      <th></th>\n",
       "      <th></th>\n",
       "      <th></th>\n",
       "      <th></th>\n",
       "      <th></th>\n",
       "      <th></th>\n",
       "      <th></th>\n",
       "      <th></th>\n",
       "      <th></th>\n",
       "      <th></th>\n",
       "      <th></th>\n",
       "      <th></th>\n",
       "      <th></th>\n",
       "      <th></th>\n",
       "    </tr>\n",
       "  </thead>\n",
       "  <tbody>\n",
       "    <tr>\n",
       "      <th>2021-02-04 10:15:45</th>\n",
       "      <td>88.93</td>\n",
       "      <td>89.17</td>\n",
       "      <td>89.56</td>\n",
       "      <td>89.53</td>\n",
       "      <td>89.39</td>\n",
       "      <td>89.28</td>\n",
       "      <td>89.47</td>\n",
       "      <td>89.36</td>\n",
       "      <td>89.93</td>\n",
       "      <td>90.61</td>\n",
       "      <td>...</td>\n",
       "      <td>1.0</td>\n",
       "      <td>2.0</td>\n",
       "      <td>0.0</td>\n",
       "      <td>127.0</td>\n",
       "      <td>-18.011974</td>\n",
       "      <td>-18.0</td>\n",
       "      <td>7.6587</td>\n",
       "      <td>True</td>\n",
       "      <td>283.94596</td>\n",
       "      <td>True</td>\n",
       "    </tr>\n",
       "    <tr>\n",
       "      <th>2021-02-04 10:15:55</th>\n",
       "      <td>88.66</td>\n",
       "      <td>88.70</td>\n",
       "      <td>89.55</td>\n",
       "      <td>89.12</td>\n",
       "      <td>88.88</td>\n",
       "      <td>89.22</td>\n",
       "      <td>89.58</td>\n",
       "      <td>90.17</td>\n",
       "      <td>90.12</td>\n",
       "      <td>90.53</td>\n",
       "      <td>...</td>\n",
       "      <td>1.0</td>\n",
       "      <td>2.0</td>\n",
       "      <td>0.0</td>\n",
       "      <td>127.0</td>\n",
       "      <td>-17.990766</td>\n",
       "      <td>-18.0</td>\n",
       "      <td>7.3531</td>\n",
       "      <td>True</td>\n",
       "      <td>283.94596</td>\n",
       "      <td>True</td>\n",
       "    </tr>\n",
       "    <tr>\n",
       "      <th>2021-02-04 10:16:05</th>\n",
       "      <td>89.02</td>\n",
       "      <td>89.12</td>\n",
       "      <td>88.83</td>\n",
       "      <td>89.75</td>\n",
       "      <td>88.69</td>\n",
       "      <td>89.67</td>\n",
       "      <td>89.15</td>\n",
       "      <td>90.72</td>\n",
       "      <td>89.78</td>\n",
       "      <td>89.56</td>\n",
       "      <td>...</td>\n",
       "      <td>1.0</td>\n",
       "      <td>2.0</td>\n",
       "      <td>0.0</td>\n",
       "      <td>127.0</td>\n",
       "      <td>-18.022135</td>\n",
       "      <td>-18.0</td>\n",
       "      <td>7.7576</td>\n",
       "      <td>True</td>\n",
       "      <td>283.94596</td>\n",
       "      <td>True</td>\n",
       "    </tr>\n",
       "    <tr>\n",
       "      <th>2021-02-04 10:16:15</th>\n",
       "      <td>89.14</td>\n",
       "      <td>88.97</td>\n",
       "      <td>88.48</td>\n",
       "      <td>89.57</td>\n",
       "      <td>88.98</td>\n",
       "      <td>90.95</td>\n",
       "      <td>89.40</td>\n",
       "      <td>90.64</td>\n",
       "      <td>91.53</td>\n",
       "      <td>89.56</td>\n",
       "      <td>...</td>\n",
       "      <td>1.0</td>\n",
       "      <td>2.0</td>\n",
       "      <td>0.0</td>\n",
       "      <td>127.0</td>\n",
       "      <td>-17.994250</td>\n",
       "      <td>-18.0</td>\n",
       "      <td>7.2667</td>\n",
       "      <td>True</td>\n",
       "      <td>283.94596</td>\n",
       "      <td>True</td>\n",
       "    </tr>\n",
       "    <tr>\n",
       "      <th>2021-02-04 10:16:25</th>\n",
       "      <td>89.13</td>\n",
       "      <td>89.47</td>\n",
       "      <td>88.96</td>\n",
       "      <td>89.92</td>\n",
       "      <td>88.81</td>\n",
       "      <td>89.97</td>\n",
       "      <td>88.68</td>\n",
       "      <td>90.32</td>\n",
       "      <td>89.62</td>\n",
       "      <td>90.52</td>\n",
       "      <td>...</td>\n",
       "      <td>1.0</td>\n",
       "      <td>2.0</td>\n",
       "      <td>0.0</td>\n",
       "      <td>127.0</td>\n",
       "      <td>-18.003773</td>\n",
       "      <td>-18.0</td>\n",
       "      <td>7.4799</td>\n",
       "      <td>True</td>\n",
       "      <td>283.94596</td>\n",
       "      <td>True</td>\n",
       "    </tr>\n",
       "  </tbody>\n",
       "</table>\n",
       "<p>5 rows × 126 columns</p>\n",
       "</div>"
      ],
      "text/plain": [
       "                     01N_Leq  02N_Leq  03N_Leq  04C_Leq  05C_Leq  06S_Leq  \\\n",
       "time                                                                        \n",
       "2021-02-04 10:15:45    88.93    89.17    89.56    89.53    89.39    89.28   \n",
       "2021-02-04 10:15:55    88.66    88.70    89.55    89.12    88.88    89.22   \n",
       "2021-02-04 10:16:05    89.02    89.12    88.83    89.75    88.69    89.67   \n",
       "2021-02-04 10:16:15    89.14    88.97    88.48    89.57    88.98    90.95   \n",
       "2021-02-04 10:16:25    89.13    89.47    88.96    89.92    88.81    89.97   \n",
       "\n",
       "                     07S_Leq  08S_Leq  11N_Leq  12C_Leq  ...  \\\n",
       "time                                                     ...   \n",
       "2021-02-04 10:15:45    89.47    89.36    89.93    90.61  ...   \n",
       "2021-02-04 10:15:55    89.58    90.17    90.12    90.53  ...   \n",
       "2021-02-04 10:16:05    89.15    90.72    89.78    89.56  ...   \n",
       "2021-02-04 10:16:15    89.40    90.64    91.53    89.56  ...   \n",
       "2021-02-04 10:16:25    88.68    90.32    89.62    90.52  ...   \n",
       "\n",
       "                     EGD_Out_CalcTrbineStateSCADA  EGD_Out_TurbineStatusSCADA  \\\n",
       "time                                                                            \n",
       "2021-02-04 10:15:45                           1.0                         2.0   \n",
       "2021-02-04 10:15:55                           1.0                         2.0   \n",
       "2021-02-04 10:16:05                           1.0                         2.0   \n",
       "2021-02-04 10:16:15                           1.0                         2.0   \n",
       "2021-02-04 10:16:25                           1.0                         2.0   \n",
       "\n",
       "                     EGD_W_In_WtgBrake  EGD_Yaw_PositionToNorth  \\\n",
       "time                                                              \n",
       "2021-02-04 10:15:45                0.0                    127.0   \n",
       "2021-02-04 10:15:55                0.0                    127.0   \n",
       "2021-02-04 10:16:05                0.0                    127.0   \n",
       "2021-02-04 10:16:15                0.0                    127.0   \n",
       "2021-02-04 10:16:25                0.0                    127.0   \n",
       "\n",
       "                     Yaw_Offset_Cmd  Yaw_Offset_Cmd_Bin  \\\n",
       "time                                                      \n",
       "2021-02-04 10:15:45      -18.011974               -18.0   \n",
       "2021-02-04 10:15:55      -17.990766               -18.0   \n",
       "2021-02-04 10:16:05      -18.022135               -18.0   \n",
       "2021-02-04 10:16:15      -17.994250               -18.0   \n",
       "2021-02-04 10:16:25      -18.003773               -18.0   \n",
       "\n",
       "                     EGD_In_TbWindSpeed_NRG  Turbine Operating  \\\n",
       "time                                                             \n",
       "2021-02-04 10:15:45                  7.6587               True   \n",
       "2021-02-04 10:15:55                  7.3531               True   \n",
       "2021-02-04 10:16:05                  7.7576               True   \n",
       "2021-02-04 10:16:15                  7.2667               True   \n",
       "2021-02-04 10:16:25                  7.4799               True   \n",
       "\n",
       "                     Yaw_Position_Normal  Direction Valid  \n",
       "time                                                       \n",
       "2021-02-04 10:15:45            283.94596             True  \n",
       "2021-02-04 10:15:55            283.94596             True  \n",
       "2021-02-04 10:16:05            283.94596             True  \n",
       "2021-02-04 10:16:15            283.94596             True  \n",
       "2021-02-04 10:16:25            283.94596             True  \n",
       "\n",
       "[5 rows x 126 columns]"
      ]
     },
     "execution_count": 30,
     "metadata": {},
     "output_type": "execute_result"
    }
   ],
   "source": [
    "df_filt.head()"
   ]
  },
  {
   "cell_type": "code",
   "execution_count": 53,
   "metadata": {},
   "outputs": [
    {
     "name": "stderr",
     "output_type": "stream",
     "text": [
      "/Users/esimley/opt/anaconda3/lib/python3.7/site-packages/seaborn/distributions.py:2557: FutureWarning: `distplot` is a deprecated function and will be removed in a future version. Please adapt your code to use either `displot` (a figure-level function with similar flexibility) or `histplot` (an axes-level function for histograms).\n",
      "  warnings.warn(msg, FutureWarning)\n",
      "/Users/esimley/opt/anaconda3/lib/python3.7/site-packages/seaborn/distributions.py:2557: FutureWarning: `distplot` is a deprecated function and will be removed in a future version. Please adapt your code to use either `displot` (a figure-level function with similar flexibility) or `histplot` (an axes-level function for histograms).\n",
      "  warnings.warn(msg, FutureWarning)\n",
      "/Users/esimley/opt/anaconda3/lib/python3.7/site-packages/seaborn/distributions.py:2557: FutureWarning: `distplot` is a deprecated function and will be removed in a future version. Please adapt your code to use either `displot` (a figure-level function with similar flexibility) or `histplot` (an axes-level function for histograms).\n",
      "  warnings.warn(msg, FutureWarning)\n",
      "/Users/esimley/opt/anaconda3/lib/python3.7/site-packages/seaborn/distributions.py:2557: FutureWarning: `distplot` is a deprecated function and will be removed in a future version. Please adapt your code to use either `displot` (a figure-level function with similar flexibility) or `histplot` (an axes-level function for histograms).\n",
      "  warnings.warn(msg, FutureWarning)\n",
      "/Users/esimley/opt/anaconda3/lib/python3.7/site-packages/seaborn/distributions.py:2557: FutureWarning: `distplot` is a deprecated function and will be removed in a future version. Please adapt your code to use either `displot` (a figure-level function with similar flexibility) or `histplot` (an axes-level function for histograms).\n",
      "  warnings.warn(msg, FutureWarning)\n",
      "/Users/esimley/opt/anaconda3/lib/python3.7/site-packages/seaborn/distributions.py:2557: FutureWarning: `distplot` is a deprecated function and will be removed in a future version. Please adapt your code to use either `displot` (a figure-level function with similar flexibility) or `histplot` (an axes-level function for histograms).\n",
      "  warnings.warn(msg, FutureWarning)\n"
     ]
    }
   ],
   "source": [
    "\n",
    "ws_col = 'WindSpeed_80m'\n",
    "\n",
    "yaw_offset_targets = [0.,-18.,10.,18.,25.]\n",
    "\n",
    "bins_dist = np.arange(4.5,20.5,1.)\n",
    "\n",
    "\n",
    "fig,axs = plt.subplots(3,2,sharex=True,sharey = True,figsize=(10,9.25))\n",
    "\n",
    "for i, yaw_offset_target in enumerate(yaw_offset_targets):\n",
    "    sns.distplot(df_filt.loc[(df_filt['Yaw_Offset_Cmd_Bin'] == yaw_offset_target) & df_filt['Turbine Operating'],ws_col],bins=bins_dist,kde=False,norm_hist=False,label='Turbine Operating',color='b',ax=axs[i % 3][int(i/3)])\n",
    "#     sns.distplot(df_filt.loc[(df_filt['Yaw_Offset_Cmd_Bin'] == yaw_offset_target) & (~df_filt['Turbine Operating']),ws_col],bins=bins_dist,kde=False,norm_hist=False,label='Background',color='g',ax=axs[i % 3][int(i/3)])\n",
    "    axs[i % 3][int(i/3)].set_title('Yaw Offset: '+str(yaw_offset_target)+ '$^\\circ$')\n",
    "#     axs[i % 3][int(i/3)].legend()\n",
    "    axs[i % 3][int(i/3)].grid()\n",
    "    axs[i % 3][int(i/3)].plot(bins_dist,10*np.ones_like(bins_dist),'k--')\n",
    "\n",
    "sns.distplot(df_filt.loc[(~df_filt['Turbine Operating']),ws_col],bins=bins_dist,kde=False,norm_hist=False,label='Background',color='b',ax=axs[2][1])\n",
    "axs[2][1].set_title('Background')\n",
    "axs[2][1].grid()\n",
    "axs[2][1].plot(bins_dist,10*np.ones_like(bins_dist),'k--')\n",
    "axs[2][1].set_xlabel('Wind Speed (m/s)')\n",
    "axs[2][0].set_xlabel('Wind Speed (m/s)')\n",
    "\n",
    "axs[0][1].set_xlabel('')\n",
    "axs[0][0].set_xlabel('')\n",
    "axs[1][1].set_xlabel('')\n",
    "axs[1][0].set_xlabel('')\n",
    "\n",
    "\n",
    "axs[0][0].set_ylabel('10 s Slice Count')\n",
    "axs[1][0].set_ylabel('10 s Slice Count')\n",
    "axs[2][0].set_ylabel('10 s Slice Count')\n",
    "\n",
    "axs[0][0].set_xlim((bins_dist[0],bins_dist[-1]))\n",
    "\n",
    "datestr = 'Dates Included:\\n'\n",
    "for d in np.unique(df_filt.index.date):\n",
    "    datestr = datestr+str(d)+'\\n'\n",
    "\n",
    "# axs[2][1].text(0.05,0.9,datestr,fontsize=12,verticalalignment='top',transform=axs[2][1].transAxes)\n",
    "\n",
    "plt.tight_layout()    \n",
    "    \n",
    "    \n",
    "fig.savefig(os.path.join(fig_dir,'DataCollection_Summary_background_all_WD.pdf'), bbox_inches='tight')"
   ]
  },
  {
   "cell_type": "code",
   "execution_count": 44,
   "metadata": {},
   "outputs": [
    {
     "name": "stderr",
     "output_type": "stream",
     "text": [
      "/Users/esimley/opt/anaconda3/lib/python3.7/site-packages/seaborn/distributions.py:2557: FutureWarning: `distplot` is a deprecated function and will be removed in a future version. Please adapt your code to use either `displot` (a figure-level function with similar flexibility) or `histplot` (an axes-level function for histograms).\n",
      "  warnings.warn(msg, FutureWarning)\n",
      "/Users/esimley/opt/anaconda3/lib/python3.7/site-packages/seaborn/distributions.py:2557: FutureWarning: `distplot` is a deprecated function and will be removed in a future version. Please adapt your code to use either `displot` (a figure-level function with similar flexibility) or `histplot` (an axes-level function for histograms).\n",
      "  warnings.warn(msg, FutureWarning)\n"
     ]
    }
   ],
   "source": [
    "ws_col = 'WindSpeed_80m'\n",
    "\n",
    "yaw_offset_target = 0.\n",
    "\n",
    "bins_dist = np.arange(4.5,20.5,1.)\n",
    "\n",
    "fig,ax = plt.subplots(1,1,figsize=(6,4))\n",
    "\n",
    "sns.distplot(df_filt.loc[(df_filt['Yaw_Offset_Cmd_Bin'] == yaw_offset_target) & df_filt['Turbine Operating'],ws_col],bins=bins_dist,kde=False,norm_hist=False,label='Normal turbine operation',color='g',ax=ax)\n",
    "sns.distplot(df_filt.loc[(df_filt['Yaw_Offset_Cmd_Bin'] == yaw_offset_target) & (~df_filt['Turbine Operating']),ws_col],bins=bins_dist,kde=False,norm_hist=False,label='Background',color='b',ax=ax)\n",
    "# ax.set_title('Yaw Offset: '+str(yaw_offset_target))\n",
    "ax.legend()\n",
    "ax.grid()\n",
    "#     axs[i % 3][int(i/3)].plot(bins_dist,10*np.ones_like(bins_dist),'k--')\n",
    "\n",
    "ax.set_xlabel('Wind Speed (m/s)')\n",
    "ax.set_ylabel('10 s Slice Count')\n",
    "ax.set_xlim((bins_dist[0],bins_dist[-1]))\n",
    "  \n",
    "fig.savefig(os.path.join(fig_dir,'DataCollection_Summary_WTNPaper.png'), bbox_inches='tight')"
   ]
  },
  {
   "cell_type": "markdown",
   "metadata": {},
   "source": [
    "## Random plots to debug data if needed"
   ]
  },
  {
   "cell_type": "code",
   "execution_count": 22,
   "metadata": {},
   "outputs": [
    {
     "data": {
      "text/plain": [
       "<matplotlib.collections.PathCollection at 0x7ff34cc06910>"
      ]
     },
     "execution_count": 22,
     "metadata": {},
     "output_type": "execute_result"
    }
   ],
   "source": [
    "plt.figure()\n",
    "plt.scatter(df_filt.loc[~df_filt['Turbine Operating'],'NacelleWindSpeed'],df_filt.loc[~df_filt['Turbine Operating'],'Active Power'])\n",
    "plt.scatter(df_filt.loc[~df_filt['Turbine Operating'],ws_col],df_filt.loc[~df_filt['Turbine Operating'],'Active Power'])\n",
    "# plt.scatter(df_filt.loc[~df_filt['Turbine Operating'],'NacelleWindSpeed'],df_filt.loc[~df_filt['Turbine Operating'],'LSS RPM'])\n",
    "# plt.scatter(df_filt.loc[~df_filt['Turbine Operating'],ws_col],df_filt.loc[~df_filt['Turbine Operating'],'LSS RPM'])\n"
   ]
  },
  {
   "cell_type": "code",
   "execution_count": null,
   "metadata": {},
   "outputs": [],
   "source": [
    "plt.figure()\n",
    "# plt.scatter(df['WindSpeed_80m'],df['Active Power'])\n",
    "plt.scatter(df_filt['WindSpeed_80m'],df_filt['12C_Leq'])"
   ]
  },
  {
   "cell_type": "code",
   "execution_count": null,
   "metadata": {},
   "outputs": [],
   "source": [
    "plt.figure()\n",
    "# plt.plot(df['Yaw_Offset_Cmd_Bin'])\n",
    "# plt.plot(df[ws_col])\n",
    "for k in [3,4,9]:\n",
    "    plt.plot(df_filt[cols2check[k]])\n",
    "plt.plot(df_filt['Active Power'])\n",
    "plt.plot(df_filt['Yaw_Offset_Cmd_Bin'])\n",
    "# plt.plot(df['Yaw_Offset_Cmd'])\n",
    "# plt.plot(df['WD_Nacelle'])\n",
    "# plt.plot(df['Yaw_Encoder'],label='Yaw Encoder')\n",
    "# plt.plot(df['Yaw_Position_Normal'],label='Yaw_Position_Normal')\n",
    "# # plt.plot(df['WD1_87m'],label='WD1_87m')\n",
    "# plt.plot(df['Wind_Direction_38m'],label='Wind_Direction_38m')\n",
    "# plt.legend()"
   ]
  },
  {
   "cell_type": "markdown",
   "metadata": {},
   "source": [
    "## Check out data format"
   ]
  },
  {
   "cell_type": "code",
   "execution_count": null,
   "metadata": {},
   "outputs": [],
   "source": [
    "filename = os.path.join(root_dir_tdms,'2020-12-11/DOE15_SlowData_2020_12_11_06_16_29_1Hz.tdms')\n",
    "\n",
    "currFile = TdmsFile(filename)\n",
    "df_sc = currFile.as_dataframe()\n",
    "\n",
    "#rename columns\n",
    "col_names = list(df_sc.columns)\n",
    "for i in range(len(col_names)):\n",
    "    col_names[i] = col_names[i].replace('/\\'SlowData\\'/\\'','')[:-1]\n",
    "df_sc.columns = col_names\n",
    "\n",
    "# set timestamp\n",
    "# TODO: For now, rounding timestamp to nearest second. Should we change to interpolating to integer seconds?\n",
    "df_sc['time'] = pd.to_datetime(currFile.object('SlowData','MS Excel Timestamp').time_track(absolute_time=True))\n",
    "df_sc['time'] = df_sc.time.dt.round(freq='s')"
   ]
  },
  {
   "cell_type": "code",
   "execution_count": null,
   "metadata": {},
   "outputs": [],
   "source": [
    "df_sc.columns.values"
   ]
  },
  {
   "cell_type": "code",
   "execution_count": null,
   "metadata": {},
   "outputs": [],
   "source": [
    "plt.figure()\n",
    "plt.plot(df_sc.time,df_sc['Wind_Direction_38m'])\n",
    "plt.grid()"
   ]
  },
  {
   "cell_type": "code",
   "execution_count": null,
   "metadata": {},
   "outputs": [],
   "source": [
    "df_sc.time"
   ]
  },
  {
   "cell_type": "code",
   "execution_count": null,
   "metadata": {},
   "outputs": [],
   "source": [
    "df_sc.time = df_sc.time.dt.tz_localize(tz='UTC').dt.tz_convert('US/Mountain').dt.tz_localize(None)\n"
   ]
  },
  {
   "cell_type": "code",
   "execution_count": null,
   "metadata": {},
   "outputs": [],
   "source": [
    "df_sc['LabVIEW Timestamp'][0:5]"
   ]
  },
  {
   "cell_type": "code",
   "execution_count": null,
   "metadata": {},
   "outputs": [],
   "source": [
    "pd.to_datetime(df_sc['MS Excel Timestamp'])"
   ]
  },
  {
   "cell_type": "code",
   "execution_count": null,
   "metadata": {},
   "outputs": [],
   "source": [
    "filename = os.path.join(root_dir_noiselab,'noiseLAB_20201201_115609.xls')\n",
    "filename_fft = os.path.join(root_dir_noiselab,'noiseLAB_20201201_115609_FFT.xls')"
   ]
  },
  {
   "cell_type": "code",
   "execution_count": null,
   "metadata": {},
   "outputs": [],
   "source": [
    "imp.reload(rd)\n",
    "\n",
    "filename = os.path.join(root_dir_noiselab,'noiseLAB_20201201_115609_unweighted.xls')\n",
    "filename_fft = os.path.join(root_dir_noiselab,'noiseLAB_20201201_115609_FFT_unweighted.xls')\n",
    "\n",
    "df_nl = rd.read_NoiseLabSlice_file(filename,unweighted=True)\n",
    "df_nl_fft = rd.read_NoiseLabFFTSlice_file(filename_fft)\n",
    "\n",
    "# df_nl = pd.read_csv(filename,sep='\\t')\n",
    "\n",
    "# remove whitespace\n",
    "# df_nl.rename(columns=lambda x: x.strip(),inplace=True)"
   ]
  },
  {
   "cell_type": "code",
   "execution_count": null,
   "metadata": {},
   "outputs": [],
   "source": [
    "df_nl.head()"
   ]
  },
  {
   "cell_type": "code",
   "execution_count": null,
   "metadata": {},
   "outputs": [],
   "source": [
    "df_nl_fft.head()"
   ]
  },
  {
   "cell_type": "code",
   "execution_count": null,
   "metadata": {},
   "outputs": [],
   "source": [
    "filename = os.path.join(root_dir_tdms,'2020-12-22/DOE15_SlowData_2020_12_22_06_13_41_1Hz.tdms')\n",
    "# df_sc = rd.read_tdmsSCADA_file(filename)\n",
    "currFile = TdmsFile(filename)\n",
    "df_sc = currFile.as_dataframe()"
   ]
  },
  {
   "cell_type": "code",
   "execution_count": null,
   "metadata": {},
   "outputs": [],
   "source": [
    "df_sc.columns.values"
   ]
  },
  {
   "cell_type": "code",
   "execution_count": null,
   "metadata": {},
   "outputs": [],
   "source": [
    "df_sc[\"/'SlowData'/'Active Power'\"]"
   ]
  },
  {
   "cell_type": "code",
   "execution_count": null,
   "metadata": {},
   "outputs": [],
   "source": [
    "# filename = os.path.join(root_dir_noiselab,'noiseLAB_20201201_115609_FFT_unweighted.xls')\n",
    "filename = os.path.join(root_dir_noiselab,'noiseLAB_20201201_112609_unweighted.xls')\n",
    "\n",
    "df_nl = pd.read_csv(filename,sep='\\t')\n",
    "\n",
    "    # remove whitespace\n",
    "df_nl.rename(columns=lambda x: x.strip(),inplace=True)\n",
    "df_nl.columns.values"
   ]
  },
  {
   "cell_type": "code",
   "execution_count": null,
   "metadata": {},
   "outputs": [],
   "source": []
  }
 ],
 "metadata": {
  "kernelspec": {
   "display_name": "Python 3",
   "language": "python",
   "name": "python3"
  },
  "language_info": {
   "codemirror_mode": {
    "name": "ipython",
    "version": 3
   },
   "file_extension": ".py",
   "mimetype": "text/x-python",
   "name": "python",
   "nbconvert_exporter": "python",
   "pygments_lexer": "ipython3",
   "version": "3.7.4"
  },
  "toc": {
   "base_numbering": 1,
   "nav_menu": {},
   "number_sections": true,
   "sideBar": true,
   "skip_h1_title": false,
   "title_cell": "Table of Contents",
   "title_sidebar": "Contents",
   "toc_cell": false,
   "toc_position": {
    "height": "calc(100% - 180px)",
    "left": "10px",
    "top": "150px",
    "width": "345.1875px"
   },
   "toc_section_display": true,
   "toc_window_display": true
  }
 },
 "nbformat": 4,
 "nbformat_minor": 4
}
