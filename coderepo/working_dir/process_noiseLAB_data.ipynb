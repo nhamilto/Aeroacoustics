{
 "cells": [
  {
   "cell_type": "markdown",
   "metadata": {},
   "source": [
    "# Import new noiseLAB data into main dataset"
   ]
  },
  {
   "cell_type": "code",
   "execution_count": 2,
   "metadata": {},
   "outputs": [],
   "source": [
    "import sys\n",
    "import os\n",
    "import numpy as np\n",
    "import pandas as pd\n",
    "import matplotlib.pyplot as plt\n",
    "import pickle\n",
    "from nptdms import TdmsFile\n",
    "import imp\n",
    "import seaborn as sns\n",
    "\n",
    "from aeroacoustics import dataset as ds\n",
    "from aeroacoustics import read_data_files as rd"
   ]
  },
  {
   "cell_type": "code",
   "execution_count": 3,
   "metadata": {},
   "outputs": [
    {
     "data": {
      "text/plain": [
       "<module 'aeroacoustics.dataset' from '/Users/esimley/Documents/Code/Aeroacoustics/coderepo/aeroacoustics/dataset.py'>"
      ]
     },
     "execution_count": 3,
     "metadata": {},
     "output_type": "execute_result"
    }
   ],
   "source": [
    "imp.reload(rd)\n",
    "imp.reload(ds)"
   ]
  },
  {
   "cell_type": "code",
   "execution_count": 4,
   "metadata": {},
   "outputs": [
    {
     "name": "stdout",
     "output_type": "stream",
     "text": [
      "Using matplotlib backend: MacOSX\n"
     ]
    }
   ],
   "source": [
    "%matplotlib"
   ]
  },
  {
   "cell_type": "markdown",
   "metadata": {},
   "source": [
    "## Parameters"
   ]
  },
  {
   "cell_type": "code",
   "execution_count": 5,
   "metadata": {},
   "outputs": [],
   "source": [
    "# root_dir_noiselab='/Volumes/Aeroacoustics/_ProcessedData/SliceData'\n",
    "root_dir_noiselab='/Volumes/Aeroacoustics/NoiseLAB/DOE15AeroacousticsProject/Results/Tables'\n",
    "root_dir_tdms='/Volumes/Tests/_raw data/Slow'\n",
    "\n",
    "# list_filename='noiseLAB_files.p'\n",
    "# dataset_file='aeroacoustics_dataset.p'\n",
    "\n",
    "list_filename='/Volumes/Aeroacoustics/_ProcessedData/Dataset/noiseLAB_files.p'\n",
    "list_filename_unweighted='/Volumes/Aeroacoustics/_ProcessedData/Dataset/noiseLAB_files_unweighted.p'\n",
    "dataset_file='/Volumes/Aeroacoustics/_ProcessedData/Dataset/aeroacoustics_dataset.p'\n",
    "dataset_file_unweighted='/Volumes/Aeroacoustics/_ProcessedData/Dataset/aeroacoustics_dataset_unweighted.p'\n",
    "# dataset_file='aeroacoustics_dataset.p'\n",
    "\n",
    "list_filename_fft='/Volumes/Aeroacoustics/_ProcessedData/Dataset/noiseLAB_files_fft.p'\n",
    "list_filename_fft_unweighted='/Volumes/Aeroacoustics/_ProcessedData/Dataset/noiseLAB_files_fft_unweighted.p'\n",
    "dataset_file_fft='/Volumes/Aeroacoustics/_ProcessedData/Dataset/aeroacoustics_dataset_fft.p'\n",
    "dataset_file_fft_unweighted='/Volumes/Aeroacoustics/_ProcessedData/Dataset/aeroacoustics_dataset_fft_unweighted.p'\n",
    "# dataset_file_fft='aeroacoustics_dataset_fft.p'\n",
    "\n",
    "fig_dir = '/Volumes/Aeroacoustics/_ProcessedData/Figures'\n"
   ]
  },
  {
   "cell_type": "markdown",
   "metadata": {},
   "source": [
    "## Reinitialize aeroacoustics dataset"
   ]
  },
  {
   "cell_type": "code",
   "execution_count": null,
   "metadata": {},
   "outputs": [],
   "source": [
    "# df = pd.DataFrame()\n",
    "# # df.to_pickle(dataset_file)\n",
    "# df.to_pickle(dataset_file_unweighted)\n",
    "\n",
    "# files = []\n",
    "# # pickle.dump( files, open( list_filename, \"wb\" ) )\n",
    "# pickle.dump( files, open( list_filename_unweighted, \"wb\" ) )\n"
   ]
  },
  {
   "cell_type": "markdown",
   "metadata": {},
   "source": [
    "### Only FFT"
   ]
  },
  {
   "cell_type": "code",
   "execution_count": null,
   "metadata": {},
   "outputs": [],
   "source": [
    "# df = pd.DataFrame()\n",
    "# df.to_pickle(dataset_file_fft)\n",
    "\n",
    "# files = []\n",
    "# pickle.dump( files, open( list_filename_fft, \"wb\" ) )"
   ]
  },
  {
   "cell_type": "markdown",
   "metadata": {},
   "source": [
    "## Check for new noiseLAB files"
   ]
  },
  {
   "cell_type": "code",
   "execution_count": null,
   "metadata": {},
   "outputs": [],
   "source": [
    "files_new = ds.identify_NoiseLabSlice_to_add(list_filename,root_dir=root_dir_noiselab)\n",
    "\n",
    "files_new = [f for f in files_new if ('FFT' not in f) & ('unweighted' not in f)]\n",
    "print(files_new)\n",
    "\n",
    "files_new_fft = ds.identify_NoiseLabSlice_to_add(list_filename_fft,root_dir=root_dir_noiselab)\n",
    "\n",
    "files_new_fft = [f for f in files_new_fft if ('FFT' in f) & ('unweighted' not in f)]\n",
    "print(files_new_fft)\n",
    "\n",
    "files_new_unweighted = ds.identify_NoiseLabSlice_to_add(list_filename_unweighted,root_dir=root_dir_noiselab)\n",
    "\n",
    "files_new_unweighted = [f for f in files_new_unweighted if ('FFT' not in f) & ('unweighted' in f)]\n",
    "print(files_new_unweighted)"
   ]
  },
  {
   "cell_type": "markdown",
   "metadata": {},
   "source": [
    "## Add new files to dataset"
   ]
  },
  {
   "cell_type": "markdown",
   "metadata": {},
   "source": [
    "This combines the noiseLAB slice data with the SCADA and met data from tdms files, then adds the new data to the master dataset"
   ]
  },
  {
   "cell_type": "markdown",
   "metadata": {},
   "source": [
    "### Third octave bands"
   ]
  },
  {
   "cell_type": "code",
   "execution_count": null,
   "metadata": {},
   "outputs": [],
   "source": [
    "files = pickle.load( open( list_filename, \"rb\" ) )\n",
    "print(files)"
   ]
  },
  {
   "cell_type": "code",
   "execution_count": null,
   "metadata": {},
   "outputs": [],
   "source": [
    "for i_f, f in enumerate(files_new):\n",
    "    print('File '+str(i_f)+' out of '+str(len(files_new)))\n",
    "    print(f)\n",
    "    file_status = ds.process_NoiseLabSlice_file(f,root_dir_noiselab=root_dir_noiselab,\n",
    "                                                       root_dir_tdms=root_dir_tdms,\n",
    "                                                       dataset_file=dataset_file)\n",
    "    \n",
    "    if file_status == 1:\n",
    "        files.append(f)\n",
    "        \n",
    "    pickle.dump( files, open( list_filename, \"wb\" ) )"
   ]
  },
  {
   "cell_type": "markdown",
   "metadata": {},
   "source": [
    "### FFT Spectrum"
   ]
  },
  {
   "cell_type": "code",
   "execution_count": null,
   "metadata": {},
   "outputs": [],
   "source": [
    "files = pickle.load( open( list_filename_fft, \"rb\" ) )\n",
    "print(files)"
   ]
  },
  {
   "cell_type": "code",
   "execution_count": null,
   "metadata": {},
   "outputs": [],
   "source": [
    "for i_f, f in enumerate(files_new_fft):\n",
    "    print('File '+str(i_f)+' out of '+str(len(files_new_fft)))\n",
    "    print(f)\n",
    "    file_status = ds.process_NoiseLabSlice_file(f,root_dir_noiselab=root_dir_noiselab,\n",
    "                                                       root_dir_tdms=root_dir_tdms,\n",
    "                                                       dataset_file=dataset_file_fft,\n",
    "                                                       third_octave=False)\n",
    "    \n",
    "    if file_status == 1:\n",
    "        files.append(f)\n",
    "        \n",
    "    pickle.dump( files, open( list_filename_fft, \"wb\" ) )"
   ]
  },
  {
   "cell_type": "markdown",
   "metadata": {},
   "source": [
    "### Unweighted third octave bands"
   ]
  },
  {
   "cell_type": "code",
   "execution_count": null,
   "metadata": {},
   "outputs": [],
   "source": [
    "files = pickle.load( open( list_filename_unweighted, \"rb\" ) )\n",
    "print(files)"
   ]
  },
  {
   "cell_type": "code",
   "execution_count": null,
   "metadata": {},
   "outputs": [],
   "source": [
    "for i_f, f in enumerate(files_new_unweighted):\n",
    "    print('File '+str(i_f)+' out of '+str(len(files_new_unweighted)))\n",
    "    print(f)\n",
    "    file_status = ds.process_NoiseLabSlice_file(f,root_dir_noiselab=root_dir_noiselab,\n",
    "                                                       root_dir_tdms=root_dir_tdms,\n",
    "                                                       dataset_file=dataset_file_unweighted,\n",
    "                                                       unweighted=True)\n",
    "    \n",
    "    if file_status == 1:\n",
    "        files.append(f)\n",
    "        \n",
    "    pickle.dump( files, open( list_filename_unweighted, \"wb\" ) )"
   ]
  },
  {
   "cell_type": "markdown",
   "metadata": {},
   "source": [
    "## Summarize data"
   ]
  },
  {
   "cell_type": "code",
   "execution_count": 5,
   "metadata": {},
   "outputs": [],
   "source": [
    "df = pd.read_pickle(dataset_file_unweighted)\n",
    "# df = pd.read_pickle(dataset_file)\n",
    "# df = pd.read_pickle(dataset_file_fft)"
   ]
  },
  {
   "cell_type": "markdown",
   "metadata": {},
   "source": [
    "### Check out the data"
   ]
  },
  {
   "cell_type": "code",
   "execution_count": null,
   "metadata": {},
   "outputs": [],
   "source": [
    "plt.figure()\n",
    "plt.plot(df_filt['Yaw_Offset_Cmd_Bin'])\n",
    "# plt.plot(df['Active Power'])\n",
    "# plt.plot(df['WindSpeed_80m'])\n",
    "# plt.plot(df['Active Power'].values)\n",
    "# plt.plot(df['EGD_OpCtl_TurbineFullState'].values)\n",
    "# plt.plot(df['EGD_OpCtl_TurbineOperationState'].values)\n",
    "# plt.plot(df['EGD_OpCtl_TurbineStatus'].values)\n",
    "# plt.plot(df['EGD_Out_CalcTrbineStateSCADA'].values)\n",
    "# plt.plot(df['EGD_Out_TurbineStatusSCADA'].values)\n",
    "# plt.plot(df['EGD_Yaw_PositionToNorth'],'r')\n",
    "# plt.plot(df['Yaw_Encoder'])\n",
    "# plt.plot(df['WD1_87m'])\n",
    "# plt.plot(df['Wind_Direction_38m'])\n",
    "# plt.scatter(df['WindSpeed_80m'],df['01N_Leq'])\n",
    "\n",
    "# fig,axs = plt.subplots(2,1,sharex=True)\n",
    "# # axs[0].plot(df['WindSpeed_80m'],label='Wind Speed')\n",
    "# # axs[0].plot(df['04C_Leq'],label='04C_Leq')\n",
    "# axs[0].plot(~df_filt['Turbine Operating'],label='Background Period')\n",
    "# axs[0].legend()\n",
    "# axs[1].plot(df_filt['Active Power'],label='Power')\n",
    "# axs[1].plot(df_filt['Yaw_Encoder'],label='Yaw Position')\n",
    "# # axs[1].plot(df['WD_Nacelle'],label='WD Nacelle')\n",
    "# axs[1].legend()\n",
    "# plt.plot(df['Yaw_Offset_Cmd_Bin'])"
   ]
  },
  {
   "cell_type": "markdown",
   "metadata": {},
   "source": [
    "### Correct yaw offset bins"
   ]
  },
  {
   "cell_type": "code",
   "execution_count": 6,
   "metadata": {},
   "outputs": [],
   "source": [
    "df_filt = df.copy()\n",
    "\n",
    "df_filt.loc[(df_filt.index >= '2021-01-05 17:30:00') & (df_filt.index < '2021-01-05 17:55:00'),'Yaw_Offset_Cmd_Bin'] = 10.\n",
    "df_filt.loc[(df_filt.index >= '2021-01-05 18:00:00') & (df_filt.index < '2021-01-05 18:26:00'),'Yaw_Offset_Cmd_Bin'] = 18.\n",
    "df_filt.loc[(df_filt.index >= '2021-01-05 18:29:00') & (df_filt.index < '2021-01-05 18:55:00'),'Yaw_Offset_Cmd_Bin'] = 25.\n",
    "df_filt.loc[(df_filt.index >= '2021-01-05 19:00:00') & (df_filt.index < '2021-01-05 19:20:00'),'Yaw_Offset_Cmd_Bin'] = -18.\n",
    "df_filt.loc[(df_filt.index >= '2021-01-05 19:40:00') & (df_filt.index < '2021-01-05 19:50:00'),'Yaw_Offset_Cmd_Bin'] = 10.\n",
    "df_filt.loc[(df_filt.index >= '2021-01-05 20:00:00') & (df_filt.index < '2021-01-05 20:20:00'),'Yaw_Offset_Cmd_Bin'] = 18.\n",
    "df_filt.loc[(df_filt.index >= '2021-01-05 23:22:00') & (df_filt.index < '2021-01-05 23:26:30'),'Yaw_Offset_Cmd_Bin'] = -18.\n",
    "df_filt.loc[(df_filt.index >= '2021-01-05 23:28:00') & (df_filt.index < '2021-01-05 23:31:00'),'Yaw_Offset_Cmd_Bin'] = 10.\n",
    "df_filt.loc[(df_filt.index >= '2021-01-28 10:00:00') & (df_filt.index < '2021-01-28 13:25:00'),'Yaw_Offset_Cmd_Bin'] = 0.\n",
    "df_filt.loc[(df_filt.index >= '2021-02-04 10:45:00') & (df_filt.index < '2021-02-04 11:05:00'),'Yaw_Offset_Cmd_Bin'] = 0.\n",
    "df_filt.loc[(df_filt.index >= '2021-02-04 11:25:00') & (df_filt.index < '2021-02-04 11:39:00'),'Yaw_Offset_Cmd_Bin'] = 10.\n",
    "df_filt.loc[(df_filt.index >= '2021-02-04 17:20:00') & (df_filt.index < '2021-02-04 17:35:00'),'Yaw_Offset_Cmd_Bin'] = 18.\n",
    "df_filt.loc[(df_filt.index >= '2021-02-04 19:06:00') & (df_filt.index < '2021-02-04 19:30:00'),'Yaw_Offset_Cmd_Bin'] = 10.\n",
    "df_filt.loc[(df_filt.index >= '2021-02-04 22:10:00') & (df_filt.index < '2021-02-04 22:30:00'),'Yaw_Offset_Cmd_Bin'] = 18.\n",
    "df_filt.loc[(df_filt.index >= '2021-02-05 00:37:00') & (df_filt.index < '2021-02-05 01:05:00'),'Yaw_Offset_Cmd_Bin'] = 18.\n",
    "df_filt.loc[(df_filt.index >= '2021-02-05 01:15:00') & (df_filt.index < '2021-02-05 01:30:00'),'Yaw_Offset_Cmd_Bin'] = 25.\n",
    "df_filt.loc[(df_filt.index >= '2021-02-05 01:40:00') & (df_filt.index < '2021-02-05 01:50:00'),'Yaw_Offset_Cmd_Bin'] = -18.\n",
    "df_filt.loc[(df_filt.index >= '2021-02-05 02:40:00') & (df_filt.index < '2021-02-05 02:50:00'),'Yaw_Offset_Cmd_Bin'] = 10.\n",
    "df_filt.loc[(df_filt.index >= '2021-02-05 03:36:00') & (df_filt.index < '2021-02-05 03:40:00'),'Yaw_Offset_Cmd_Bin'] = 25.\n",
    "df_filt.loc[(df_filt.index >= '2021-02-05 05:25:00') & (df_filt.index < '2021-02-05 05:34:00'),'Yaw_Offset_Cmd_Bin'] = 10.\n",
    "df_filt.loc[(df_filt.index >= '2021-02-05 06:06:00') & (df_filt.index < '2021-02-05 06:35:00'),'Yaw_Offset_Cmd_Bin'] = 25.\n",
    "df_filt.loc[(df_filt.index >= '2021-02-05 08:04:00') & (df_filt.index < '2021-02-05 08:05:00'),'Yaw_Offset_Cmd_Bin'] = 10.\n",
    "df_filt.loc[(df_filt.index >= '2021-02-05 08:25:00') & (df_filt.index < '2021-02-05 08:33:00'),'Yaw_Offset_Cmd_Bin'] = 18.\n",
    "df_filt.loc[(df_filt.index >= '2021-02-05 08:40:00') & (df_filt.index < '2021-02-05 08:44:00'),'Yaw_Offset_Cmd_Bin'] = 25.\n",
    "df_filt.loc[(df_filt.index >= '2021-02-05 10:07:00') & (df_filt.index < '2021-02-05 10:15:00'),'Yaw_Offset_Cmd_Bin'] = 10.\n",
    "df_filt.loc[(df_filt.index >= '2021-02-05 10:40:00') & (df_filt.index < '2021-02-05 11:00:00'),'Yaw_Offset_Cmd_Bin'] = 18.\n",
    "df_filt.loc[(df_filt.index >= '2021-02-05 11:10:00') & (df_filt.index < '2021-02-05 11:33:00'),'Yaw_Offset_Cmd_Bin'] = 25.\n",
    "df_filt.loc[(df_filt.index >= '2021-02-05 11:55:00') & (df_filt.index < '2021-02-05 12:05:00'),'Yaw_Offset_Cmd_Bin'] = -18.\n",
    "df_filt.loc[(df_filt.index >= '2021-02-05 12:07:00') & (df_filt.index < '2021-02-05 12:25:00'),'Yaw_Offset_Cmd_Bin'] = 0.\n",
    "df_filt.loc[(df_filt.index >= '2021-02-05 12:37:00') & (df_filt.index < '2021-02-05 13:05:00'),'Yaw_Offset_Cmd_Bin'] = 10.\n",
    "df_filt.loc[(df_filt.index >= '2021-02-05 14:10:00') & (df_filt.index < '2021-02-05 14:30:00'),'Yaw_Offset_Cmd_Bin'] = -18.\n",
    "df_filt.loc[(df_filt.index >= '2021-02-05 15:30:00') & (df_filt.index < '2021-02-05 15:35:00'),'Yaw_Offset_Cmd_Bin'] = 10.\n",
    "df_filt.loc[(df_filt.index >= '2021-02-05 15:40:00') & (df_filt.index < '2021-02-05 16:02:00'),'Yaw_Offset_Cmd_Bin'] = 18.\n",
    "df_filt.loc[(df_filt.index >= '2021-02-05 16:25:00') & (df_filt.index < '2021-02-05 16:34:00'),'Yaw_Offset_Cmd_Bin'] = 25.\n",
    "df_filt.loc[(df_filt.index >= '2021-02-05 18:15:00') & (df_filt.index < '2021-02-05 18:30:00'),'Yaw_Offset_Cmd_Bin'] = 18.\n",
    "df_filt.loc[(df_filt.index >= '2021-02-05 19:10:00') & (df_filt.index < '2021-02-05 19:20:00'),'Yaw_Offset_Cmd_Bin'] = -18.\n",
    "df_filt.loc[(df_filt.index >= '2021-02-05 20:50:00') & (df_filt.index < '2021-02-05 21:05:00'),'Yaw_Offset_Cmd_Bin'] = 18.\n",
    "df_filt.loc[(df_filt.index >= '2021-02-05 21:08:00') & (df_filt.index < '2021-02-05 21:20:00'),'Yaw_Offset_Cmd_Bin'] = 25.\n",
    "df_filt.loc[(df_filt.index >= '2021-02-05 22:40:00') & (df_filt.index < '2021-02-05 22:50:00'),'Yaw_Offset_Cmd_Bin'] = 10.\n",
    "df_filt.loc[(df_filt.index >= '2021-02-05 23:20:00') & (df_filt.index < '2021-02-05 23:30:00'),'Yaw_Offset_Cmd_Bin'] = 18.\n",
    "df_filt.loc[(df_filt.index >= '2021-02-06 00:20:00') & (df_filt.index < '2021-02-06 00:30:00'),'Yaw_Offset_Cmd_Bin'] = -18.\n",
    "df_filt.loc[(df_filt.index >= '2021-02-06 01:25:00') & (df_filt.index < '2021-02-06 01:35:00'),'Yaw_Offset_Cmd_Bin'] = 10.\n",
    "df_filt.loc[(df_filt.index >= '2021-02-06 01:50:00') & (df_filt.index < '2021-02-06 02:05:00'),'Yaw_Offset_Cmd_Bin'] = 18.\n",
    "df_filt.loc[(df_filt.index >= '2021-02-06 02:10:00') & (df_filt.index < '2021-02-06 02:34:00'),'Yaw_Offset_Cmd_Bin'] = 25.\n",
    "df_filt.loc[(df_filt.index >= '2021-02-06 02:40:00') & (df_filt.index < '2021-02-06 02:50:00'),'Yaw_Offset_Cmd_Bin'] = -18.\n",
    "df_filt.loc[(df_filt.index >= '2021-02-06 03:07:00') & (df_filt.index < '2021-02-06 03:15:00'),'Yaw_Offset_Cmd_Bin'] = 0.\n",
    "df_filt.loc[(df_filt.index >= '2021-02-06 04:50:00') & (df_filt.index < '2021-02-06 04:55:00'),'Yaw_Offset_Cmd_Bin'] = 25.\n",
    "df_filt.loc[(df_filt.index >= '2021-02-06 05:40:00') & (df_filt.index < '2021-02-06 05:50:00'),'Yaw_Offset_Cmd_Bin'] = 0."
   ]
  },
  {
   "cell_type": "markdown",
   "metadata": {},
   "source": [
    "### Filter data"
   ]
  },
  {
   "cell_type": "code",
   "execution_count": 7,
   "metadata": {},
   "outputs": [],
   "source": [
    "# If true, will use any wind direction for background noise. If false, keep only 270 - 300 deg\n",
    "use_any_WD_background = True\n",
    "\n",
    "# df_filt = df.copy()\n",
    "\n",
    "# get rid of spurious offset commands\n",
    "# df_filt.loc[df_filt.index < '2021-01-01','Yaw_Offset_Cmd_Bin'] = 0.\n",
    "\n",
    "# filter to remove 5 minutes after a yaw offset command change\n",
    "change_points = df_filt.loc[df_filt['Yaw_Offset_Cmd_Bin'].diff().abs() > 0].index\n",
    "for d in change_points:\n",
    "    df_filt = df_filt[(df_filt.index < d) | (df_filt.index >= d + pd.Timedelta('5 min'))]\n",
    "\n",
    "# create derived signals\n",
    "df_filt['Turbine Operating'] = (df_filt['EGD_OpCtl_TurbineStatus'] == 2)\n",
    "# catch operation based on power too, and remove from dataset\n",
    "df_filt = df_filt[(df_filt['Active Power'] < 0) | df_filt['Turbine Operating']]\n",
    "    \n",
    "# filter out when turbine not operating but still yawing?\n",
    "df_filt = df_filt.loc[(df_filt['Turbine Operating']) | (df_filt['Yaw_Encoder'].diff().abs() < 0.1)]\n",
    "    \n",
    "# This should catch cases where the yaw offset command is NaN beause the turbine is not running\n",
    "df_filt.loc[~df_filt['Turbine Operating'],'Yaw_Offset_Cmd_Bin'] = 0.\n",
    "df_filt['Yaw_Position_Normal'] = (df_filt['Yaw_Encoder'] + df_filt['Yaw_Offset_Cmd_Bin']) % 360.\n",
    "\n",
    "# filter to yaw position +/- 15 degrees from 285\n",
    "df_filt['Direction Valid'] = (df_filt['Yaw_Position_Normal'] >= 270.) & (df_filt['Yaw_Position_Normal'] <= 300.)\n",
    "\n",
    "if use_any_WD_background:\n",
    "    df_filt = df_filt[df_filt['Direction Valid'] | ~df_filt['Turbine Operating']]\n",
    "else:\n",
    "    df_filt = df_filt[df_filt['Direction Valid']]\n",
    "\n",
    "# filter to rows when all mics are available\n",
    "cols2check = ['01N_Leq', '02N_Leq', '03N_Leq', '04C_Leq', '05C_Leq', '06S_Leq', '07S_Leq', '08S_Leq', '11N_Leq', '12C_Leq', '13S_Leq']\n",
    "# df_filt = df_filt.dropna(subset=cols2check)"
   ]
  },
  {
   "cell_type": "markdown",
   "metadata": {},
   "source": [
    "### Plot histograms by offset"
   ]
  },
  {
   "cell_type": "code",
   "execution_count": 6,
   "metadata": {},
   "outputs": [],
   "source": [
    "df_filt = pd.read_pickle('/Volumes/Aeroacoustics/_ProcessedData/Dataset/aeroacoustics_scada_met_dataset_filtered.p')"
   ]
  },
  {
   "cell_type": "code",
   "execution_count": 48,
   "metadata": {},
   "outputs": [],
   "source": [
    "\n",
    "df_filt = df_filt_orig.copy()\n",
    "\n",
    "# df_filt_orig = df_filt.copy()\n",
    "# df_filt = df_filt[(df_filt.index >= '2021-02-04 00:00:00') & (df_filt.index < '2021-02-04 18:00:00')]"
   ]
  },
  {
   "cell_type": "code",
   "execution_count": 7,
   "metadata": {},
   "outputs": [
    {
     "data": {
      "text/html": [
       "<div>\n",
       "<style scoped>\n",
       "    .dataframe tbody tr th:only-of-type {\n",
       "        vertical-align: middle;\n",
       "    }\n",
       "\n",
       "    .dataframe tbody tr th {\n",
       "        vertical-align: top;\n",
       "    }\n",
       "\n",
       "    .dataframe thead th {\n",
       "        text-align: right;\n",
       "    }\n",
       "</style>\n",
       "<table border=\"1\" class=\"dataframe\">\n",
       "  <thead>\n",
       "    <tr style=\"text-align: right;\">\n",
       "      <th></th>\n",
       "      <th>01N_Leq</th>\n",
       "      <th>02N_Leq</th>\n",
       "      <th>03N_Leq</th>\n",
       "      <th>04C_Leq</th>\n",
       "      <th>05C_Leq</th>\n",
       "      <th>06S_Leq</th>\n",
       "      <th>07S_Leq</th>\n",
       "      <th>08S_Leq</th>\n",
       "      <th>11N_Leq</th>\n",
       "      <th>12C_Leq</th>\n",
       "      <th>...</th>\n",
       "      <th>11N_third_octave_spectrum_A</th>\n",
       "      <th>11N_LAeq</th>\n",
       "      <th>12C_third_octave_spectrum_A</th>\n",
       "      <th>12C_LAeq</th>\n",
       "      <th>13S_third_octave_spectrum_A</th>\n",
       "      <th>13S_LAeq</th>\n",
       "      <th>Turbine Operating</th>\n",
       "      <th>Yaw_Position_Normal</th>\n",
       "      <th>Direction Valid</th>\n",
       "      <th>WindSpeed_80m_round</th>\n",
       "    </tr>\n",
       "    <tr>\n",
       "      <th>time</th>\n",
       "      <th></th>\n",
       "      <th></th>\n",
       "      <th></th>\n",
       "      <th></th>\n",
       "      <th></th>\n",
       "      <th></th>\n",
       "      <th></th>\n",
       "      <th></th>\n",
       "      <th></th>\n",
       "      <th></th>\n",
       "      <th></th>\n",
       "      <th></th>\n",
       "      <th></th>\n",
       "      <th></th>\n",
       "      <th></th>\n",
       "      <th></th>\n",
       "      <th></th>\n",
       "      <th></th>\n",
       "      <th></th>\n",
       "      <th></th>\n",
       "      <th></th>\n",
       "    </tr>\n",
       "  </thead>\n",
       "  <tbody>\n",
       "    <tr>\n",
       "      <th>2020-12-01 09:56:38</th>\n",
       "      <td>76.989982</td>\n",
       "      <td>68.191539</td>\n",
       "      <td>70.205719</td>\n",
       "      <td>82.989893</td>\n",
       "      <td>72.761304</td>\n",
       "      <td>76.669293</td>\n",
       "      <td>76.429438</td>\n",
       "      <td>79.454667</td>\n",
       "      <td>77.469226</td>\n",
       "      <td>83.785340</td>\n",
       "      <td>...</td>\n",
       "      <td>[-77.13501793903905, -73.92966772878486, -63.1...</td>\n",
       "      <td>47.289016</td>\n",
       "      <td>[-75.01501793903904, -68.80966772878486, -56.1...</td>\n",
       "      <td>47.342847</td>\n",
       "      <td>[-78.82501793903904, -71.60966772878486, -59.7...</td>\n",
       "      <td>48.669144</td>\n",
       "      <td>True</td>\n",
       "      <td>287.014716</td>\n",
       "      <td>True</td>\n",
       "      <td>7.0</td>\n",
       "    </tr>\n",
       "    <tr>\n",
       "      <th>2020-12-01 09:56:48</th>\n",
       "      <td>75.776223</td>\n",
       "      <td>70.169631</td>\n",
       "      <td>81.186634</td>\n",
       "      <td>78.270664</td>\n",
       "      <td>72.096824</td>\n",
       "      <td>78.202363</td>\n",
       "      <td>77.046473</td>\n",
       "      <td>78.224589</td>\n",
       "      <td>74.908588</td>\n",
       "      <td>80.798815</td>\n",
       "      <td>...</td>\n",
       "      <td>[-86.91501793903905, -81.06966772878485, -63.6...</td>\n",
       "      <td>47.047424</td>\n",
       "      <td>[-74.66501793903905, -68.83966772878486, -58.7...</td>\n",
       "      <td>47.323581</td>\n",
       "      <td>[-77.10501793903904, -69.18966772878485, -60.7...</td>\n",
       "      <td>48.429819</td>\n",
       "      <td>True</td>\n",
       "      <td>287.014716</td>\n",
       "      <td>True</td>\n",
       "      <td>7.0</td>\n",
       "    </tr>\n",
       "    <tr>\n",
       "      <th>2020-12-01 09:56:58</th>\n",
       "      <td>73.850461</td>\n",
       "      <td>77.815445</td>\n",
       "      <td>77.393222</td>\n",
       "      <td>77.658202</td>\n",
       "      <td>71.370125</td>\n",
       "      <td>82.936406</td>\n",
       "      <td>76.957499</td>\n",
       "      <td>73.556560</td>\n",
       "      <td>78.341891</td>\n",
       "      <td>75.464849</td>\n",
       "      <td>...</td>\n",
       "      <td>[-77.90501793903904, -71.06966772878485, -59.9...</td>\n",
       "      <td>47.608054</td>\n",
       "      <td>[-83.75501793903905, -72.00966772878486, -65.8...</td>\n",
       "      <td>47.740272</td>\n",
       "      <td>[-73.04501793903904, -67.91966772878486, -57.5...</td>\n",
       "      <td>48.496708</td>\n",
       "      <td>True</td>\n",
       "      <td>287.014716</td>\n",
       "      <td>True</td>\n",
       "      <td>6.0</td>\n",
       "    </tr>\n",
       "    <tr>\n",
       "      <th>2020-12-01 09:57:08</th>\n",
       "      <td>74.863659</td>\n",
       "      <td>80.735940</td>\n",
       "      <td>75.289288</td>\n",
       "      <td>78.034657</td>\n",
       "      <td>75.111227</td>\n",
       "      <td>82.148704</td>\n",
       "      <td>74.859264</td>\n",
       "      <td>75.984638</td>\n",
       "      <td>76.294142</td>\n",
       "      <td>76.826390</td>\n",
       "      <td>...</td>\n",
       "      <td>[-80.25501793903905, -71.25966772878486, -65.2...</td>\n",
       "      <td>47.961112</td>\n",
       "      <td>[-81.01501793903904, -73.33966772878486, -63.8...</td>\n",
       "      <td>47.569662</td>\n",
       "      <td>[-71.88501793903905, -66.34966772878485, -58.6...</td>\n",
       "      <td>48.741653</td>\n",
       "      <td>True</td>\n",
       "      <td>287.014716</td>\n",
       "      <td>True</td>\n",
       "      <td>6.0</td>\n",
       "    </tr>\n",
       "    <tr>\n",
       "      <th>2020-12-01 09:57:18</th>\n",
       "      <td>74.433554</td>\n",
       "      <td>72.988868</td>\n",
       "      <td>78.079259</td>\n",
       "      <td>75.827195</td>\n",
       "      <td>76.174513</td>\n",
       "      <td>77.903999</td>\n",
       "      <td>74.051714</td>\n",
       "      <td>81.619553</td>\n",
       "      <td>76.266517</td>\n",
       "      <td>79.423600</td>\n",
       "      <td>...</td>\n",
       "      <td>[-81.05501793903905, -71.94966772878486, -63.2...</td>\n",
       "      <td>47.547886</td>\n",
       "      <td>[-77.91501793903905, -72.63966772878486, -60.0...</td>\n",
       "      <td>47.131360</td>\n",
       "      <td>[-79.52501793903905, -70.21966772878486, -58.4...</td>\n",
       "      <td>48.691795</td>\n",
       "      <td>True</td>\n",
       "      <td>287.014716</td>\n",
       "      <td>True</td>\n",
       "      <td>6.0</td>\n",
       "    </tr>\n",
       "  </tbody>\n",
       "</table>\n",
       "<p>5 rows × 259 columns</p>\n",
       "</div>"
      ],
      "text/plain": [
       "                       01N_Leq    02N_Leq    03N_Leq    04C_Leq    05C_Leq  \\\n",
       "time                                                                         \n",
       "2020-12-01 09:56:38  76.989982  68.191539  70.205719  82.989893  72.761304   \n",
       "2020-12-01 09:56:48  75.776223  70.169631  81.186634  78.270664  72.096824   \n",
       "2020-12-01 09:56:58  73.850461  77.815445  77.393222  77.658202  71.370125   \n",
       "2020-12-01 09:57:08  74.863659  80.735940  75.289288  78.034657  75.111227   \n",
       "2020-12-01 09:57:18  74.433554  72.988868  78.079259  75.827195  76.174513   \n",
       "\n",
       "                       06S_Leq    07S_Leq    08S_Leq    11N_Leq    12C_Leq  \\\n",
       "time                                                                         \n",
       "2020-12-01 09:56:38  76.669293  76.429438  79.454667  77.469226  83.785340   \n",
       "2020-12-01 09:56:48  78.202363  77.046473  78.224589  74.908588  80.798815   \n",
       "2020-12-01 09:56:58  82.936406  76.957499  73.556560  78.341891  75.464849   \n",
       "2020-12-01 09:57:08  82.148704  74.859264  75.984638  76.294142  76.826390   \n",
       "2020-12-01 09:57:18  77.903999  74.051714  81.619553  76.266517  79.423600   \n",
       "\n",
       "                     ...                        11N_third_octave_spectrum_A  \\\n",
       "time                 ...                                                      \n",
       "2020-12-01 09:56:38  ...  [-77.13501793903905, -73.92966772878486, -63.1...   \n",
       "2020-12-01 09:56:48  ...  [-86.91501793903905, -81.06966772878485, -63.6...   \n",
       "2020-12-01 09:56:58  ...  [-77.90501793903904, -71.06966772878485, -59.9...   \n",
       "2020-12-01 09:57:08  ...  [-80.25501793903905, -71.25966772878486, -65.2...   \n",
       "2020-12-01 09:57:18  ...  [-81.05501793903905, -71.94966772878486, -63.2...   \n",
       "\n",
       "                      11N_LAeq  \\\n",
       "time                             \n",
       "2020-12-01 09:56:38  47.289016   \n",
       "2020-12-01 09:56:48  47.047424   \n",
       "2020-12-01 09:56:58  47.608054   \n",
       "2020-12-01 09:57:08  47.961112   \n",
       "2020-12-01 09:57:18  47.547886   \n",
       "\n",
       "                                           12C_third_octave_spectrum_A  \\\n",
       "time                                                                     \n",
       "2020-12-01 09:56:38  [-75.01501793903904, -68.80966772878486, -56.1...   \n",
       "2020-12-01 09:56:48  [-74.66501793903905, -68.83966772878486, -58.7...   \n",
       "2020-12-01 09:56:58  [-83.75501793903905, -72.00966772878486, -65.8...   \n",
       "2020-12-01 09:57:08  [-81.01501793903904, -73.33966772878486, -63.8...   \n",
       "2020-12-01 09:57:18  [-77.91501793903905, -72.63966772878486, -60.0...   \n",
       "\n",
       "                      12C_LAeq  \\\n",
       "time                             \n",
       "2020-12-01 09:56:38  47.342847   \n",
       "2020-12-01 09:56:48  47.323581   \n",
       "2020-12-01 09:56:58  47.740272   \n",
       "2020-12-01 09:57:08  47.569662   \n",
       "2020-12-01 09:57:18  47.131360   \n",
       "\n",
       "                                           13S_third_octave_spectrum_A  \\\n",
       "time                                                                     \n",
       "2020-12-01 09:56:38  [-78.82501793903904, -71.60966772878486, -59.7...   \n",
       "2020-12-01 09:56:48  [-77.10501793903904, -69.18966772878485, -60.7...   \n",
       "2020-12-01 09:56:58  [-73.04501793903904, -67.91966772878486, -57.5...   \n",
       "2020-12-01 09:57:08  [-71.88501793903905, -66.34966772878485, -58.6...   \n",
       "2020-12-01 09:57:18  [-79.52501793903905, -70.21966772878486, -58.4...   \n",
       "\n",
       "                      13S_LAeq  Turbine Operating  Yaw_Position_Normal  \\\n",
       "time                                                                     \n",
       "2020-12-01 09:56:38  48.669144               True           287.014716   \n",
       "2020-12-01 09:56:48  48.429819               True           287.014716   \n",
       "2020-12-01 09:56:58  48.496708               True           287.014716   \n",
       "2020-12-01 09:57:08  48.741653               True           287.014716   \n",
       "2020-12-01 09:57:18  48.691795               True           287.014716   \n",
       "\n",
       "                     Direction Valid  WindSpeed_80m_round  \n",
       "time                                                       \n",
       "2020-12-01 09:56:38             True                  7.0  \n",
       "2020-12-01 09:56:48             True                  7.0  \n",
       "2020-12-01 09:56:58             True                  6.0  \n",
       "2020-12-01 09:57:08             True                  6.0  \n",
       "2020-12-01 09:57:18             True                  6.0  \n",
       "\n",
       "[5 rows x 259 columns]"
      ]
     },
     "execution_count": 7,
     "metadata": {},
     "output_type": "execute_result"
    }
   ],
   "source": [
    "df_filt.head()"
   ]
  },
  {
   "cell_type": "code",
   "execution_count": 12,
   "metadata": {},
   "outputs": [
    {
     "name": "stderr",
     "output_type": "stream",
     "text": [
      "/Users/esimley/opt/anaconda3/lib/python3.7/site-packages/seaborn/distributions.py:2557: FutureWarning: `distplot` is a deprecated function and will be removed in a future version. Please adapt your code to use either `displot` (a figure-level function with similar flexibility) or `histplot` (an axes-level function for histograms).\n",
      "  warnings.warn(msg, FutureWarning)\n",
      "/Users/esimley/opt/anaconda3/lib/python3.7/site-packages/seaborn/distributions.py:2557: FutureWarning: `distplot` is a deprecated function and will be removed in a future version. Please adapt your code to use either `displot` (a figure-level function with similar flexibility) or `histplot` (an axes-level function for histograms).\n",
      "  warnings.warn(msg, FutureWarning)\n",
      "/Users/esimley/opt/anaconda3/lib/python3.7/site-packages/seaborn/distributions.py:2557: FutureWarning: `distplot` is a deprecated function and will be removed in a future version. Please adapt your code to use either `displot` (a figure-level function with similar flexibility) or `histplot` (an axes-level function for histograms).\n",
      "  warnings.warn(msg, FutureWarning)\n",
      "/Users/esimley/opt/anaconda3/lib/python3.7/site-packages/seaborn/distributions.py:2557: FutureWarning: `distplot` is a deprecated function and will be removed in a future version. Please adapt your code to use either `displot` (a figure-level function with similar flexibility) or `histplot` (an axes-level function for histograms).\n",
      "  warnings.warn(msg, FutureWarning)\n",
      "/Users/esimley/opt/anaconda3/lib/python3.7/site-packages/seaborn/distributions.py:2557: FutureWarning: `distplot` is a deprecated function and will be removed in a future version. Please adapt your code to use either `displot` (a figure-level function with similar flexibility) or `histplot` (an axes-level function for histograms).\n",
      "  warnings.warn(msg, FutureWarning)\n",
      "/Users/esimley/opt/anaconda3/lib/python3.7/site-packages/seaborn/distributions.py:2557: FutureWarning: `distplot` is a deprecated function and will be removed in a future version. Please adapt your code to use either `displot` (a figure-level function with similar flexibility) or `histplot` (an axes-level function for histograms).\n",
      "  warnings.warn(msg, FutureWarning)\n"
     ]
    }
   ],
   "source": [
    "\n",
    "ws_col = 'WindSpeed_80m'\n",
    "\n",
    "yaw_offset_targets = [0.,-18.,10.,18.,25.]\n",
    "\n",
    "bins_dist = np.arange(4.5,20.5,1.)\n",
    "\n",
    "\n",
    "# fig,axs = plt.subplots(3,2,sharex=True,sharey = True,figsize=(10,9.25))\n",
    "fig,axs = plt.subplots(3,2,sharex=True,sharey = True,figsize=(8,7.5))\n",
    "\n",
    "for i, yaw_offset_target in enumerate(yaw_offset_targets):\n",
    "    sns.distplot(df_filt.loc[(df_filt['Yaw_Offset_Cmd_Bin'] == yaw_offset_target) & df_filt['Turbine Operating'],ws_col],bins=bins_dist,kde=False,norm_hist=False,label='Turbine Operating',color='b',ax=axs[i % 3][int(i/3)],hist_kws=dict(edgecolor='0.25'))\n",
    "#     sns.distplot(df_filt.loc[(df_filt['Yaw_Offset_Cmd_Bin'] == yaw_offset_target) & (~df_filt['Turbine Operating']),ws_col],bins=bins_dist,kde=False,norm_hist=False,label='Background',color='g',ax=axs[i % 3][int(i/3)])\n",
    "    axs[i % 3][int(i/3)].set_title('Yaw Offset: '+str(yaw_offset_target)+ '$^\\circ$')\n",
    "#     axs[i % 3][int(i/3)].legend()\n",
    "    axs[i % 3][int(i/3)].grid()\n",
    "    axs[i % 3][int(i/3)].plot(bins_dist,10*np.ones_like(bins_dist),'k--')\n",
    "\n",
    "sns.distplot(df_filt.loc[(~df_filt['Turbine Operating']),ws_col],bins=bins_dist,kde=False,norm_hist=False,label='Background',color='b',ax=axs[2][1],hist_kws=dict(edgecolor='0.25'))\n",
    "axs[2][1].set_title('Background')\n",
    "axs[2][1].grid()\n",
    "axs[2][1].plot(bins_dist,10*np.ones_like(bins_dist),'k--')\n",
    "axs[2][1].set_xlabel('Wind Speed (m/s)')\n",
    "axs[2][0].set_xlabel('Wind Speed (m/s)')\n",
    "\n",
    "axs[0][1].set_xlabel('')\n",
    "axs[0][0].set_xlabel('')\n",
    "axs[1][1].set_xlabel('')\n",
    "axs[1][0].set_xlabel('')\n",
    "\n",
    "\n",
    "axs[0][0].set_ylabel('10 s Sample Count')\n",
    "axs[1][0].set_ylabel('10 s Sample Count')\n",
    "axs[2][0].set_ylabel('10 s Sample Count')\n",
    "\n",
    "axs[0][0].set_xlim((bins_dist[0],bins_dist[-1]))\n",
    "\n",
    "datestr = 'Dates Included:\\n'\n",
    "for d in np.unique(df_filt.index.date):\n",
    "    datestr = datestr+str(d)+'\\n'\n",
    "\n",
    "# axs[2][1].text(0.05,0.9,datestr,fontsize=12,verticalalignment='top',transform=axs[2][1].transAxes)\n",
    "\n",
    "plt.tight_layout()    \n",
    "    \n",
    "    \n",
    "fig.savefig(os.path.join(fig_dir,'DataCollection_Summary_background_all_WD_resize.pdf'), bbox_inches='tight')"
   ]
  },
  {
   "cell_type": "code",
   "execution_count": 10,
   "metadata": {},
   "outputs": [
    {
     "name": "stderr",
     "output_type": "stream",
     "text": [
      "/Users/esimley/opt/anaconda3/lib/python3.7/site-packages/seaborn/distributions.py:2557: FutureWarning: `distplot` is a deprecated function and will be removed in a future version. Please adapt your code to use either `displot` (a figure-level function with similar flexibility) or `histplot` (an axes-level function for histograms).\n",
      "  warnings.warn(msg, FutureWarning)\n",
      "/Users/esimley/opt/anaconda3/lib/python3.7/site-packages/seaborn/distributions.py:2557: FutureWarning: `distplot` is a deprecated function and will be removed in a future version. Please adapt your code to use either `displot` (a figure-level function with similar flexibility) or `histplot` (an axes-level function for histograms).\n",
      "  warnings.warn(msg, FutureWarning)\n"
     ]
    }
   ],
   "source": [
    "ws_col = 'WindSpeed_80m'\n",
    "\n",
    "yaw_offset_target = 0.\n",
    "\n",
    "bins_dist = np.arange(4.5,20.5,1.)\n",
    "\n",
    "fig,ax = plt.subplots(1,1,figsize=(6,4))\n",
    "\n",
    "sns.distplot(df_filt.loc[(df_filt['Yaw_Offset_Cmd_Bin'] == yaw_offset_target) & df_filt['Turbine Operating'],ws_col],bins=bins_dist,kde=False,norm_hist=False,label='Normal turbine operation',color='g',ax=ax)\n",
    "sns.distplot(df_filt.loc[(df_filt['Yaw_Offset_Cmd_Bin'] == yaw_offset_target) & (~df_filt['Turbine Operating']),ws_col],bins=bins_dist,kde=False,norm_hist=False,label='Background',color='b',ax=ax)\n",
    "# ax.set_title('Yaw Offset: '+str(yaw_offset_target))\n",
    "ax.legend()\n",
    "ax.grid()\n",
    "#     axs[i % 3][int(i/3)].plot(bins_dist,10*np.ones_like(bins_dist),'k--')\n",
    "\n",
    "ax.set_xlabel('Wind Speed (m/s)')\n",
    "ax.set_ylabel('10 s Sample Count')\n",
    "ax.set_xlim((bins_dist[0],bins_dist[-1]))\n",
    "  \n",
    "fig.savefig(os.path.join(fig_dir,'DataCollection_Summary_WTNPaper.png'), bbox_inches='tight')"
   ]
  },
  {
   "cell_type": "markdown",
   "metadata": {},
   "source": [
    "## Random plots to debug data if needed"
   ]
  },
  {
   "cell_type": "code",
   "execution_count": 22,
   "metadata": {},
   "outputs": [
    {
     "data": {
      "text/plain": [
       "<matplotlib.collections.PathCollection at 0x7ff34cc06910>"
      ]
     },
     "execution_count": 22,
     "metadata": {},
     "output_type": "execute_result"
    }
   ],
   "source": [
    "plt.figure()\n",
    "plt.scatter(df_filt.loc[~df_filt['Turbine Operating'],'NacelleWindSpeed'],df_filt.loc[~df_filt['Turbine Operating'],'Active Power'])\n",
    "plt.scatter(df_filt.loc[~df_filt['Turbine Operating'],ws_col],df_filt.loc[~df_filt['Turbine Operating'],'Active Power'])\n",
    "# plt.scatter(df_filt.loc[~df_filt['Turbine Operating'],'NacelleWindSpeed'],df_filt.loc[~df_filt['Turbine Operating'],'LSS RPM'])\n",
    "# plt.scatter(df_filt.loc[~df_filt['Turbine Operating'],ws_col],df_filt.loc[~df_filt['Turbine Operating'],'LSS RPM'])\n"
   ]
  },
  {
   "cell_type": "code",
   "execution_count": null,
   "metadata": {},
   "outputs": [],
   "source": [
    "plt.figure()\n",
    "# plt.scatter(df['WindSpeed_80m'],df['Active Power'])\n",
    "plt.scatter(df_filt['WindSpeed_80m'],df_filt['12C_Leq'])"
   ]
  },
  {
   "cell_type": "code",
   "execution_count": null,
   "metadata": {},
   "outputs": [],
   "source": [
    "plt.figure()\n",
    "# plt.plot(df['Yaw_Offset_Cmd_Bin'])\n",
    "# plt.plot(df[ws_col])\n",
    "for k in [3,4,9]:\n",
    "    plt.plot(df_filt[cols2check[k]])\n",
    "plt.plot(df_filt['Active Power'])\n",
    "plt.plot(df_filt['Yaw_Offset_Cmd_Bin'])\n",
    "# plt.plot(df['Yaw_Offset_Cmd'])\n",
    "# plt.plot(df['WD_Nacelle'])\n",
    "# plt.plot(df['Yaw_Encoder'],label='Yaw Encoder')\n",
    "# plt.plot(df['Yaw_Position_Normal'],label='Yaw_Position_Normal')\n",
    "# # plt.plot(df['WD1_87m'],label='WD1_87m')\n",
    "# plt.plot(df['Wind_Direction_38m'],label='Wind_Direction_38m')\n",
    "# plt.legend()"
   ]
  },
  {
   "cell_type": "markdown",
   "metadata": {},
   "source": [
    "## Check out data format"
   ]
  },
  {
   "cell_type": "code",
   "execution_count": null,
   "metadata": {},
   "outputs": [],
   "source": [
    "filename = os.path.join(root_dir_tdms,'2020-12-11/DOE15_SlowData_2020_12_11_06_16_29_1Hz.tdms')\n",
    "\n",
    "currFile = TdmsFile(filename)\n",
    "df_sc = currFile.as_dataframe()\n",
    "\n",
    "#rename columns\n",
    "col_names = list(df_sc.columns)\n",
    "for i in range(len(col_names)):\n",
    "    col_names[i] = col_names[i].replace('/\\'SlowData\\'/\\'','')[:-1]\n",
    "df_sc.columns = col_names\n",
    "\n",
    "# set timestamp\n",
    "# TODO: For now, rounding timestamp to nearest second. Should we change to interpolating to integer seconds?\n",
    "df_sc['time'] = pd.to_datetime(currFile.object('SlowData','MS Excel Timestamp').time_track(absolute_time=True))\n",
    "df_sc['time'] = df_sc.time.dt.round(freq='s')"
   ]
  },
  {
   "cell_type": "code",
   "execution_count": null,
   "metadata": {},
   "outputs": [],
   "source": [
    "df_sc.columns.values"
   ]
  },
  {
   "cell_type": "code",
   "execution_count": null,
   "metadata": {},
   "outputs": [],
   "source": [
    "plt.figure()\n",
    "plt.plot(df_sc.time,df_sc['Wind_Direction_38m'])\n",
    "plt.grid()"
   ]
  },
  {
   "cell_type": "code",
   "execution_count": null,
   "metadata": {},
   "outputs": [],
   "source": [
    "df_sc.time"
   ]
  },
  {
   "cell_type": "code",
   "execution_count": null,
   "metadata": {},
   "outputs": [],
   "source": [
    "df_sc.time = df_sc.time.dt.tz_localize(tz='UTC').dt.tz_convert('US/Mountain').dt.tz_localize(None)\n"
   ]
  },
  {
   "cell_type": "code",
   "execution_count": null,
   "metadata": {},
   "outputs": [],
   "source": [
    "df_sc['LabVIEW Timestamp'][0:5]"
   ]
  },
  {
   "cell_type": "code",
   "execution_count": null,
   "metadata": {},
   "outputs": [],
   "source": [
    "pd.to_datetime(df_sc['MS Excel Timestamp'])"
   ]
  },
  {
   "cell_type": "code",
   "execution_count": null,
   "metadata": {},
   "outputs": [],
   "source": [
    "filename = os.path.join(root_dir_noiselab,'noiseLAB_20201201_115609.xls')\n",
    "filename_fft = os.path.join(root_dir_noiselab,'noiseLAB_20201201_115609_FFT.xls')"
   ]
  },
  {
   "cell_type": "code",
   "execution_count": null,
   "metadata": {},
   "outputs": [],
   "source": [
    "imp.reload(rd)\n",
    "\n",
    "filename = os.path.join(root_dir_noiselab,'noiseLAB_20201201_115609_unweighted.xls')\n",
    "filename_fft = os.path.join(root_dir_noiselab,'noiseLAB_20201201_115609_FFT_unweighted.xls')\n",
    "\n",
    "df_nl = rd.read_NoiseLabSlice_file(filename,unweighted=True)\n",
    "df_nl_fft = rd.read_NoiseLabFFTSlice_file(filename_fft)\n",
    "\n",
    "# df_nl = pd.read_csv(filename,sep='\\t')\n",
    "\n",
    "# remove whitespace\n",
    "# df_nl.rename(columns=lambda x: x.strip(),inplace=True)"
   ]
  },
  {
   "cell_type": "code",
   "execution_count": null,
   "metadata": {},
   "outputs": [],
   "source": [
    "df_nl.head()"
   ]
  },
  {
   "cell_type": "code",
   "execution_count": null,
   "metadata": {},
   "outputs": [],
   "source": [
    "df_nl_fft.head()"
   ]
  },
  {
   "cell_type": "code",
   "execution_count": null,
   "metadata": {},
   "outputs": [],
   "source": [
    "filename = os.path.join(root_dir_tdms,'2020-12-22/DOE15_SlowData_2020_12_22_06_13_41_1Hz.tdms')\n",
    "# df_sc = rd.read_tdmsSCADA_file(filename)\n",
    "currFile = TdmsFile(filename)\n",
    "df_sc = currFile.as_dataframe()"
   ]
  },
  {
   "cell_type": "code",
   "execution_count": null,
   "metadata": {},
   "outputs": [],
   "source": [
    "df_sc.columns.values"
   ]
  },
  {
   "cell_type": "code",
   "execution_count": null,
   "metadata": {},
   "outputs": [],
   "source": [
    "df_sc[\"/'SlowData'/'Active Power'\"]"
   ]
  },
  {
   "cell_type": "code",
   "execution_count": null,
   "metadata": {},
   "outputs": [],
   "source": [
    "# filename = os.path.join(root_dir_noiselab,'noiseLAB_20201201_115609_FFT_unweighted.xls')\n",
    "filename = os.path.join(root_dir_noiselab,'noiseLAB_20201201_112609_unweighted.xls')\n",
    "\n",
    "df_nl = pd.read_csv(filename,sep='\\t')\n",
    "\n",
    "    # remove whitespace\n",
    "df_nl.rename(columns=lambda x: x.strip(),inplace=True)\n",
    "df_nl.columns.values"
   ]
  },
  {
   "cell_type": "code",
   "execution_count": null,
   "metadata": {},
   "outputs": [],
   "source": []
  }
 ],
 "metadata": {
  "kernelspec": {
   "display_name": "Python 3",
   "language": "python",
   "name": "python3"
  },
  "language_info": {
   "codemirror_mode": {
    "name": "ipython",
    "version": 3
   },
   "file_extension": ".py",
   "mimetype": "text/x-python",
   "name": "python",
   "nbconvert_exporter": "python",
   "pygments_lexer": "ipython3",
   "version": "3.7.4"
  },
  "toc": {
   "base_numbering": 1,
   "nav_menu": {},
   "number_sections": true,
   "sideBar": true,
   "skip_h1_title": false,
   "title_cell": "Table of Contents",
   "title_sidebar": "Contents",
   "toc_cell": false,
   "toc_position": {
    "height": "calc(100% - 180px)",
    "left": "10px",
    "top": "150px",
    "width": "345.1875px"
   },
   "toc_section_display": true,
   "toc_window_display": true
  }
 },
 "nbformat": 4,
 "nbformat_minor": 4
}
