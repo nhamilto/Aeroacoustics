{
 "cells": [
  {
   "cell_type": "markdown",
   "metadata": {},
   "source": [
    "# Import new noiseLAB data into main dataset"
   ]
  },
  {
   "cell_type": "code",
   "execution_count": 1,
   "metadata": {},
   "outputs": [],
   "source": [
    "import sys\n",
    "import os\n",
    "import numpy as np\n",
    "import pandas as pd\n",
    "import matplotlib.pyplot as plt\n",
    "import pickle\n",
    "from nptdms import TdmsFile\n",
    "import imp\n",
    "import seaborn as sns\n",
    "\n",
    "from aeroacoustics import dataset as ds\n",
    "from aeroacoustics import read_data_files as rd"
   ]
  },
  {
   "cell_type": "code",
   "execution_count": 2,
   "metadata": {},
   "outputs": [
    {
     "data": {
      "text/plain": [
       "<module 'aeroacoustics.dataset' from '/Users/esimley/Documents/Code/Aeroacoustics/coderepo/aeroacoustics/dataset.py'>"
      ]
     },
     "execution_count": 2,
     "metadata": {},
     "output_type": "execute_result"
    }
   ],
   "source": [
    "imp.reload(rd)\n",
    "imp.reload(ds)"
   ]
  },
  {
   "cell_type": "code",
   "execution_count": 3,
   "metadata": {},
   "outputs": [
    {
     "name": "stdout",
     "output_type": "stream",
     "text": [
      "Using matplotlib backend: MacOSX\n"
     ]
    }
   ],
   "source": [
    "%matplotlib"
   ]
  },
  {
   "cell_type": "markdown",
   "metadata": {},
   "source": [
    "## Parameters"
   ]
  },
  {
   "cell_type": "code",
   "execution_count": 4,
   "metadata": {},
   "outputs": [],
   "source": [
    "# root_dir_noiselab='/Volumes/Aeroacoustics/_ProcessedData/SliceData'\n",
    "root_dir_noiselab='/Volumes/Aeroacoustics/NoiseLAB/DOE15AeroacousticsProject/Results/Tables'\n",
    "root_dir_tdms='/Volumes/Tests/_raw data/Slow'\n",
    "\n",
    "# list_filename='noiseLAB_files.p'\n",
    "# dataset_file='aeroacoustics_dataset.p'\n",
    "\n",
    "list_filename='/Volumes/Aeroacoustics/_ProcessedData/Dataset/noiseLAB_files.p'\n",
    "list_filename_unweighted='/Volumes/Aeroacoustics/_ProcessedData/Dataset/noiseLAB_files_unweighted.p'\n",
    "dataset_file='/Volumes/Aeroacoustics/_ProcessedData/Dataset/aeroacoustics_dataset.p'\n",
    "dataset_file_unweighted='/Volumes/Aeroacoustics/_ProcessedData/Dataset/aeroacoustics_dataset_unweighted.p'\n",
    "# dataset_file='aeroacoustics_dataset.p'\n",
    "\n",
    "list_filename_fft='/Volumes/Aeroacoustics/_ProcessedData/Dataset/noiseLAB_files_fft.p'\n",
    "list_filename_fft_unweighted='/Volumes/Aeroacoustics/_ProcessedData/Dataset/noiseLAB_files_fft_unweighted.p'\n",
    "dataset_file_fft='/Volumes/Aeroacoustics/_ProcessedData/Dataset/aeroacoustics_dataset_fft.p'\n",
    "dataset_file_fft_unweighted='/Volumes/Aeroacoustics/_ProcessedData/Dataset/aeroacoustics_dataset_fft_unweighted.p'\n",
    "# dataset_file_fft='aeroacoustics_dataset_fft.p'\n",
    "\n",
    "fig_dir = '/Volumes/Aeroacoustics/_ProcessedData/Figures'"
   ]
  },
  {
   "cell_type": "markdown",
   "metadata": {},
   "source": [
    "## Load data"
   ]
  },
  {
   "cell_type": "code",
   "execution_count": 32,
   "metadata": {},
   "outputs": [],
   "source": [
    "df_unw = pd.read_pickle(dataset_file_unweighted)\n",
    "df_Awt = pd.read_pickle(dataset_file)\n"
   ]
  },
  {
   "cell_type": "code",
   "execution_count": 33,
   "metadata": {},
   "outputs": [
    {
     "name": "stdout",
     "output_type": "stream",
     "text": [
      "5447\n",
      "5511\n"
     ]
    }
   ],
   "source": [
    "print(len(df_unw))\n",
    "print(len(df_Awt))"
   ]
  },
  {
   "cell_type": "code",
   "execution_count": 34,
   "metadata": {},
   "outputs": [
    {
     "data": {
      "text/plain": [
       "[<matplotlib.lines.Line2D at 0x7f85ec0bf710>]"
      ]
     },
     "execution_count": 34,
     "metadata": {},
     "output_type": "execute_result"
    }
   ],
   "source": [
    "plt.figure()\n",
    "# plt.plot(df_unw['EGD_OpCtl_TurbineStatus'])\n",
    "# plt.plot(np.isnan(df_unw.WD_Nacelle_Mod))\n",
    "# plt.plot(np.isnan(df_Awt.WD_Nacelle_Mod))\n",
    "plt.plot(df_filt['Yaw_Position_Normal'])"
   ]
  },
  {
   "cell_type": "code",
   "execution_count": 7,
   "metadata": {},
   "outputs": [],
   "source": [
    "# define 1/3 octave band center frequencies\n",
    "third_oct_center_freqs_unw = np.array([1, 1.2, 1.6, 2, 2.5, 3.2, 4, 5, 6.3, 8, 10, 12.5, 16, 20, 25, 31.5, 40, 50, 63, 80, 100, 125, 160, 200, 250, 315, 400, 500, 630, 800, 1000, 1250, 1600, 2000, 2500, 3150, 4000, 5000, 6300, 8000, 10000, 12500, 16000, 20000])\n",
    "third_oct_center_freqs_Awt = np.array([20, 25, 31.5, 40, 50, 63, 80, 100, 125, 160, 200, 250, 315, 400, 500, 630, 800, 1000, 1250, 1600, 2000, 2500, 3150, 4000, 5000, 6300, 8000, 10000, 12500, 16000, 20000])"
   ]
  },
  {
   "cell_type": "markdown",
   "metadata": {},
   "source": [
    "### Filter data"
   ]
  },
  {
   "cell_type": "code",
   "execution_count": 35,
   "metadata": {},
   "outputs": [
    {
     "name": "stdout",
     "output_type": "stream",
     "text": [
      "5447\n",
      "4646\n",
      "4081\n",
      "1595\n",
      "1587\n"
     ]
    }
   ],
   "source": [
    "# use_Awt = True\n",
    "use_Awt = False\n",
    "\n",
    "if use_Awt:\n",
    "    df_filt = df_Awt.copy()\n",
    "else:\n",
    "    df_filt = df_unw.copy()\n",
    "\n",
    "print(len(df_filt))\n",
    "\n",
    "# TEMP!\n",
    "# df_filt['Yaw_Offset_Cmd'] = df_filt.WD_Nacelle - df_filt.WD_Nacelle_Mod\n",
    "\n",
    "# df_filt['Yaw_Offset_Cmd_Bin'] = 0.\n",
    "# df_filt.loc[df_filt['Yaw_Offset_Cmd'] < -9.,'Yaw_Offset_Cmd_Bin'] = -18.\n",
    "# df_filt.loc[(df_filt['Yaw_Offset_Cmd'] >= 5.) & (df_filt['Yaw_Offset_Cmd'] < 14.),'Yaw_Offset_Cmd_Bin'] = 10.\n",
    "# df_filt.loc[(df_filt['Yaw_Offset_Cmd'] >= 14.) & (df_filt['Yaw_Offset_Cmd'] < 21.5),'Yaw_Offset_Cmd_Bin'] = 18.\n",
    "# df_filt.loc[df_filt['Yaw_Offset_Cmd'] >= 21.5,'Yaw_Offset_Cmd_Bin'] = 25.\n",
    "\n",
    "# plt.figure()\n",
    "# plt.plot(df_filt['Active Power'])\n",
    "\n",
    "# get rid of spurious offset commands\n",
    "# df_filt.loc[df_filt.index < '2021-01-01','Yaw_Offset_Cmd_Bin'] = 0.\n",
    "\n",
    "# filter to remove 5 minutes after a yaw offset command change\n",
    "change_points = df_filt.loc[df_filt['Yaw_Offset_Cmd_Bin'].diff().abs() > 0].index\n",
    "for d in change_points:\n",
    "    df_filt = df_filt[(df_filt.index < d) | (df_filt.index >= d + pd.Timedelta('5 min'))]\n",
    "\n",
    "print(len(df_filt))\n",
    "    \n",
    "# create derived signals\n",
    "df_filt['Turbine Operating'] = (df_filt['EGD_OpCtl_TurbineStatus'] == 2)\n",
    "\n",
    "# catch operation based on power too, and remove from dataset\n",
    "df_filt = df_filt[(df_filt['Active Power'] < 10) | df_filt['Turbine Operating']]\n",
    "print(len(df_filt))\n",
    "# This should catch cases where the yaw offset command is NaN beause the turbine is not running\n",
    "df_filt.loc[~df_filt['Turbine Operating'],'Yaw_Offset_Cmd_Bin'] = 0.\n",
    "df_filt['Yaw_Position_Normal'] = (df_filt['Yaw_Encoder'] + df_filt['Yaw_Offset_Cmd_Bin']) % 360.\n",
    "\n",
    "# plt.plot(df_filt['Active Power'])\n",
    "\n",
    "# filter to yaw position +/- 15 degrees from 285\n",
    "df_filt['Direction Valid'] = (df_filt['Yaw_Position_Normal'] >= 270.) & (df_filt['Yaw_Position_Normal'] <= 300.)\n",
    "df_filt = df_filt[df_filt['Direction Valid']]\n",
    "print(len(df_filt))\n",
    "# plt.plot(df_filt['Active Power'],'r')\n",
    "\n",
    "# filter to rows when all mics are available\n",
    "cols2check = ['01N_Leq', '02N_Leq', '03N_Leq', '04C_Leq', '05C_Leq', '06S_Leq', '07S_Leq', '08S_Leq', '11N_Leq', '12C_Leq', '13S_Leq']\n",
    "df_filt = df_filt.dropna(subset=cols2check)\n",
    "print(len(df_filt))"
   ]
  },
  {
   "cell_type": "code",
   "execution_count": 36,
   "metadata": {},
   "outputs": [
    {
     "data": {
      "text/plain": [
       "[<matplotlib.lines.Line2D at 0x7f85ec01c0d0>]"
      ]
     },
     "execution_count": 36,
     "metadata": {},
     "output_type": "execute_result"
    }
   ],
   "source": [
    "plt.figure()\n",
    "plt.plot(df_filt['Temp1'])"
   ]
  },
  {
   "cell_type": "markdown",
   "metadata": {},
   "source": [
    "## Plot 1/3 octave band spectra by wind speed for a given mic and offset"
   ]
  },
  {
   "cell_type": "code",
   "execution_count": 10,
   "metadata": {},
   "outputs": [],
   "source": [
    "def energy_avg(values):\n",
    "    return 10*np.log10(np.mean(10**(values/10)))\n",
    "\n",
    "def energy_subtract(values1,values2):\n",
    "    return 10*np.log10(10**(values1/10) - 10**(values2/10))"
   ]
  },
  {
   "cell_type": "code",
   "execution_count": 18,
   "metadata": {},
   "outputs": [
    {
     "data": {
      "text/plain": [
       "array(['01N_Leq', '02N_Leq', '03N_Leq', '04C_Leq', '05C_Leq', '06S_Leq',\n",
       "       '07S_Leq', '08S_Leq', '11N_Leq', '12C_Leq', '13S_Leq',\n",
       "       '01N_G (infra)', '02N_G (infra)', '03N_G (infra)', '04C_G (infra)',\n",
       "       '05C_G (infra)', '06S_G (infra)', '07S_G (infra)', '08S_G (infra)',\n",
       "       '11N_G (infra)', '12C_G (infra)', '13S_G (infra)', '01N_A (LF)',\n",
       "       '02N_A (LF)', '03N_A (LF)', '04C_A (LF)', '05C_A (LF)',\n",
       "       '06S_A (LF)', '07S_A (LF)', '08S_A (LF)', '11N_A (LF)',\n",
       "       '12C_A (LF)', '13S_A (LF)', '01N_Lin', '02N_Lin', '03N_Lin',\n",
       "       '04C_Lin', '05C_Lin', '06S_Lin', '07S_Lin', '08S_Lin', '11N_Lin',\n",
       "       '12C_Lin', '13S_Lin', 'MS Excel Timestamp', 'LabVIEW Timestamp',\n",
       "       'Scan Errors', 'Late Scans', 'SCADA_nacelleWS', 'Hum1', 'Temp1',\n",
       "       'Hum2', 'Temp2', 'Windspeed_38m', 'Windspeed_55m', 'Windspeed_87m',\n",
       "       'WD1_87m', 'Air_Press_2', 'Air_Press_1', 'Wind_Direction_38m',\n",
       "       'WindSpeed_80m', 'Precipitation', 'Tower Base Bend 1',\n",
       "       'Tower Base Bend 2', 'Tower Base Torque', 'Active Power',\n",
       "       'Reactive Power', 'Power Factor', 'Windspeed_AeroA_10m',\n",
       "       'TowerTopBending_0', 'TowerTopBending_90', 'TowerTopTorque',\n",
       "       'TowerTopDCAccel_NS', 'TowerTopDCAccel_EW', 'LSS RPM', 'HSS RPM',\n",
       "       'NacelleWindSpeed', 'Mainshaft_Downwind_Bend_0',\n",
       "       'Mainshaft_Downwind_Bend_90', 'Mainshaft_Downwind_Torque',\n",
       "       'AzimuthAO', 'Blade_1_Flap', 'Blade_1_Edge', 'Blade_2_Flap',\n",
       "       'Blade_2_Edge', 'Blade_3_Flap', 'Blade_3_Edge', 'Pitch_Blade2',\n",
       "       'Azimuth', 'Yaw_Encoder', 'Pitch_Blade1', 'WD_Mod_Active',\n",
       "       'WD_Nacelle', 'WD_Nacelle_Mod', 'EGD_AI_CuTorqueAct',\n",
       "       'EGD_AI_In_GridMonRealPowerAct', 'EGD_AI_In_PitchAngleCurrent1',\n",
       "       'EGD_AI_In_PitchAngleCurrent2', 'EGD_AI_In_PitchAngleCurrent3',\n",
       "       'EGD_DI_In_TBDiscBrakeClosed', 'EGD_In_RotorSpd', 'EGD_In_WindSpd',\n",
       "       'EGD_OpCtl_TurbineFullState', 'EGD_OpCtl_TurbineOperationState',\n",
       "       'EGD_OpCtl_TurbineStatus', 'EGD_Out_CalcTrbineStateSCADA',\n",
       "       'EGD_Out_TurbineStatusSCADA', 'EGD_W_In_WtgBrake',\n",
       "       'EGD_Yaw_PositionToNorth', 'Yaw_Offset_Cmd', 'Yaw_Offset_Cmd_Bin',\n",
       "       'Turbine Operating', 'Yaw_Position_Normal', 'Direction Valid'],\n",
       "      dtype=object)"
      ]
     },
     "execution_count": 18,
     "metadata": {},
     "output_type": "execute_result"
    }
   ],
   "source": [
    "df_filt.groupby(ws_col).mean().columns.values"
   ]
  },
  {
   "cell_type": "code",
   "execution_count": null,
   "metadata": {},
   "outputs": [],
   "source": [
    "# plt.figure()\n",
    "# plt.scatter(df_filt.loc[~df_filt['Turbine Operating'],ws_col],df_filt.loc[~df_filt['Turbine Operating'],'Active Power'])"
   ]
  },
  {
   "cell_type": "code",
   "execution_count": 38,
   "metadata": {},
   "outputs": [],
   "source": [
    "ws_col = 'WindSpeed_80m_round'\n",
    "\n",
    "yaw_offset_targets = [0.,-18.,10.,18.,25.]\n",
    "\n",
    "df_filt['WindSpeed_80m_round'] = df_filt['WindSpeed_80m'].round()\n",
    "\n",
    "yaw_offset_target = 10.\n",
    "\n",
    "mic = '12C'\n",
    "\n",
    "ws_list = np.arange(8.,17.,1.)\n",
    "\n",
    "if use_Awt:\n",
    "    center_freqs = third_oct_center_freqs_Awt\n",
    "else:\n",
    "    center_freqs = third_oct_center_freqs_unw\n",
    "\n",
    "# first plot Leq vs wind speed\n",
    "fig = plt.figure()\n",
    "\n",
    "Leq_operating = np.zeros(len(ws_list))\n",
    "Leq_background = np.zeros(len(ws_list))\n",
    "\n",
    "for i_ws, ws in enumerate(ws_list):\n",
    "    Leq_operating[i_ws] = energy_avg(df_filt.loc[(df_filt['Yaw_Offset_Cmd_Bin'] == yaw_offset_target) & df_filt['Turbine Operating'] & (df_filt[ws_col] == ws),mic+'_Leq'])\n",
    "    Leq_background[i_ws] = energy_avg(df_filt.loc[(df_filt['Yaw_Offset_Cmd_Bin'] == yaw_offset_target) & ~df_filt['Turbine Operating'] & (df_filt[ws_col] == ws),mic+'_Leq'])\n",
    "\n",
    "plt.plot(ws_list,Leq_operating,color='g',linewidth=2.,label='Operating')\n",
    "plt.plot(ws_list,Leq_background,color='b',linewidth=2.,label='Background')\n",
    "plt.plot(ws_list,energy_subtract(Leq_operating,Leq_background),color='r',linewidth=2.,label='Corrected')\n",
    "\n",
    "plt.xlabel('Wind Speed (m/s)')\n",
    "\n",
    "if use_Awt:\n",
    "    plt.ylabel('$L_{eq}$ (dBA)')\n",
    "else:\n",
    "    plt.ylabel('$L_{eq}$ (dB)')\n",
    "    \n",
    "plt.grid()\n",
    "plt.title('Mic '+mic+', Yaw Offset = '+str(yaw_offset_target)+'$^\\circ$')\n",
    "plt.legend()\n",
    "plt.xlim([ws_list[0],ws_list[-1]])\n",
    "    \n",
    "if use_Awt:\n",
    "    fig.savefig(os.path.join(fig_dir,'LAeq_'+mic+'_'+str(yaw_offset_target)+'degOffset.pdf'), bbox_inches='tight')\n",
    "else:\n",
    "    fig.savefig(os.path.join(fig_dir,'Leq_'+mic+'_'+str(yaw_offset_target)+'degOffset.pdf'), bbox_inches='tight')\n",
    "    \n",
    "fig, axs = plt.subplots(3,4,sharex=True,sharey=True,figsize=(14,9))\n",
    "\n",
    "ws_list = np.arange(8.,17.,1.)\n",
    "\n",
    "for i_ws, ws in enumerate(ws_list):\n",
    "\n",
    "    Leq_operating = energy_avg(df_filt.loc[(df_filt['Yaw_Offset_Cmd_Bin'] == yaw_offset_target) & df_filt['Turbine Operating'] & (df_filt[ws_col] == ws),mic+'_third_octave_spectrum'])\n",
    "    Leq_background = energy_avg(df_filt.loc[(df_filt['Yaw_Offset_Cmd_Bin'] == yaw_offset_target) & ~df_filt['Turbine Operating'] & (df_filt[ws_col] == ws),mic+'_third_octave_spectrum'])\n",
    "    \n",
    "    axs[i_ws % 3][int(np.floor(i_ws/3))].plot(center_freqs,Leq_operating,color='g',linewidth=1.5,label='Operating')\n",
    "    if len(df_filt.loc[(df_filt['Yaw_Offset_Cmd_Bin'] == yaw_offset_target) & ~df_filt['Turbine Operating'] & (df_filt[ws_col] == ws),mic+'_third_octave_spectrum']) > 0:\n",
    "        axs[i_ws % 3][int(np.floor(i_ws/3))].plot(center_freqs,Leq_background,color='b',linewidth=1.5,label='Background')\n",
    "        axs[i_ws % 3][int(np.floor(i_ws/3))].plot(center_freqs,energy_subtract(Leq_operating,Leq_background),color='r',linewidth=1.5,label='Corrected')\n",
    "    axs[i_ws % 3][int(np.floor(i_ws/3))].legend()\n",
    "    axs[i_ws % 3][int(np.floor(i_ws/3))].grid()\n",
    "    axs[i_ws % 3][int(np.floor(i_ws/3))].set_title('Mic '+mic+', Yaw Offset = '+str(yaw_offset_target)+'$^\\circ$, '+str(ws)+' m/s')\n",
    "    axs[i_ws % 3][int(np.floor(i_ws/3))].set_xscale('log')\n",
    "    \n",
    "for i in range(3):\n",
    "    if use_Awt:\n",
    "        axs[i][0].set_ylabel('$L_{eq}$ (dBA)')\n",
    "    else:\n",
    "        axs[i][0].set_ylabel('$L_{eq}$ (dB)')\n",
    "        \n",
    "for i in range(4):\n",
    "    axs[2][i].set_xlabel('Frequency (Hz)')\n",
    "\n",
    "if use_Awt:\n",
    "    axs[0][0].set_xlim([20,10000])\n",
    "else:\n",
    "    axs[0][0].set_xlim([1,10000])\n",
    "    \n",
    "plt.tight_layout()\n",
    "\n",
    "if use_Awt:\n",
    "    fig.savefig(os.path.join(fig_dir,'ThirdOctave_LAeq_'+mic+'_'+str(yaw_offset_target)+'degOffset.pdf'), bbox_inches='tight')\n",
    "else:\n",
    "    fig.savefig(os.path.join(fig_dir,'ThirdOctave_Leq_'+mic+'_'+str(yaw_offset_target)+'degOffset.pdf'), bbox_inches='tight')"
   ]
  },
  {
   "cell_type": "code",
   "execution_count": 24,
   "metadata": {},
   "outputs": [
    {
     "data": {
      "text/plain": [
       "0"
      ]
     },
     "execution_count": 24,
     "metadata": {},
     "output_type": "execute_result"
    }
   ],
   "source": [
    "# ~np.isnan(Leq_background)\n",
    "len(df_filt.loc[(df_filt['Yaw_Offset_Cmd_Bin'] == yaw_offset_target) & ~df_filt['Turbine Operating'] & (df_filt[ws_col] == ws),mic+'_third_octave_spectrum'])"
   ]
  },
  {
   "cell_type": "code",
   "execution_count": 108,
   "metadata": {},
   "outputs": [
    {
     "data": {
      "text/plain": [
       "array([-2.84104838, -2.52899151,  2.71574782,  4.16608488,  8.81127343,\n",
       "       15.04275796, 15.05423191, 16.71510428, 16.0905686 , 17.87380912,\n",
       "       17.42583545, 18.61400097, 19.81887721, 21.12404309, 22.90012419,\n",
       "       23.49495368, 26.65405244, 26.8898906 , 27.2484863 , 26.33432968,\n",
       "       25.94164944, 26.39567744, 27.03224495, 27.70734759, 28.24681193,\n",
       "       28.54788246, 28.51960987, 28.05971642, 27.09254795, 25.63379752,\n",
       "       24.0525524 ])"
      ]
     },
     "execution_count": 108,
     "metadata": {},
     "output_type": "execute_result"
    }
   ],
   "source": [
    "energy_avg(df_filt.loc[(df_filt['Yaw_Offset_Cmd_Bin'] == yaw_offset_target) & df_filt['Turbine Operating'] & (df_filt[ws_col] == ws),mic+'_third_octave_spectrum'])"
   ]
  },
  {
   "cell_type": "code",
   "execution_count": 140,
   "metadata": {},
   "outputs": [
    {
     "data": {
      "text/plain": [
       "<matplotlib.collections.PathCollection at 0x7f89dee84f50>"
      ]
     },
     "execution_count": 140,
     "metadata": {},
     "output_type": "execute_result"
    }
   ],
   "source": [
    "plt.figure()\n",
    "plt.scatter(df_filt.loc[~df_filt['Turbine Operating'],'NacelleWindSpeed'],df_filt.loc[~df_filt['Turbine Operating'],'Active Power'])\n",
    "plt.scatter(df_filt.loc[~df_filt['Turbine Operating'],ws_col],df_filt.loc[~df_filt['Turbine Operating'],'Active Power'])\n",
    "# plt.scatter(df_filt.loc[~df_filt['Turbine Operating'],'NacelleWindSpeed'],df_filt.loc[~df_filt['Turbine Operating'],'LSS RPM'])\n",
    "# plt.scatter(df_filt.loc[~df_filt['Turbine Operating'],ws_col],df_filt.loc[~df_filt['Turbine Operating'],'LSS RPM'])\n"
   ]
  },
  {
   "cell_type": "code",
   "execution_count": 150,
   "metadata": {},
   "outputs": [
    {
     "data": {
      "text/plain": [
       "[<matplotlib.lines.Line2D at 0x7f89df249750>]"
      ]
     },
     "execution_count": 150,
     "metadata": {},
     "output_type": "execute_result"
    }
   ],
   "source": [
    "plt.figure()\n",
    "# plt.plot(df['Yaw_Offset_Cmd_Bin'])\n",
    "# plt.plot(df[ws_col])\n",
    "for k in [3,4,9]:\n",
    "    plt.plot(df_filt[cols2check[k]])\n",
    "# plt.plot(df['Active Power'])\n",
    "plt.plot(df_filt['Yaw_Offset_Cmd_Bin'])\n",
    "# plt.plot(df['Yaw_Offset_Cmd'])\n",
    "# plt.plot(df['WD_Nacelle'])\n",
    "# plt.plot(df['Yaw_Encoder'],label='Yaw Encoder')\n",
    "# plt.plot(df['Yaw_Position_Normal'],label='Yaw_Position_Normal')\n",
    "# # plt.plot(df['WD1_87m'],label='WD1_87m')\n",
    "# plt.plot(df['Wind_Direction_38m'],label='Wind_Direction_38m')\n",
    "# plt.legend()"
   ]
  },
  {
   "cell_type": "code",
   "execution_count": null,
   "metadata": {},
   "outputs": [],
   "source": []
  }
 ],
 "metadata": {
  "kernelspec": {
   "display_name": "Python 3",
   "language": "python",
   "name": "python3"
  },
  "language_info": {
   "codemirror_mode": {
    "name": "ipython",
    "version": 3
   },
   "file_extension": ".py",
   "mimetype": "text/x-python",
   "name": "python",
   "nbconvert_exporter": "python",
   "pygments_lexer": "ipython3",
   "version": "3.7.4"
  },
  "toc": {
   "base_numbering": 1,
   "nav_menu": {},
   "number_sections": true,
   "sideBar": true,
   "skip_h1_title": false,
   "title_cell": "Table of Contents",
   "title_sidebar": "Contents",
   "toc_cell": false,
   "toc_position": {
    "height": "calc(100% - 180px)",
    "left": "10px",
    "top": "150px",
    "width": "345.1875px"
   },
   "toc_section_display": true,
   "toc_window_display": true
  }
 },
 "nbformat": 4,
 "nbformat_minor": 4
}
