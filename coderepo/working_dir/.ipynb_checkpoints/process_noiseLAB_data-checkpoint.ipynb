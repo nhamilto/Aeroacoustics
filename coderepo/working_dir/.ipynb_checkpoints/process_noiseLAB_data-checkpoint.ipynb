{
 "cells": [
  {
   "cell_type": "markdown",
   "metadata": {},
   "source": [
    "# Import new noiseLAB data into main dataset"
   ]
  },
  {
   "cell_type": "code",
   "execution_count": 1,
   "metadata": {},
   "outputs": [],
   "source": [
    "import sys\n",
    "import os\n",
    "import numpy as np\n",
    "import pandas as pd\n",
    "import matplotlib.pyplot as plt\n",
    "import pickle\n",
    "from nptdms import TdmsFile\n",
    "import imp\n",
    "\n",
    "from aeroacoustics import dataset as ds\n",
    "from aeroacoustics import read_data_files as rd"
   ]
  },
  {
   "cell_type": "code",
   "execution_count": 2,
   "metadata": {},
   "outputs": [
    {
     "data": {
      "text/plain": [
       "<module 'aeroacoustics.dataset' from '/Users/esimley/Documents/Code/Aeroacoustics/coderepo/aeroacoustics/dataset.py'>"
      ]
     },
     "execution_count": 2,
     "metadata": {},
     "output_type": "execute_result"
    }
   ],
   "source": [
    "imp.reload(rd)\n",
    "imp.reload(ds)"
   ]
  },
  {
   "cell_type": "code",
   "execution_count": 3,
   "metadata": {},
   "outputs": [
    {
     "name": "stdout",
     "output_type": "stream",
     "text": [
      "Using matplotlib backend: MacOSX\n"
     ]
    }
   ],
   "source": [
    "%matplotlib"
   ]
  },
  {
   "cell_type": "markdown",
   "metadata": {},
   "source": [
    "## Parameters"
   ]
  },
  {
   "cell_type": "code",
   "execution_count": 4,
   "metadata": {},
   "outputs": [],
   "source": [
    "# root_dir_noiselab='/Volumes/Aeroacoustics/_ProcessedData/SliceData'\n",
    "root_dir_noiselab='/Volumes/Aeroacoustics/NoiseLAB/DOE15AeroacousticsProject/Results/Tables'\n",
    "root_dir_tdms='/Volumes/Tests/_raw data/Slow'\n",
    "\n",
    "# list_filename='noiseLAB_files.p'\n",
    "# dataset_file='aeroacoustics_dataset.p'\n",
    "\n",
    "list_filename='/Volumes/Aeroacoustics/_ProcessedData/Dataset/noiseLAB_files.p'\n",
    "# dataset_file='/Volumes/Aeroacoustics/_ProcessedData/Dataset/aeroacoustics_dataset.p'\n",
    "dataset_file='aeroacoustics_dataset.p'\n",
    "\n",
    "list_filename_fft='/Volumes/Aeroacoustics/_ProcessedData/Dataset/noiseLAB_files_fft.p'\n",
    "# dataset_file_fft='/Volumes/Aeroacoustics/_ProcessedData/Dataset/aeroacoustics_dataset_fft.p'\n",
    "dataset_file_fft='aeroacoustics_dataset_fft.p'\n",
    "\n"
   ]
  },
  {
   "cell_type": "markdown",
   "metadata": {},
   "source": [
    "## Reinitialize aeroacoustics dataset"
   ]
  },
  {
   "cell_type": "code",
   "execution_count": 5,
   "metadata": {},
   "outputs": [],
   "source": [
    "df = pd.DataFrame()\n",
    "df.to_pickle(dataset_file)\n",
    "# df.to_pickle(dataset_file_fft)\n",
    "\n",
    "files = []\n",
    "pickle.dump( files, open( list_filename, \"wb\" ) )\n",
    "# pickle.dump( files, open( list_filename_fft, \"wb\" ) )\n"
   ]
  },
  {
   "cell_type": "markdown",
   "metadata": {},
   "source": [
    "### Only FFT"
   ]
  },
  {
   "cell_type": "code",
   "execution_count": 58,
   "metadata": {},
   "outputs": [],
   "source": [
    "df = pd.DataFrame()\n",
    "df.to_pickle(dataset_file_fft)\n",
    "\n",
    "files = []\n",
    "pickle.dump( files, open( list_filename_fft, \"wb\" ) )"
   ]
  },
  {
   "cell_type": "markdown",
   "metadata": {},
   "source": [
    "## Check for new noiseLAB files"
   ]
  },
  {
   "cell_type": "code",
   "execution_count": 13,
   "metadata": {},
   "outputs": [
    {
     "name": "stdout",
     "output_type": "stream",
     "text": [
      "['noiseLAB_20201201_140746.xls', 'noiseLAB_20201222_120243.xls', 'noiseLAB_20201222_123243.xls', 'noiseLAB_20201222_130244.xls', 'noiseLAB_20201222_133244.xls', 'noiseLAB_20210105_145844.xls', 'noiseLAB_20210105_152844.xls', 'noiseLAB_20210105_155844.xls', 'noiseLAB_20210105_162844.xls', 'noiseLAB_20210105_165844.xls', 'noiseLAB_20210105_172845.xls', 'noiseLAB_20210105_175845.xls', 'noiseLAB_20210105_182845.xls', 'noiseLAB_20210105_185846.xls']\n",
      "['noiseLAB_20210105_145844_FFT.xls', 'noiseLAB_20210105_152844_FFT.xls', 'noiseLAB_20210105_155844_FFT.xls', 'noiseLAB_20210105_162844_FFT.xls', 'noiseLAB_20210105_165844_FFT.xls', 'noiseLAB_20210105_172845_FFT.xls', 'noiseLAB_20210105_175845_FFT.xls', 'noiseLAB_20210105_182845_FFT.xls', 'noiseLAB_20210105_185846_FFT.xls']\n"
     ]
    }
   ],
   "source": [
    "files_new = ds.identify_NoiseLabSlice_to_add(list_filename,root_dir=root_dir_noiselab)\n",
    "\n",
    "files_new = [f for f in files_new if 'FFT' not in f]\n",
    "print(files_new)\n",
    "\n",
    "files_new_fft = ds.identify_NoiseLabSlice_to_add(list_filename_fft,root_dir=root_dir_noiselab)\n",
    "\n",
    "files_new_fft = [f for f in files_new_fft if 'FFT' in f]\n",
    "print(files_new_fft)"
   ]
  },
  {
   "cell_type": "markdown",
   "metadata": {},
   "source": [
    "## Add new files to dataset"
   ]
  },
  {
   "cell_type": "markdown",
   "metadata": {},
   "source": [
    "This combines the noiseLAB slice data with the SCADA and met data from tdms files, then adds the new data to the master dataset"
   ]
  },
  {
   "cell_type": "markdown",
   "metadata": {},
   "source": [
    "### Third octave bands"
   ]
  },
  {
   "cell_type": "code",
   "execution_count": 14,
   "metadata": {},
   "outputs": [
    {
     "name": "stdout",
     "output_type": "stream",
     "text": [
      "['noiseLAB_20201201_095608.xls', 'noiseLAB_20201201_102609.xls', 'noiseLAB_20201201_105609.xls', 'noiseLAB_20201201_112609.xls', 'noiseLAB_20201201_115609.xls', 'noiseLAB_20201201_123745.xls', 'noiseLAB_20201201_130746.xls', 'noiseLAB_20201201_133746.xls']\n"
     ]
    }
   ],
   "source": [
    "files = pickle.load( open( list_filename, \"rb\" ) )\n",
    "print(files)"
   ]
  },
  {
   "cell_type": "code",
   "execution_count": 12,
   "metadata": {},
   "outputs": [
    {
     "name": "stdout",
     "output_type": "stream",
     "text": [
      "File 0 out of 14\n",
      "noiseLAB_20201201_140746.xls\n"
     ]
    },
    {
     "ename": "UnpicklingError",
     "evalue": "pickle exhausted before end of frame",
     "output_type": "error",
     "traceback": [
      "\u001b[0;31m---------------------------------------------------------------------------\u001b[0m",
      "\u001b[0;31mUnpicklingError\u001b[0m                           Traceback (most recent call last)",
      "\u001b[0;32m~/opt/anaconda3/lib/python3.7/site-packages/pandas/io/pickle.py\u001b[0m in \u001b[0;36mtry_read\u001b[0;34m(path, encoding)\u001b[0m\n\u001b[1;32m    165\u001b[0m                 \u001b[0mwarnings\u001b[0m\u001b[0;34m.\u001b[0m\u001b[0msimplefilter\u001b[0m\u001b[0;34m(\u001b[0m\u001b[0;34m\"ignore\"\u001b[0m\u001b[0;34m,\u001b[0m \u001b[0mWarning\u001b[0m\u001b[0;34m)\u001b[0m\u001b[0;34m\u001b[0m\u001b[0;34m\u001b[0m\u001b[0m\n\u001b[0;32m--> 166\u001b[0;31m                 \u001b[0;32mreturn\u001b[0m \u001b[0mread_wrapper\u001b[0m\u001b[0;34m(\u001b[0m\u001b[0;32mlambda\u001b[0m \u001b[0mf\u001b[0m\u001b[0;34m:\u001b[0m \u001b[0mpkl\u001b[0m\u001b[0;34m.\u001b[0m\u001b[0mload\u001b[0m\u001b[0;34m(\u001b[0m\u001b[0mf\u001b[0m\u001b[0;34m)\u001b[0m\u001b[0;34m)\u001b[0m\u001b[0;34m\u001b[0m\u001b[0;34m\u001b[0m\u001b[0m\n\u001b[0m\u001b[1;32m    167\u001b[0m         \u001b[0;32mexcept\u001b[0m \u001b[0mException\u001b[0m\u001b[0;34m:\u001b[0m  \u001b[0;31m# noqa: E722\u001b[0m\u001b[0;34m\u001b[0m\u001b[0;34m\u001b[0m\u001b[0m\n",
      "\u001b[0;32m~/opt/anaconda3/lib/python3.7/site-packages/pandas/io/pickle.py\u001b[0m in \u001b[0;36mread_wrapper\u001b[0;34m(func)\u001b[0m\n\u001b[1;32m    147\u001b[0m         \u001b[0;32mtry\u001b[0m\u001b[0;34m:\u001b[0m\u001b[0;34m\u001b[0m\u001b[0;34m\u001b[0m\u001b[0m\n\u001b[0;32m--> 148\u001b[0;31m             \u001b[0;32mreturn\u001b[0m \u001b[0mfunc\u001b[0m\u001b[0;34m(\u001b[0m\u001b[0mf\u001b[0m\u001b[0;34m)\u001b[0m\u001b[0;34m\u001b[0m\u001b[0;34m\u001b[0m\u001b[0m\n\u001b[0m\u001b[1;32m    149\u001b[0m         \u001b[0;32mfinally\u001b[0m\u001b[0;34m:\u001b[0m\u001b[0;34m\u001b[0m\u001b[0;34m\u001b[0m\u001b[0m\n",
      "\u001b[0;32m~/opt/anaconda3/lib/python3.7/site-packages/pandas/io/pickle.py\u001b[0m in \u001b[0;36m<lambda>\u001b[0;34m(f)\u001b[0m\n\u001b[1;32m    165\u001b[0m                 \u001b[0mwarnings\u001b[0m\u001b[0;34m.\u001b[0m\u001b[0msimplefilter\u001b[0m\u001b[0;34m(\u001b[0m\u001b[0;34m\"ignore\"\u001b[0m\u001b[0;34m,\u001b[0m \u001b[0mWarning\u001b[0m\u001b[0;34m)\u001b[0m\u001b[0;34m\u001b[0m\u001b[0;34m\u001b[0m\u001b[0m\n\u001b[0;32m--> 166\u001b[0;31m                 \u001b[0;32mreturn\u001b[0m \u001b[0mread_wrapper\u001b[0m\u001b[0;34m(\u001b[0m\u001b[0;32mlambda\u001b[0m \u001b[0mf\u001b[0m\u001b[0;34m:\u001b[0m \u001b[0mpkl\u001b[0m\u001b[0;34m.\u001b[0m\u001b[0mload\u001b[0m\u001b[0;34m(\u001b[0m\u001b[0mf\u001b[0m\u001b[0;34m)\u001b[0m\u001b[0;34m)\u001b[0m\u001b[0;34m\u001b[0m\u001b[0;34m\u001b[0m\u001b[0m\n\u001b[0m\u001b[1;32m    167\u001b[0m         \u001b[0;32mexcept\u001b[0m \u001b[0mException\u001b[0m\u001b[0;34m:\u001b[0m  \u001b[0;31m# noqa: E722\u001b[0m\u001b[0;34m\u001b[0m\u001b[0;34m\u001b[0m\u001b[0m\n",
      "\u001b[0;31mUnpicklingError\u001b[0m: pickle data was truncated",
      "\nDuring handling of the above exception, another exception occurred:\n",
      "\u001b[0;31mUnpicklingError\u001b[0m                           Traceback (most recent call last)",
      "\u001b[0;32m~/opt/anaconda3/lib/python3.7/site-packages/pandas/io/pickle.py\u001b[0m in \u001b[0;36mtry_read\u001b[0;34m(path, encoding)\u001b[0m\n\u001b[1;32m    172\u001b[0m                 return read_wrapper(\n\u001b[0;32m--> 173\u001b[0;31m                     lambda f: pc.load(f, encoding=encoding, compat=False))\n\u001b[0m\u001b[1;32m    174\u001b[0m             \u001b[0;31m# compat pickle\u001b[0m\u001b[0;34m\u001b[0m\u001b[0;34m\u001b[0m\u001b[0;34m\u001b[0m\u001b[0m\n",
      "\u001b[0;32m~/opt/anaconda3/lib/python3.7/site-packages/pandas/io/pickle.py\u001b[0m in \u001b[0;36mread_wrapper\u001b[0;34m(func)\u001b[0m\n\u001b[1;32m    147\u001b[0m         \u001b[0;32mtry\u001b[0m\u001b[0;34m:\u001b[0m\u001b[0;34m\u001b[0m\u001b[0;34m\u001b[0m\u001b[0m\n\u001b[0;32m--> 148\u001b[0;31m             \u001b[0;32mreturn\u001b[0m \u001b[0mfunc\u001b[0m\u001b[0;34m(\u001b[0m\u001b[0mf\u001b[0m\u001b[0;34m)\u001b[0m\u001b[0;34m\u001b[0m\u001b[0;34m\u001b[0m\u001b[0m\n\u001b[0m\u001b[1;32m    149\u001b[0m         \u001b[0;32mfinally\u001b[0m\u001b[0;34m:\u001b[0m\u001b[0;34m\u001b[0m\u001b[0;34m\u001b[0m\u001b[0m\n",
      "\u001b[0;32m~/opt/anaconda3/lib/python3.7/site-packages/pandas/io/pickle.py\u001b[0m in \u001b[0;36m<lambda>\u001b[0;34m(f)\u001b[0m\n\u001b[1;32m    172\u001b[0m                 return read_wrapper(\n\u001b[0;32m--> 173\u001b[0;31m                     lambda f: pc.load(f, encoding=encoding, compat=False))\n\u001b[0m\u001b[1;32m    174\u001b[0m             \u001b[0;31m# compat pickle\u001b[0m\u001b[0;34m\u001b[0m\u001b[0;34m\u001b[0m\u001b[0;34m\u001b[0m\u001b[0m\n",
      "\u001b[0;32m~/opt/anaconda3/lib/python3.7/site-packages/pandas/compat/pickle_compat.py\u001b[0m in \u001b[0;36mload\u001b[0;34m(fh, encoding, compat, is_verbose)\u001b[0m\n\u001b[1;32m    226\u001b[0m \u001b[0;34m\u001b[0m\u001b[0m\n\u001b[0;32m--> 227\u001b[0;31m         \u001b[0;32mreturn\u001b[0m \u001b[0mup\u001b[0m\u001b[0;34m.\u001b[0m\u001b[0mload\u001b[0m\u001b[0;34m(\u001b[0m\u001b[0;34m)\u001b[0m\u001b[0;34m\u001b[0m\u001b[0;34m\u001b[0m\u001b[0m\n\u001b[0m\u001b[1;32m    228\u001b[0m     \u001b[0;32mexcept\u001b[0m \u001b[0;34m(\u001b[0m\u001b[0mValueError\u001b[0m\u001b[0;34m,\u001b[0m \u001b[0mTypeError\u001b[0m\u001b[0;34m)\u001b[0m\u001b[0;34m:\u001b[0m\u001b[0;34m\u001b[0m\u001b[0;34m\u001b[0m\u001b[0m\n",
      "\u001b[0;32m~/opt/anaconda3/lib/python3.7/pickle.py\u001b[0m in \u001b[0;36mload\u001b[0;34m(self)\u001b[0m\n\u001b[1;32m   1087\u001b[0m                 \u001b[0;32massert\u001b[0m \u001b[0misinstance\u001b[0m\u001b[0;34m(\u001b[0m\u001b[0mkey\u001b[0m\u001b[0;34m,\u001b[0m \u001b[0mbytes_types\u001b[0m\u001b[0;34m)\u001b[0m\u001b[0;34m\u001b[0m\u001b[0;34m\u001b[0m\u001b[0m\n\u001b[0;32m-> 1088\u001b[0;31m                 \u001b[0mdispatch\u001b[0m\u001b[0;34m[\u001b[0m\u001b[0mkey\u001b[0m\u001b[0;34m[\u001b[0m\u001b[0;36m0\u001b[0m\u001b[0;34m]\u001b[0m\u001b[0;34m]\u001b[0m\u001b[0;34m(\u001b[0m\u001b[0mself\u001b[0m\u001b[0;34m)\u001b[0m\u001b[0;34m\u001b[0m\u001b[0;34m\u001b[0m\u001b[0m\n\u001b[0m\u001b[1;32m   1089\u001b[0m         \u001b[0;32mexcept\u001b[0m \u001b[0m_Stop\u001b[0m \u001b[0;32mas\u001b[0m \u001b[0mstopinst\u001b[0m\u001b[0;34m:\u001b[0m\u001b[0;34m\u001b[0m\u001b[0;34m\u001b[0m\u001b[0m\n",
      "\u001b[0;32m~/opt/anaconda3/lib/python3.7/pickle.py\u001b[0m in \u001b[0;36mload_short_binbytes\u001b[0;34m(self)\u001b[0m\n\u001b[1;32m   1268\u001b[0m         \u001b[0mlen\u001b[0m \u001b[0;34m=\u001b[0m \u001b[0mself\u001b[0m\u001b[0;34m.\u001b[0m\u001b[0mread\u001b[0m\u001b[0;34m(\u001b[0m\u001b[0;36m1\u001b[0m\u001b[0;34m)\u001b[0m\u001b[0;34m[\u001b[0m\u001b[0;36m0\u001b[0m\u001b[0;34m]\u001b[0m\u001b[0;34m\u001b[0m\u001b[0;34m\u001b[0m\u001b[0m\n\u001b[0;32m-> 1269\u001b[0;31m         \u001b[0mself\u001b[0m\u001b[0;34m.\u001b[0m\u001b[0mappend\u001b[0m\u001b[0;34m(\u001b[0m\u001b[0mself\u001b[0m\u001b[0;34m.\u001b[0m\u001b[0mread\u001b[0m\u001b[0;34m(\u001b[0m\u001b[0mlen\u001b[0m\u001b[0;34m)\u001b[0m\u001b[0;34m)\u001b[0m\u001b[0;34m\u001b[0m\u001b[0;34m\u001b[0m\u001b[0m\n\u001b[0m\u001b[1;32m   1270\u001b[0m     \u001b[0mdispatch\u001b[0m\u001b[0;34m[\u001b[0m\u001b[0mSHORT_BINBYTES\u001b[0m\u001b[0;34m[\u001b[0m\u001b[0;36m0\u001b[0m\u001b[0;34m]\u001b[0m\u001b[0;34m]\u001b[0m \u001b[0;34m=\u001b[0m \u001b[0mload_short_binbytes\u001b[0m\u001b[0;34m\u001b[0m\u001b[0;34m\u001b[0m\u001b[0m\n",
      "\u001b[0;32m~/opt/anaconda3/lib/python3.7/pickle.py\u001b[0m in \u001b[0;36mread\u001b[0;34m(self, n)\u001b[0m\n\u001b[1;32m    261\u001b[0m                 raise UnpicklingError(\n\u001b[0;32m--> 262\u001b[0;31m                     \"pickle exhausted before end of frame\")\n\u001b[0m\u001b[1;32m    263\u001b[0m             \u001b[0;32mreturn\u001b[0m \u001b[0mdata\u001b[0m\u001b[0;34m\u001b[0m\u001b[0;34m\u001b[0m\u001b[0m\n",
      "\u001b[0;31mUnpicklingError\u001b[0m: pickle exhausted before end of frame",
      "\nDuring handling of the above exception, another exception occurred:\n",
      "\u001b[0;31mUnpicklingError\u001b[0m                           Traceback (most recent call last)",
      "\u001b[0;32m~/opt/anaconda3/lib/python3.7/site-packages/pandas/io/pickle.py\u001b[0m in \u001b[0;36mread_pickle\u001b[0;34m(path, compression)\u001b[0m\n\u001b[1;32m    178\u001b[0m     \u001b[0;32mtry\u001b[0m\u001b[0;34m:\u001b[0m\u001b[0;34m\u001b[0m\u001b[0;34m\u001b[0m\u001b[0m\n\u001b[0;32m--> 179\u001b[0;31m         \u001b[0;32mreturn\u001b[0m \u001b[0mtry_read\u001b[0m\u001b[0;34m(\u001b[0m\u001b[0mpath\u001b[0m\u001b[0;34m)\u001b[0m\u001b[0;34m\u001b[0m\u001b[0;34m\u001b[0m\u001b[0m\n\u001b[0m\u001b[1;32m    180\u001b[0m     \u001b[0;32mexcept\u001b[0m \u001b[0mException\u001b[0m\u001b[0;34m:\u001b[0m  \u001b[0;31m# noqa: E722\u001b[0m\u001b[0;34m\u001b[0m\u001b[0;34m\u001b[0m\u001b[0m\n",
      "\u001b[0;32m~/opt/anaconda3/lib/python3.7/site-packages/pandas/io/pickle.py\u001b[0m in \u001b[0;36mtry_read\u001b[0;34m(path, encoding)\u001b[0m\n\u001b[1;32m    176\u001b[0m                 return read_wrapper(\n\u001b[0;32m--> 177\u001b[0;31m                     lambda f: pc.load(f, encoding=encoding, compat=True))\n\u001b[0m\u001b[1;32m    178\u001b[0m     \u001b[0;32mtry\u001b[0m\u001b[0;34m:\u001b[0m\u001b[0;34m\u001b[0m\u001b[0;34m\u001b[0m\u001b[0m\n",
      "\u001b[0;32m~/opt/anaconda3/lib/python3.7/site-packages/pandas/io/pickle.py\u001b[0m in \u001b[0;36mread_wrapper\u001b[0;34m(func)\u001b[0m\n\u001b[1;32m    147\u001b[0m         \u001b[0;32mtry\u001b[0m\u001b[0;34m:\u001b[0m\u001b[0;34m\u001b[0m\u001b[0;34m\u001b[0m\u001b[0m\n\u001b[0;32m--> 148\u001b[0;31m             \u001b[0;32mreturn\u001b[0m \u001b[0mfunc\u001b[0m\u001b[0;34m(\u001b[0m\u001b[0mf\u001b[0m\u001b[0;34m)\u001b[0m\u001b[0;34m\u001b[0m\u001b[0;34m\u001b[0m\u001b[0m\n\u001b[0m\u001b[1;32m    149\u001b[0m         \u001b[0;32mfinally\u001b[0m\u001b[0;34m:\u001b[0m\u001b[0;34m\u001b[0m\u001b[0;34m\u001b[0m\u001b[0m\n",
      "\u001b[0;32m~/opt/anaconda3/lib/python3.7/site-packages/pandas/io/pickle.py\u001b[0m in \u001b[0;36m<lambda>\u001b[0;34m(f)\u001b[0m\n\u001b[1;32m    176\u001b[0m                 return read_wrapper(\n\u001b[0;32m--> 177\u001b[0;31m                     lambda f: pc.load(f, encoding=encoding, compat=True))\n\u001b[0m\u001b[1;32m    178\u001b[0m     \u001b[0;32mtry\u001b[0m\u001b[0;34m:\u001b[0m\u001b[0;34m\u001b[0m\u001b[0;34m\u001b[0m\u001b[0m\n",
      "\u001b[0;32m~/opt/anaconda3/lib/python3.7/site-packages/pandas/compat/pickle_compat.py\u001b[0m in \u001b[0;36mload\u001b[0;34m(fh, encoding, compat, is_verbose)\u001b[0m\n\u001b[1;32m    226\u001b[0m \u001b[0;34m\u001b[0m\u001b[0m\n\u001b[0;32m--> 227\u001b[0;31m         \u001b[0;32mreturn\u001b[0m \u001b[0mup\u001b[0m\u001b[0;34m.\u001b[0m\u001b[0mload\u001b[0m\u001b[0;34m(\u001b[0m\u001b[0;34m)\u001b[0m\u001b[0;34m\u001b[0m\u001b[0;34m\u001b[0m\u001b[0m\n\u001b[0m\u001b[1;32m    228\u001b[0m     \u001b[0;32mexcept\u001b[0m \u001b[0;34m(\u001b[0m\u001b[0mValueError\u001b[0m\u001b[0;34m,\u001b[0m \u001b[0mTypeError\u001b[0m\u001b[0;34m)\u001b[0m\u001b[0;34m:\u001b[0m\u001b[0;34m\u001b[0m\u001b[0;34m\u001b[0m\u001b[0m\n",
      "\u001b[0;32m~/opt/anaconda3/lib/python3.7/pickle.py\u001b[0m in \u001b[0;36mload\u001b[0;34m(self)\u001b[0m\n\u001b[1;32m   1087\u001b[0m                 \u001b[0;32massert\u001b[0m \u001b[0misinstance\u001b[0m\u001b[0;34m(\u001b[0m\u001b[0mkey\u001b[0m\u001b[0;34m,\u001b[0m \u001b[0mbytes_types\u001b[0m\u001b[0;34m)\u001b[0m\u001b[0;34m\u001b[0m\u001b[0;34m\u001b[0m\u001b[0m\n\u001b[0;32m-> 1088\u001b[0;31m                 \u001b[0mdispatch\u001b[0m\u001b[0;34m[\u001b[0m\u001b[0mkey\u001b[0m\u001b[0;34m[\u001b[0m\u001b[0;36m0\u001b[0m\u001b[0;34m]\u001b[0m\u001b[0;34m]\u001b[0m\u001b[0;34m(\u001b[0m\u001b[0mself\u001b[0m\u001b[0;34m)\u001b[0m\u001b[0;34m\u001b[0m\u001b[0;34m\u001b[0m\u001b[0m\n\u001b[0m\u001b[1;32m   1089\u001b[0m         \u001b[0;32mexcept\u001b[0m \u001b[0m_Stop\u001b[0m \u001b[0;32mas\u001b[0m \u001b[0mstopinst\u001b[0m\u001b[0;34m:\u001b[0m\u001b[0;34m\u001b[0m\u001b[0;34m\u001b[0m\u001b[0m\n",
      "\u001b[0;32m~/opt/anaconda3/lib/python3.7/pickle.py\u001b[0m in \u001b[0;36mload_short_binbytes\u001b[0;34m(self)\u001b[0m\n\u001b[1;32m   1268\u001b[0m         \u001b[0mlen\u001b[0m \u001b[0;34m=\u001b[0m \u001b[0mself\u001b[0m\u001b[0;34m.\u001b[0m\u001b[0mread\u001b[0m\u001b[0;34m(\u001b[0m\u001b[0;36m1\u001b[0m\u001b[0;34m)\u001b[0m\u001b[0;34m[\u001b[0m\u001b[0;36m0\u001b[0m\u001b[0;34m]\u001b[0m\u001b[0;34m\u001b[0m\u001b[0;34m\u001b[0m\u001b[0m\n\u001b[0;32m-> 1269\u001b[0;31m         \u001b[0mself\u001b[0m\u001b[0;34m.\u001b[0m\u001b[0mappend\u001b[0m\u001b[0;34m(\u001b[0m\u001b[0mself\u001b[0m\u001b[0;34m.\u001b[0m\u001b[0mread\u001b[0m\u001b[0;34m(\u001b[0m\u001b[0mlen\u001b[0m\u001b[0;34m)\u001b[0m\u001b[0;34m)\u001b[0m\u001b[0;34m\u001b[0m\u001b[0;34m\u001b[0m\u001b[0m\n\u001b[0m\u001b[1;32m   1270\u001b[0m     \u001b[0mdispatch\u001b[0m\u001b[0;34m[\u001b[0m\u001b[0mSHORT_BINBYTES\u001b[0m\u001b[0;34m[\u001b[0m\u001b[0;36m0\u001b[0m\u001b[0;34m]\u001b[0m\u001b[0;34m]\u001b[0m \u001b[0;34m=\u001b[0m \u001b[0mload_short_binbytes\u001b[0m\u001b[0;34m\u001b[0m\u001b[0;34m\u001b[0m\u001b[0m\n",
      "\u001b[0;32m~/opt/anaconda3/lib/python3.7/pickle.py\u001b[0m in \u001b[0;36mread\u001b[0;34m(self, n)\u001b[0m\n\u001b[1;32m    261\u001b[0m                 raise UnpicklingError(\n\u001b[0;32m--> 262\u001b[0;31m                     \"pickle exhausted before end of frame\")\n\u001b[0m\u001b[1;32m    263\u001b[0m             \u001b[0;32mreturn\u001b[0m \u001b[0mdata\u001b[0m\u001b[0;34m\u001b[0m\u001b[0;34m\u001b[0m\u001b[0m\n",
      "\u001b[0;31mUnpicklingError\u001b[0m: pickle exhausted before end of frame",
      "\nDuring handling of the above exception, another exception occurred:\n",
      "\u001b[0;31mUnpicklingError\u001b[0m                           Traceback (most recent call last)",
      "\u001b[0;32m~/opt/anaconda3/lib/python3.7/site-packages/pandas/io/pickle.py\u001b[0m in \u001b[0;36mtry_read\u001b[0;34m(path, encoding)\u001b[0m\n\u001b[1;32m    165\u001b[0m                 \u001b[0mwarnings\u001b[0m\u001b[0;34m.\u001b[0m\u001b[0msimplefilter\u001b[0m\u001b[0;34m(\u001b[0m\u001b[0;34m\"ignore\"\u001b[0m\u001b[0;34m,\u001b[0m \u001b[0mWarning\u001b[0m\u001b[0;34m)\u001b[0m\u001b[0;34m\u001b[0m\u001b[0;34m\u001b[0m\u001b[0m\n\u001b[0;32m--> 166\u001b[0;31m                 \u001b[0;32mreturn\u001b[0m \u001b[0mread_wrapper\u001b[0m\u001b[0;34m(\u001b[0m\u001b[0;32mlambda\u001b[0m \u001b[0mf\u001b[0m\u001b[0;34m:\u001b[0m \u001b[0mpkl\u001b[0m\u001b[0;34m.\u001b[0m\u001b[0mload\u001b[0m\u001b[0;34m(\u001b[0m\u001b[0mf\u001b[0m\u001b[0;34m)\u001b[0m\u001b[0;34m)\u001b[0m\u001b[0;34m\u001b[0m\u001b[0;34m\u001b[0m\u001b[0m\n\u001b[0m\u001b[1;32m    167\u001b[0m         \u001b[0;32mexcept\u001b[0m \u001b[0mException\u001b[0m\u001b[0;34m:\u001b[0m  \u001b[0;31m# noqa: E722\u001b[0m\u001b[0;34m\u001b[0m\u001b[0;34m\u001b[0m\u001b[0m\n",
      "\u001b[0;32m~/opt/anaconda3/lib/python3.7/site-packages/pandas/io/pickle.py\u001b[0m in \u001b[0;36mread_wrapper\u001b[0;34m(func)\u001b[0m\n\u001b[1;32m    147\u001b[0m         \u001b[0;32mtry\u001b[0m\u001b[0;34m:\u001b[0m\u001b[0;34m\u001b[0m\u001b[0;34m\u001b[0m\u001b[0m\n\u001b[0;32m--> 148\u001b[0;31m             \u001b[0;32mreturn\u001b[0m \u001b[0mfunc\u001b[0m\u001b[0;34m(\u001b[0m\u001b[0mf\u001b[0m\u001b[0;34m)\u001b[0m\u001b[0;34m\u001b[0m\u001b[0;34m\u001b[0m\u001b[0m\n\u001b[0m\u001b[1;32m    149\u001b[0m         \u001b[0;32mfinally\u001b[0m\u001b[0;34m:\u001b[0m\u001b[0;34m\u001b[0m\u001b[0;34m\u001b[0m\u001b[0m\n",
      "\u001b[0;32m~/opt/anaconda3/lib/python3.7/site-packages/pandas/io/pickle.py\u001b[0m in \u001b[0;36m<lambda>\u001b[0;34m(f)\u001b[0m\n\u001b[1;32m    165\u001b[0m                 \u001b[0mwarnings\u001b[0m\u001b[0;34m.\u001b[0m\u001b[0msimplefilter\u001b[0m\u001b[0;34m(\u001b[0m\u001b[0;34m\"ignore\"\u001b[0m\u001b[0;34m,\u001b[0m \u001b[0mWarning\u001b[0m\u001b[0;34m)\u001b[0m\u001b[0;34m\u001b[0m\u001b[0;34m\u001b[0m\u001b[0m\n\u001b[0;32m--> 166\u001b[0;31m                 \u001b[0;32mreturn\u001b[0m \u001b[0mread_wrapper\u001b[0m\u001b[0;34m(\u001b[0m\u001b[0;32mlambda\u001b[0m \u001b[0mf\u001b[0m\u001b[0;34m:\u001b[0m \u001b[0mpkl\u001b[0m\u001b[0;34m.\u001b[0m\u001b[0mload\u001b[0m\u001b[0;34m(\u001b[0m\u001b[0mf\u001b[0m\u001b[0;34m)\u001b[0m\u001b[0;34m)\u001b[0m\u001b[0;34m\u001b[0m\u001b[0;34m\u001b[0m\u001b[0m\n\u001b[0m\u001b[1;32m    167\u001b[0m         \u001b[0;32mexcept\u001b[0m \u001b[0mException\u001b[0m\u001b[0;34m:\u001b[0m  \u001b[0;31m# noqa: E722\u001b[0m\u001b[0;34m\u001b[0m\u001b[0;34m\u001b[0m\u001b[0m\n",
      "\u001b[0;31mUnpicklingError\u001b[0m: pickle data was truncated",
      "\nDuring handling of the above exception, another exception occurred:\n",
      "\u001b[0;31mUnpicklingError\u001b[0m                           Traceback (most recent call last)",
      "\u001b[0;32m~/opt/anaconda3/lib/python3.7/site-packages/pandas/io/pickle.py\u001b[0m in \u001b[0;36mtry_read\u001b[0;34m(path, encoding)\u001b[0m\n\u001b[1;32m    172\u001b[0m                 return read_wrapper(\n\u001b[0;32m--> 173\u001b[0;31m                     lambda f: pc.load(f, encoding=encoding, compat=False))\n\u001b[0m\u001b[1;32m    174\u001b[0m             \u001b[0;31m# compat pickle\u001b[0m\u001b[0;34m\u001b[0m\u001b[0;34m\u001b[0m\u001b[0;34m\u001b[0m\u001b[0m\n",
      "\u001b[0;32m~/opt/anaconda3/lib/python3.7/site-packages/pandas/io/pickle.py\u001b[0m in \u001b[0;36mread_wrapper\u001b[0;34m(func)\u001b[0m\n\u001b[1;32m    147\u001b[0m         \u001b[0;32mtry\u001b[0m\u001b[0;34m:\u001b[0m\u001b[0;34m\u001b[0m\u001b[0;34m\u001b[0m\u001b[0m\n\u001b[0;32m--> 148\u001b[0;31m             \u001b[0;32mreturn\u001b[0m \u001b[0mfunc\u001b[0m\u001b[0;34m(\u001b[0m\u001b[0mf\u001b[0m\u001b[0;34m)\u001b[0m\u001b[0;34m\u001b[0m\u001b[0;34m\u001b[0m\u001b[0m\n\u001b[0m\u001b[1;32m    149\u001b[0m         \u001b[0;32mfinally\u001b[0m\u001b[0;34m:\u001b[0m\u001b[0;34m\u001b[0m\u001b[0;34m\u001b[0m\u001b[0m\n",
      "\u001b[0;32m~/opt/anaconda3/lib/python3.7/site-packages/pandas/io/pickle.py\u001b[0m in \u001b[0;36m<lambda>\u001b[0;34m(f)\u001b[0m\n\u001b[1;32m    172\u001b[0m                 return read_wrapper(\n\u001b[0;32m--> 173\u001b[0;31m                     lambda f: pc.load(f, encoding=encoding, compat=False))\n\u001b[0m\u001b[1;32m    174\u001b[0m             \u001b[0;31m# compat pickle\u001b[0m\u001b[0;34m\u001b[0m\u001b[0;34m\u001b[0m\u001b[0;34m\u001b[0m\u001b[0m\n",
      "\u001b[0;32m~/opt/anaconda3/lib/python3.7/site-packages/pandas/compat/pickle_compat.py\u001b[0m in \u001b[0;36mload\u001b[0;34m(fh, encoding, compat, is_verbose)\u001b[0m\n\u001b[1;32m    226\u001b[0m \u001b[0;34m\u001b[0m\u001b[0m\n\u001b[0;32m--> 227\u001b[0;31m         \u001b[0;32mreturn\u001b[0m \u001b[0mup\u001b[0m\u001b[0;34m.\u001b[0m\u001b[0mload\u001b[0m\u001b[0;34m(\u001b[0m\u001b[0;34m)\u001b[0m\u001b[0;34m\u001b[0m\u001b[0;34m\u001b[0m\u001b[0m\n\u001b[0m\u001b[1;32m    228\u001b[0m     \u001b[0;32mexcept\u001b[0m \u001b[0;34m(\u001b[0m\u001b[0mValueError\u001b[0m\u001b[0;34m,\u001b[0m \u001b[0mTypeError\u001b[0m\u001b[0;34m)\u001b[0m\u001b[0;34m:\u001b[0m\u001b[0;34m\u001b[0m\u001b[0;34m\u001b[0m\u001b[0m\n",
      "\u001b[0;32m~/opt/anaconda3/lib/python3.7/pickle.py\u001b[0m in \u001b[0;36mload\u001b[0;34m(self)\u001b[0m\n\u001b[1;32m   1087\u001b[0m                 \u001b[0;32massert\u001b[0m \u001b[0misinstance\u001b[0m\u001b[0;34m(\u001b[0m\u001b[0mkey\u001b[0m\u001b[0;34m,\u001b[0m \u001b[0mbytes_types\u001b[0m\u001b[0;34m)\u001b[0m\u001b[0;34m\u001b[0m\u001b[0;34m\u001b[0m\u001b[0m\n\u001b[0;32m-> 1088\u001b[0;31m                 \u001b[0mdispatch\u001b[0m\u001b[0;34m[\u001b[0m\u001b[0mkey\u001b[0m\u001b[0;34m[\u001b[0m\u001b[0;36m0\u001b[0m\u001b[0;34m]\u001b[0m\u001b[0;34m]\u001b[0m\u001b[0;34m(\u001b[0m\u001b[0mself\u001b[0m\u001b[0;34m)\u001b[0m\u001b[0;34m\u001b[0m\u001b[0;34m\u001b[0m\u001b[0m\n\u001b[0m\u001b[1;32m   1089\u001b[0m         \u001b[0;32mexcept\u001b[0m \u001b[0m_Stop\u001b[0m \u001b[0;32mas\u001b[0m \u001b[0mstopinst\u001b[0m\u001b[0;34m:\u001b[0m\u001b[0;34m\u001b[0m\u001b[0;34m\u001b[0m\u001b[0m\n",
      "\u001b[0;32m~/opt/anaconda3/lib/python3.7/pickle.py\u001b[0m in \u001b[0;36mload_short_binbytes\u001b[0;34m(self)\u001b[0m\n\u001b[1;32m   1268\u001b[0m         \u001b[0mlen\u001b[0m \u001b[0;34m=\u001b[0m \u001b[0mself\u001b[0m\u001b[0;34m.\u001b[0m\u001b[0mread\u001b[0m\u001b[0;34m(\u001b[0m\u001b[0;36m1\u001b[0m\u001b[0;34m)\u001b[0m\u001b[0;34m[\u001b[0m\u001b[0;36m0\u001b[0m\u001b[0;34m]\u001b[0m\u001b[0;34m\u001b[0m\u001b[0;34m\u001b[0m\u001b[0m\n\u001b[0;32m-> 1269\u001b[0;31m         \u001b[0mself\u001b[0m\u001b[0;34m.\u001b[0m\u001b[0mappend\u001b[0m\u001b[0;34m(\u001b[0m\u001b[0mself\u001b[0m\u001b[0;34m.\u001b[0m\u001b[0mread\u001b[0m\u001b[0;34m(\u001b[0m\u001b[0mlen\u001b[0m\u001b[0;34m)\u001b[0m\u001b[0;34m)\u001b[0m\u001b[0;34m\u001b[0m\u001b[0;34m\u001b[0m\u001b[0m\n\u001b[0m\u001b[1;32m   1270\u001b[0m     \u001b[0mdispatch\u001b[0m\u001b[0;34m[\u001b[0m\u001b[0mSHORT_BINBYTES\u001b[0m\u001b[0;34m[\u001b[0m\u001b[0;36m0\u001b[0m\u001b[0;34m]\u001b[0m\u001b[0;34m]\u001b[0m \u001b[0;34m=\u001b[0m \u001b[0mload_short_binbytes\u001b[0m\u001b[0;34m\u001b[0m\u001b[0;34m\u001b[0m\u001b[0m\n",
      "\u001b[0;32m~/opt/anaconda3/lib/python3.7/pickle.py\u001b[0m in \u001b[0;36mread\u001b[0;34m(self, n)\u001b[0m\n\u001b[1;32m    261\u001b[0m                 raise UnpicklingError(\n\u001b[0;32m--> 262\u001b[0;31m                     \"pickle exhausted before end of frame\")\n\u001b[0m\u001b[1;32m    263\u001b[0m             \u001b[0;32mreturn\u001b[0m \u001b[0mdata\u001b[0m\u001b[0;34m\u001b[0m\u001b[0;34m\u001b[0m\u001b[0m\n",
      "\u001b[0;31mUnpicklingError\u001b[0m: pickle exhausted before end of frame",
      "\nDuring handling of the above exception, another exception occurred:\n",
      "\u001b[0;31mUnpicklingError\u001b[0m                           Traceback (most recent call last)",
      "\u001b[0;32m<ipython-input-12-bc25b2c4db0c>\u001b[0m in \u001b[0;36m<module>\u001b[0;34m\u001b[0m\n\u001b[1;32m      4\u001b[0m     file_status = ds.process_NoiseLabSlice_file(f,root_dir_noiselab=root_dir_noiselab,\n\u001b[1;32m      5\u001b[0m                                                        \u001b[0mroot_dir_tdms\u001b[0m\u001b[0;34m=\u001b[0m\u001b[0mroot_dir_tdms\u001b[0m\u001b[0;34m,\u001b[0m\u001b[0;34m\u001b[0m\u001b[0;34m\u001b[0m\u001b[0m\n\u001b[0;32m----> 6\u001b[0;31m                                                        dataset_file=dataset_file)\n\u001b[0m\u001b[1;32m      7\u001b[0m \u001b[0;34m\u001b[0m\u001b[0m\n\u001b[1;32m      8\u001b[0m     \u001b[0;32mif\u001b[0m \u001b[0mfile_status\u001b[0m \u001b[0;34m==\u001b[0m \u001b[0;36m1\u001b[0m\u001b[0;34m:\u001b[0m\u001b[0;34m\u001b[0m\u001b[0;34m\u001b[0m\u001b[0m\n",
      "\u001b[0;32m~/Documents/Code/Aeroacoustics/coderepo/aeroacoustics/dataset.py\u001b[0m in \u001b[0;36mprocess_NoiseLabSlice_file\u001b[0;34m(filename, root_dir_noiselab, root_dir_tdms, dataset_file, third_octave)\u001b[0m\n\u001b[1;32m    133\u001b[0m \u001b[0;34m\u001b[0m\u001b[0m\n\u001b[1;32m    134\u001b[0m     \u001b[0;31m# append to existing dataset\u001b[0m\u001b[0;34m\u001b[0m\u001b[0;34m\u001b[0m\u001b[0;34m\u001b[0m\u001b[0m\n\u001b[0;32m--> 135\u001b[0;31m     \u001b[0mdf\u001b[0m \u001b[0;34m=\u001b[0m \u001b[0mpd\u001b[0m\u001b[0;34m.\u001b[0m\u001b[0mread_pickle\u001b[0m\u001b[0;34m(\u001b[0m\u001b[0mdataset_file\u001b[0m\u001b[0;34m)\u001b[0m\u001b[0;34m\u001b[0m\u001b[0;34m\u001b[0m\u001b[0m\n\u001b[0m\u001b[1;32m    136\u001b[0m     \u001b[0mdf\u001b[0m \u001b[0;34m=\u001b[0m \u001b[0mdf\u001b[0m\u001b[0;34m.\u001b[0m\u001b[0mappend\u001b[0m\u001b[0;34m(\u001b[0m\u001b[0mdf_new\u001b[0m\u001b[0;34m)\u001b[0m\u001b[0;34m\u001b[0m\u001b[0;34m\u001b[0m\u001b[0m\n\u001b[1;32m    137\u001b[0m     \u001b[0mdf\u001b[0m \u001b[0;34m=\u001b[0m \u001b[0mdf\u001b[0m\u001b[0;34m.\u001b[0m\u001b[0mloc\u001b[0m\u001b[0;34m[\u001b[0m\u001b[0;34m~\u001b[0m\u001b[0mdf\u001b[0m\u001b[0;34m.\u001b[0m\u001b[0mindex\u001b[0m\u001b[0;34m.\u001b[0m\u001b[0mduplicated\u001b[0m\u001b[0;34m(\u001b[0m\u001b[0mkeep\u001b[0m\u001b[0;34m=\u001b[0m\u001b[0;34m'first'\u001b[0m\u001b[0;34m)\u001b[0m\u001b[0;34m]\u001b[0m\u001b[0;34m\u001b[0m\u001b[0;34m\u001b[0m\u001b[0m\n",
      "\u001b[0;32m~/opt/anaconda3/lib/python3.7/site-packages/pandas/io/pickle.py\u001b[0m in \u001b[0;36mread_pickle\u001b[0;34m(path, compression)\u001b[0m\n\u001b[1;32m    180\u001b[0m     \u001b[0;32mexcept\u001b[0m \u001b[0mException\u001b[0m\u001b[0;34m:\u001b[0m  \u001b[0;31m# noqa: E722\u001b[0m\u001b[0;34m\u001b[0m\u001b[0;34m\u001b[0m\u001b[0m\n\u001b[1;32m    181\u001b[0m         \u001b[0;32mif\u001b[0m \u001b[0mPY3\u001b[0m\u001b[0;34m:\u001b[0m\u001b[0;34m\u001b[0m\u001b[0;34m\u001b[0m\u001b[0m\n\u001b[0;32m--> 182\u001b[0;31m             \u001b[0;32mreturn\u001b[0m \u001b[0mtry_read\u001b[0m\u001b[0;34m(\u001b[0m\u001b[0mpath\u001b[0m\u001b[0;34m,\u001b[0m \u001b[0mencoding\u001b[0m\u001b[0;34m=\u001b[0m\u001b[0;34m'latin1'\u001b[0m\u001b[0;34m)\u001b[0m\u001b[0;34m\u001b[0m\u001b[0;34m\u001b[0m\u001b[0m\n\u001b[0m\u001b[1;32m    183\u001b[0m         \u001b[0;32mraise\u001b[0m\u001b[0;34m\u001b[0m\u001b[0;34m\u001b[0m\u001b[0m\n\u001b[1;32m    184\u001b[0m \u001b[0;34m\u001b[0m\u001b[0m\n",
      "\u001b[0;32m~/opt/anaconda3/lib/python3.7/site-packages/pandas/io/pickle.py\u001b[0m in \u001b[0;36mtry_read\u001b[0;34m(path, encoding)\u001b[0m\n\u001b[1;32m    175\u001b[0m             \u001b[0;32mexcept\u001b[0m \u001b[0mException\u001b[0m\u001b[0;34m:\u001b[0m  \u001b[0;31m# noqa: E722\u001b[0m\u001b[0;34m\u001b[0m\u001b[0;34m\u001b[0m\u001b[0m\n\u001b[1;32m    176\u001b[0m                 return read_wrapper(\n\u001b[0;32m--> 177\u001b[0;31m                     lambda f: pc.load(f, encoding=encoding, compat=True))\n\u001b[0m\u001b[1;32m    178\u001b[0m     \u001b[0;32mtry\u001b[0m\u001b[0;34m:\u001b[0m\u001b[0;34m\u001b[0m\u001b[0;34m\u001b[0m\u001b[0m\n\u001b[1;32m    179\u001b[0m         \u001b[0;32mreturn\u001b[0m \u001b[0mtry_read\u001b[0m\u001b[0;34m(\u001b[0m\u001b[0mpath\u001b[0m\u001b[0;34m)\u001b[0m\u001b[0;34m\u001b[0m\u001b[0;34m\u001b[0m\u001b[0m\n",
      "\u001b[0;32m~/opt/anaconda3/lib/python3.7/site-packages/pandas/io/pickle.py\u001b[0m in \u001b[0;36mread_wrapper\u001b[0;34m(func)\u001b[0m\n\u001b[1;32m    146\u001b[0m                             is_text=False)\n\u001b[1;32m    147\u001b[0m         \u001b[0;32mtry\u001b[0m\u001b[0;34m:\u001b[0m\u001b[0;34m\u001b[0m\u001b[0;34m\u001b[0m\u001b[0m\n\u001b[0;32m--> 148\u001b[0;31m             \u001b[0;32mreturn\u001b[0m \u001b[0mfunc\u001b[0m\u001b[0;34m(\u001b[0m\u001b[0mf\u001b[0m\u001b[0;34m)\u001b[0m\u001b[0;34m\u001b[0m\u001b[0;34m\u001b[0m\u001b[0m\n\u001b[0m\u001b[1;32m    149\u001b[0m         \u001b[0;32mfinally\u001b[0m\u001b[0;34m:\u001b[0m\u001b[0;34m\u001b[0m\u001b[0;34m\u001b[0m\u001b[0m\n\u001b[1;32m    150\u001b[0m             \u001b[0;32mfor\u001b[0m \u001b[0m_f\u001b[0m \u001b[0;32min\u001b[0m \u001b[0mfh\u001b[0m\u001b[0;34m:\u001b[0m\u001b[0;34m\u001b[0m\u001b[0;34m\u001b[0m\u001b[0m\n",
      "\u001b[0;32m~/opt/anaconda3/lib/python3.7/site-packages/pandas/io/pickle.py\u001b[0m in \u001b[0;36m<lambda>\u001b[0;34m(f)\u001b[0m\n\u001b[1;32m    175\u001b[0m             \u001b[0;32mexcept\u001b[0m \u001b[0mException\u001b[0m\u001b[0;34m:\u001b[0m  \u001b[0;31m# noqa: E722\u001b[0m\u001b[0;34m\u001b[0m\u001b[0;34m\u001b[0m\u001b[0m\n\u001b[1;32m    176\u001b[0m                 return read_wrapper(\n\u001b[0;32m--> 177\u001b[0;31m                     lambda f: pc.load(f, encoding=encoding, compat=True))\n\u001b[0m\u001b[1;32m    178\u001b[0m     \u001b[0;32mtry\u001b[0m\u001b[0;34m:\u001b[0m\u001b[0;34m\u001b[0m\u001b[0;34m\u001b[0m\u001b[0m\n\u001b[1;32m    179\u001b[0m         \u001b[0;32mreturn\u001b[0m \u001b[0mtry_read\u001b[0m\u001b[0;34m(\u001b[0m\u001b[0mpath\u001b[0m\u001b[0;34m)\u001b[0m\u001b[0;34m\u001b[0m\u001b[0;34m\u001b[0m\u001b[0m\n",
      "\u001b[0;32m~/opt/anaconda3/lib/python3.7/site-packages/pandas/compat/pickle_compat.py\u001b[0m in \u001b[0;36mload\u001b[0;34m(fh, encoding, compat, is_verbose)\u001b[0m\n\u001b[1;32m    225\u001b[0m         \u001b[0mup\u001b[0m\u001b[0;34m.\u001b[0m\u001b[0mis_verbose\u001b[0m \u001b[0;34m=\u001b[0m \u001b[0mis_verbose\u001b[0m\u001b[0;34m\u001b[0m\u001b[0;34m\u001b[0m\u001b[0m\n\u001b[1;32m    226\u001b[0m \u001b[0;34m\u001b[0m\u001b[0m\n\u001b[0;32m--> 227\u001b[0;31m         \u001b[0;32mreturn\u001b[0m \u001b[0mup\u001b[0m\u001b[0;34m.\u001b[0m\u001b[0mload\u001b[0m\u001b[0;34m(\u001b[0m\u001b[0;34m)\u001b[0m\u001b[0;34m\u001b[0m\u001b[0;34m\u001b[0m\u001b[0m\n\u001b[0m\u001b[1;32m    228\u001b[0m     \u001b[0;32mexcept\u001b[0m \u001b[0;34m(\u001b[0m\u001b[0mValueError\u001b[0m\u001b[0;34m,\u001b[0m \u001b[0mTypeError\u001b[0m\u001b[0;34m)\u001b[0m\u001b[0;34m:\u001b[0m\u001b[0;34m\u001b[0m\u001b[0;34m\u001b[0m\u001b[0m\n\u001b[1;32m    229\u001b[0m         \u001b[0;32mraise\u001b[0m\u001b[0;34m\u001b[0m\u001b[0;34m\u001b[0m\u001b[0m\n",
      "\u001b[0;32m~/opt/anaconda3/lib/python3.7/pickle.py\u001b[0m in \u001b[0;36mload\u001b[0;34m(self)\u001b[0m\n\u001b[1;32m   1086\u001b[0m                     \u001b[0;32mraise\u001b[0m \u001b[0mEOFError\u001b[0m\u001b[0;34m\u001b[0m\u001b[0;34m\u001b[0m\u001b[0m\n\u001b[1;32m   1087\u001b[0m                 \u001b[0;32massert\u001b[0m \u001b[0misinstance\u001b[0m\u001b[0;34m(\u001b[0m\u001b[0mkey\u001b[0m\u001b[0;34m,\u001b[0m \u001b[0mbytes_types\u001b[0m\u001b[0;34m)\u001b[0m\u001b[0;34m\u001b[0m\u001b[0;34m\u001b[0m\u001b[0m\n\u001b[0;32m-> 1088\u001b[0;31m                 \u001b[0mdispatch\u001b[0m\u001b[0;34m[\u001b[0m\u001b[0mkey\u001b[0m\u001b[0;34m[\u001b[0m\u001b[0;36m0\u001b[0m\u001b[0;34m]\u001b[0m\u001b[0;34m]\u001b[0m\u001b[0;34m(\u001b[0m\u001b[0mself\u001b[0m\u001b[0;34m)\u001b[0m\u001b[0;34m\u001b[0m\u001b[0;34m\u001b[0m\u001b[0m\n\u001b[0m\u001b[1;32m   1089\u001b[0m         \u001b[0;32mexcept\u001b[0m \u001b[0m_Stop\u001b[0m \u001b[0;32mas\u001b[0m \u001b[0mstopinst\u001b[0m\u001b[0;34m:\u001b[0m\u001b[0;34m\u001b[0m\u001b[0;34m\u001b[0m\u001b[0m\n\u001b[1;32m   1090\u001b[0m             \u001b[0;32mreturn\u001b[0m \u001b[0mstopinst\u001b[0m\u001b[0;34m.\u001b[0m\u001b[0mvalue\u001b[0m\u001b[0;34m\u001b[0m\u001b[0;34m\u001b[0m\u001b[0m\n",
      "\u001b[0;32m~/opt/anaconda3/lib/python3.7/pickle.py\u001b[0m in \u001b[0;36mload_short_binbytes\u001b[0;34m(self)\u001b[0m\n\u001b[1;32m   1267\u001b[0m     \u001b[0;32mdef\u001b[0m \u001b[0mload_short_binbytes\u001b[0m\u001b[0;34m(\u001b[0m\u001b[0mself\u001b[0m\u001b[0;34m)\u001b[0m\u001b[0;34m:\u001b[0m\u001b[0;34m\u001b[0m\u001b[0;34m\u001b[0m\u001b[0m\n\u001b[1;32m   1268\u001b[0m         \u001b[0mlen\u001b[0m \u001b[0;34m=\u001b[0m \u001b[0mself\u001b[0m\u001b[0;34m.\u001b[0m\u001b[0mread\u001b[0m\u001b[0;34m(\u001b[0m\u001b[0;36m1\u001b[0m\u001b[0;34m)\u001b[0m\u001b[0;34m[\u001b[0m\u001b[0;36m0\u001b[0m\u001b[0;34m]\u001b[0m\u001b[0;34m\u001b[0m\u001b[0;34m\u001b[0m\u001b[0m\n\u001b[0;32m-> 1269\u001b[0;31m         \u001b[0mself\u001b[0m\u001b[0;34m.\u001b[0m\u001b[0mappend\u001b[0m\u001b[0;34m(\u001b[0m\u001b[0mself\u001b[0m\u001b[0;34m.\u001b[0m\u001b[0mread\u001b[0m\u001b[0;34m(\u001b[0m\u001b[0mlen\u001b[0m\u001b[0;34m)\u001b[0m\u001b[0;34m)\u001b[0m\u001b[0;34m\u001b[0m\u001b[0;34m\u001b[0m\u001b[0m\n\u001b[0m\u001b[1;32m   1270\u001b[0m     \u001b[0mdispatch\u001b[0m\u001b[0;34m[\u001b[0m\u001b[0mSHORT_BINBYTES\u001b[0m\u001b[0;34m[\u001b[0m\u001b[0;36m0\u001b[0m\u001b[0;34m]\u001b[0m\u001b[0;34m]\u001b[0m \u001b[0;34m=\u001b[0m \u001b[0mload_short_binbytes\u001b[0m\u001b[0;34m\u001b[0m\u001b[0;34m\u001b[0m\u001b[0m\n\u001b[1;32m   1271\u001b[0m \u001b[0;34m\u001b[0m\u001b[0m\n",
      "\u001b[0;32m~/opt/anaconda3/lib/python3.7/pickle.py\u001b[0m in \u001b[0;36mread\u001b[0;34m(self, n)\u001b[0m\n\u001b[1;32m    260\u001b[0m             \u001b[0;32mif\u001b[0m \u001b[0mlen\u001b[0m\u001b[0;34m(\u001b[0m\u001b[0mdata\u001b[0m\u001b[0;34m)\u001b[0m \u001b[0;34m<\u001b[0m \u001b[0mn\u001b[0m\u001b[0;34m:\u001b[0m\u001b[0;34m\u001b[0m\u001b[0;34m\u001b[0m\u001b[0m\n\u001b[1;32m    261\u001b[0m                 raise UnpicklingError(\n\u001b[0;32m--> 262\u001b[0;31m                     \"pickle exhausted before end of frame\")\n\u001b[0m\u001b[1;32m    263\u001b[0m             \u001b[0;32mreturn\u001b[0m \u001b[0mdata\u001b[0m\u001b[0;34m\u001b[0m\u001b[0;34m\u001b[0m\u001b[0m\n\u001b[1;32m    264\u001b[0m         \u001b[0;32melse\u001b[0m\u001b[0;34m:\u001b[0m\u001b[0;34m\u001b[0m\u001b[0;34m\u001b[0m\u001b[0m\n",
      "\u001b[0;31mUnpicklingError\u001b[0m: pickle exhausted before end of frame"
     ]
    }
   ],
   "source": [
    "for i_f, f in enumerate(files_new):\n",
    "    print('File '+str(i_f)+' out of '+str(len(files_new)))\n",
    "    print(f)\n",
    "    file_status = ds.process_NoiseLabSlice_file(f,root_dir_noiselab=root_dir_noiselab,\n",
    "                                                       root_dir_tdms=root_dir_tdms,\n",
    "                                                       dataset_file=dataset_file)\n",
    "    \n",
    "    if file_status == 1:\n",
    "        files.append(f)\n",
    "        \n",
    "    pickle.dump( files, open( list_filename, \"wb\" ) )"
   ]
  },
  {
   "cell_type": "markdown",
   "metadata": {},
   "source": [
    "### FFT Spectrum"
   ]
  },
  {
   "cell_type": "code",
   "execution_count": 60,
   "metadata": {},
   "outputs": [
    {
     "name": "stdout",
     "output_type": "stream",
     "text": [
      "[]\n"
     ]
    }
   ],
   "source": [
    "files = pickle.load( open( list_filename_fft, \"rb\" ) )\n",
    "print(files)"
   ]
  },
  {
   "cell_type": "code",
   "execution_count": 61,
   "metadata": {},
   "outputs": [
    {
     "name": "stdout",
     "output_type": "stream",
     "text": [
      "File 0 out of 13\n",
      "noiseLAB_20201201_095608_FFT.xls\n"
     ]
    },
    {
     "name": "stderr",
     "output_type": "stream",
     "text": [
      "/Users/esimley/opt/anaconda3/lib/python3.7/site-packages/IPython/core/interactiveshell.py:3326: DtypeWarning: Columns (1) have mixed types. Specify dtype option on import or set low_memory=False.\n",
      "  exec(code_obj, self.user_global_ns, self.user_ns)\n"
     ]
    },
    {
     "name": "stdout",
     "output_type": "stream",
     "text": [
      "File 1 out of 13\n",
      "noiseLAB_20201201_102609_FFT.xls\n"
     ]
    },
    {
     "name": "stderr",
     "output_type": "stream",
     "text": [
      "/Users/esimley/opt/anaconda3/lib/python3.7/site-packages/IPython/core/interactiveshell.py:3326: DtypeWarning: Columns (1) have mixed types. Specify dtype option on import or set low_memory=False.\n",
      "  exec(code_obj, self.user_global_ns, self.user_ns)\n"
     ]
    },
    {
     "name": "stdout",
     "output_type": "stream",
     "text": [
      "File 2 out of 13\n",
      "noiseLAB_20201201_105609_FFT.xls\n"
     ]
    },
    {
     "name": "stderr",
     "output_type": "stream",
     "text": [
      "/Users/esimley/opt/anaconda3/lib/python3.7/site-packages/IPython/core/interactiveshell.py:3326: DtypeWarning: Columns (1) have mixed types. Specify dtype option on import or set low_memory=False.\n",
      "  exec(code_obj, self.user_global_ns, self.user_ns)\n"
     ]
    },
    {
     "name": "stdout",
     "output_type": "stream",
     "text": [
      "File 3 out of 13\n",
      "noiseLAB_20201201_112609_FFT.xls\n"
     ]
    },
    {
     "name": "stderr",
     "output_type": "stream",
     "text": [
      "/Users/esimley/opt/anaconda3/lib/python3.7/site-packages/IPython/core/interactiveshell.py:3326: DtypeWarning: Columns (1) have mixed types. Specify dtype option on import or set low_memory=False.\n",
      "  exec(code_obj, self.user_global_ns, self.user_ns)\n"
     ]
    },
    {
     "name": "stdout",
     "output_type": "stream",
     "text": [
      "File 4 out of 13\n",
      "noiseLAB_20201201_115609_FFT.xls\n",
      "File 5 out of 13\n",
      "noiseLAB_20201201_123745_FFT.xls\n"
     ]
    },
    {
     "name": "stderr",
     "output_type": "stream",
     "text": [
      "/Users/esimley/opt/anaconda3/lib/python3.7/site-packages/IPython/core/interactiveshell.py:3326: DtypeWarning: Columns (1) have mixed types. Specify dtype option on import or set low_memory=False.\n",
      "  exec(code_obj, self.user_global_ns, self.user_ns)\n"
     ]
    },
    {
     "name": "stdout",
     "output_type": "stream",
     "text": [
      "File 6 out of 13\n",
      "noiseLAB_20201201_130746_FFT.xls\n"
     ]
    },
    {
     "name": "stderr",
     "output_type": "stream",
     "text": [
      "/Users/esimley/opt/anaconda3/lib/python3.7/site-packages/IPython/core/interactiveshell.py:3326: DtypeWarning: Columns (1) have mixed types. Specify dtype option on import or set low_memory=False.\n",
      "  exec(code_obj, self.user_global_ns, self.user_ns)\n"
     ]
    },
    {
     "name": "stdout",
     "output_type": "stream",
     "text": [
      "File 7 out of 13\n",
      "noiseLAB_20201201_133746_FFT.xls\n"
     ]
    },
    {
     "name": "stderr",
     "output_type": "stream",
     "text": [
      "/Users/esimley/opt/anaconda3/lib/python3.7/site-packages/IPython/core/interactiveshell.py:3326: DtypeWarning: Columns (1) have mixed types. Specify dtype option on import or set low_memory=False.\n",
      "  exec(code_obj, self.user_global_ns, self.user_ns)\n"
     ]
    },
    {
     "name": "stdout",
     "output_type": "stream",
     "text": [
      "File 8 out of 13\n",
      "noiseLAB_20201201_140746_FFT.xls\n",
      "File 9 out of 13\n",
      "noiseLAB_20201222_120243_FFT.xls\n"
     ]
    },
    {
     "name": "stderr",
     "output_type": "stream",
     "text": [
      "/Users/esimley/opt/anaconda3/lib/python3.7/site-packages/IPython/core/interactiveshell.py:3326: DtypeWarning: Columns (1) have mixed types. Specify dtype option on import or set low_memory=False.\n",
      "  exec(code_obj, self.user_global_ns, self.user_ns)\n",
      "/Users/esimley/Documents/Code/floris/floris/utilities.py:181: RuntimeWarning: invalid value encountered in greater\n",
      "  x = np.where(x > 180.0, x - 360.0, x)\n",
      "/Users/esimley/opt/anaconda3/lib/python3.7/site-packages/pandas/core/frame.py:6692: FutureWarning: Sorting because non-concatenation axis is not aligned. A future version\n",
      "of pandas will change to not sort by default.\n",
      "\n",
      "To accept the future behavior, pass 'sort=False'.\n",
      "\n",
      "To retain the current behavior and silence the warning, pass 'sort=True'.\n",
      "\n",
      "  sort=sort)\n"
     ]
    },
    {
     "name": "stdout",
     "output_type": "stream",
     "text": [
      "File 10 out of 13\n",
      "noiseLAB_20201222_123243_FFT.xls\n"
     ]
    },
    {
     "name": "stderr",
     "output_type": "stream",
     "text": [
      "/Users/esimley/opt/anaconda3/lib/python3.7/site-packages/IPython/core/interactiveshell.py:3326: DtypeWarning: Columns (1) have mixed types. Specify dtype option on import or set low_memory=False.\n",
      "  exec(code_obj, self.user_global_ns, self.user_ns)\n",
      "/Users/esimley/Documents/Code/floris/floris/utilities.py:181: RuntimeWarning: invalid value encountered in greater\n",
      "  x = np.where(x > 180.0, x - 360.0, x)\n",
      "/Users/esimley/opt/anaconda3/lib/python3.7/site-packages/pandas/core/frame.py:6692: FutureWarning: Sorting because non-concatenation axis is not aligned. A future version\n",
      "of pandas will change to not sort by default.\n",
      "\n",
      "To accept the future behavior, pass 'sort=False'.\n",
      "\n",
      "To retain the current behavior and silence the warning, pass 'sort=True'.\n",
      "\n",
      "  sort=sort)\n"
     ]
    },
    {
     "name": "stdout",
     "output_type": "stream",
     "text": [
      "File 11 out of 13\n",
      "noiseLAB_20201222_130244_FFT.xls\n"
     ]
    },
    {
     "name": "stderr",
     "output_type": "stream",
     "text": [
      "/Users/esimley/opt/anaconda3/lib/python3.7/site-packages/IPython/core/interactiveshell.py:3326: DtypeWarning: Columns (1) have mixed types. Specify dtype option on import or set low_memory=False.\n",
      "  exec(code_obj, self.user_global_ns, self.user_ns)\n",
      "/Users/esimley/Documents/Code/floris/floris/utilities.py:196: RuntimeWarning: invalid value encountered in greater_equal\n",
      "  x = np.where(x >= 360.0, x - 360.0, x)\n",
      "/Users/esimley/Documents/Code/floris/floris/utilities.py:181: RuntimeWarning: invalid value encountered in greater\n",
      "  x = np.where(x > 180.0, x - 360.0, x)\n",
      "/Users/esimley/opt/anaconda3/lib/python3.7/site-packages/pandas/core/frame.py:6692: FutureWarning: Sorting because non-concatenation axis is not aligned. A future version\n",
      "of pandas will change to not sort by default.\n",
      "\n",
      "To accept the future behavior, pass 'sort=False'.\n",
      "\n",
      "To retain the current behavior and silence the warning, pass 'sort=True'.\n",
      "\n",
      "  sort=sort)\n"
     ]
    },
    {
     "name": "stdout",
     "output_type": "stream",
     "text": [
      "File 12 out of 13\n",
      "noiseLAB_20201222_133244_FFT.xls\n"
     ]
    },
    {
     "name": "stderr",
     "output_type": "stream",
     "text": [
      "/Users/esimley/opt/anaconda3/lib/python3.7/site-packages/IPython/core/interactiveshell.py:3326: DtypeWarning: Columns (1) have mixed types. Specify dtype option on import or set low_memory=False.\n",
      "  exec(code_obj, self.user_global_ns, self.user_ns)\n",
      "/Users/esimley/Documents/Code/floris/floris/utilities.py:196: RuntimeWarning: invalid value encountered in greater_equal\n",
      "  x = np.where(x >= 360.0, x - 360.0, x)\n",
      "/Users/esimley/Documents/Code/floris/floris/utilities.py:181: RuntimeWarning: invalid value encountered in greater\n",
      "  x = np.where(x > 180.0, x - 360.0, x)\n",
      "/Users/esimley/opt/anaconda3/lib/python3.7/site-packages/pandas/core/frame.py:6692: FutureWarning: Sorting because non-concatenation axis is not aligned. A future version\n",
      "of pandas will change to not sort by default.\n",
      "\n",
      "To accept the future behavior, pass 'sort=False'.\n",
      "\n",
      "To retain the current behavior and silence the warning, pass 'sort=True'.\n",
      "\n",
      "  sort=sort)\n"
     ]
    }
   ],
   "source": [
    "for i_f, f in enumerate(files_new_fft):\n",
    "    print('File '+str(i_f)+' out of '+str(len(files_new_fft)))\n",
    "    print(f)\n",
    "    file_status = ds.process_NoiseLabSlice_file(f,root_dir_noiselab=root_dir_noiselab,\n",
    "                                                       root_dir_tdms=root_dir_tdms,\n",
    "                                                       dataset_file=dataset_file_fft,\n",
    "                                                       third_octave=False)\n",
    "    \n",
    "    if file_status == 1:\n",
    "        files.append(f)\n",
    "        \n",
    "    pickle.dump( files, open( list_filename_fft, \"wb\" ) )"
   ]
  },
  {
   "cell_type": "code",
   "execution_count": 109,
   "metadata": {},
   "outputs": [],
   "source": [
    "df = pd.read_pickle(dataset_file)"
   ]
  },
  {
   "cell_type": "code",
   "execution_count": 110,
   "metadata": {},
   "outputs": [
    {
     "data": {
      "text/html": [
       "<div>\n",
       "<style scoped>\n",
       "    .dataframe tbody tr th:only-of-type {\n",
       "        vertical-align: middle;\n",
       "    }\n",
       "\n",
       "    .dataframe tbody tr th {\n",
       "        vertical-align: top;\n",
       "    }\n",
       "\n",
       "    .dataframe thead th {\n",
       "        text-align: right;\n",
       "    }\n",
       "</style>\n",
       "<table border=\"1\" class=\"dataframe\">\n",
       "  <thead>\n",
       "    <tr style=\"text-align: right;\">\n",
       "      <th></th>\n",
       "      <th>01N_Leq</th>\n",
       "      <th>01N_third_octave_spectrum</th>\n",
       "      <th>02N_Leq</th>\n",
       "      <th>02N_third_octave_spectrum</th>\n",
       "      <th>03N_Leq</th>\n",
       "      <th>03N_third_octave_spectrum</th>\n",
       "      <th>04C_Leq</th>\n",
       "      <th>04C_third_octave_spectrum</th>\n",
       "      <th>05C_Leq</th>\n",
       "      <th>05C_third_octave_spectrum</th>\n",
       "      <th>...</th>\n",
       "      <th>WD_Nacelle</th>\n",
       "      <th>WD_Nacelle_Mod</th>\n",
       "      <th>WindSpeed_80m</th>\n",
       "      <th>Wind_Direction_38m</th>\n",
       "      <th>Windspeed_38m</th>\n",
       "      <th>Windspeed_55m</th>\n",
       "      <th>Windspeed_87m</th>\n",
       "      <th>Windspeed_AeroA_10m</th>\n",
       "      <th>Yaw_Encoder</th>\n",
       "      <th>Yaw_Offset_Cmd</th>\n",
       "    </tr>\n",
       "    <tr>\n",
       "      <th>time</th>\n",
       "      <th></th>\n",
       "      <th></th>\n",
       "      <th></th>\n",
       "      <th></th>\n",
       "      <th></th>\n",
       "      <th></th>\n",
       "      <th></th>\n",
       "      <th></th>\n",
       "      <th></th>\n",
       "      <th></th>\n",
       "      <th></th>\n",
       "      <th></th>\n",
       "      <th></th>\n",
       "      <th></th>\n",
       "      <th></th>\n",
       "      <th></th>\n",
       "      <th></th>\n",
       "      <th></th>\n",
       "      <th></th>\n",
       "      <th></th>\n",
       "      <th></th>\n",
       "    </tr>\n",
       "  </thead>\n",
       "  <tbody>\n",
       "    <tr>\n",
       "      <th>2020-12-01 09:56:18</th>\n",
       "      <td>49.43</td>\n",
       "      <td>[3.35, 10.85, 24.63, 15.73, 16.17, 23.96, 25.1...</td>\n",
       "      <td>45.89</td>\n",
       "      <td>[-0.93, 4.36, 14.89, 14.96, 13.96, 21.06, 21.5...</td>\n",
       "      <td>48.24</td>\n",
       "      <td>[1.66, 6.58, 18.71, 14.06, 15.81, 22.87, 23.93...</td>\n",
       "      <td>50.77</td>\n",
       "      <td>[5.25, 9.25, 16.7, 15.16, 16.73, 24.81, 25.35,...</td>\n",
       "      <td>46.39</td>\n",
       "      <td>[1.61, 5.67, 12.34, 11.85, 13.86, 21.04, 22.73...</td>\n",
       "      <td>...</td>\n",
       "      <td>9.220574</td>\n",
       "      <td>9.243865</td>\n",
       "      <td>9.340056</td>\n",
       "      <td>289.334176</td>\n",
       "      <td>7.964139</td>\n",
       "      <td>8.266130</td>\n",
       "      <td>10.113497</td>\n",
       "      <td>7.455780</td>\n",
       "      <td>277.996314</td>\n",
       "      <td>0.023291</td>\n",
       "    </tr>\n",
       "    <tr>\n",
       "      <th>2020-12-01 09:56:28</th>\n",
       "      <td>49.00</td>\n",
       "      <td>[2.29, 9.93, 22.62, 14.67, 17.28, 23.35, 23.17...</td>\n",
       "      <td>45.28</td>\n",
       "      <td>[-1.21, 5.05, 13.57, 15.11, 15.03, 20.5, 21.98...</td>\n",
       "      <td>47.96</td>\n",
       "      <td>[3.13, 7.92, 18.27, 13.66, 17.17, 22.64, 24.51...</td>\n",
       "      <td>50.26</td>\n",
       "      <td>[8.5, 10.69, 16.2, 15.14, 18.4, 23.49, 25.56, ...</td>\n",
       "      <td>45.70</td>\n",
       "      <td>[1.33, 4.63, 11.19, 11.48, 14.96, 19.88, 21.14...</td>\n",
       "      <td>...</td>\n",
       "      <td>1.166217</td>\n",
       "      <td>1.140544</td>\n",
       "      <td>10.800011</td>\n",
       "      <td>283.711751</td>\n",
       "      <td>8.007071</td>\n",
       "      <td>9.171196</td>\n",
       "      <td>10.840616</td>\n",
       "      <td>7.882140</td>\n",
       "      <td>277.996314</td>\n",
       "      <td>-0.025674</td>\n",
       "    </tr>\n",
       "    <tr>\n",
       "      <th>2020-12-01 09:56:38</th>\n",
       "      <td>48.01</td>\n",
       "      <td>[2.02, 12.18, 15.71, 14.84, 18.95, 21.32, 22.9...</td>\n",
       "      <td>44.66</td>\n",
       "      <td>[-1.17, 4.74, 9.62, 14.79, 16.48, 19.47, 22.93...</td>\n",
       "      <td>46.97</td>\n",
       "      <td>[1.02, 8.94, 12.37, 13.41, 18.21, 21.59, 23.73...</td>\n",
       "      <td>49.48</td>\n",
       "      <td>[7.26, 12.54, 14.7, 14.21, 19.32, 22.72, 24.92...</td>\n",
       "      <td>45.62</td>\n",
       "      <td>[0.92, 9.0, 11.85, 11.37, 17.2, 18.36, 21.49, ...</td>\n",
       "      <td>...</td>\n",
       "      <td>-4.678317</td>\n",
       "      <td>-4.684401</td>\n",
       "      <td>10.339222</td>\n",
       "      <td>277.398269</td>\n",
       "      <td>8.292574</td>\n",
       "      <td>9.597357</td>\n",
       "      <td>10.417317</td>\n",
       "      <td>7.334151</td>\n",
       "      <td>278.000022</td>\n",
       "      <td>-0.006084</td>\n",
       "    </tr>\n",
       "    <tr>\n",
       "      <th>2020-12-01 09:56:48</th>\n",
       "      <td>48.00</td>\n",
       "      <td>[1.56, 14.51, 14.6, 13.55, 19.45, 20.52, 22.77...</td>\n",
       "      <td>44.68</td>\n",
       "      <td>[-0.51, 5.34, 9.35, 14.46, 18.17, 18.75, 21.42...</td>\n",
       "      <td>46.92</td>\n",
       "      <td>[4.68, 11.31, 12.84, 14.59, 19.29, 20.4, 22.91...</td>\n",
       "      <td>49.17</td>\n",
       "      <td>[4.31, 12.03, 13.19, 12.5, 17.86, 20.84, 24.35...</td>\n",
       "      <td>45.13</td>\n",
       "      <td>[0.49, 10.56, 10.6, 10.69, 16.89, 18.47, 21.16...</td>\n",
       "      <td>...</td>\n",
       "      <td>2.009028</td>\n",
       "      <td>1.968307</td>\n",
       "      <td>9.712649</td>\n",
       "      <td>280.052061</td>\n",
       "      <td>7.896861</td>\n",
       "      <td>8.619720</td>\n",
       "      <td>9.764527</td>\n",
       "      <td>7.403276</td>\n",
       "      <td>278.000434</td>\n",
       "      <td>-0.040721</td>\n",
       "    </tr>\n",
       "    <tr>\n",
       "      <th>2020-12-01 09:56:58</th>\n",
       "      <td>48.34</td>\n",
       "      <td>[1.86, 14.07, 17.23, 15.58, 20.06, 22.21, 27.6...</td>\n",
       "      <td>45.41</td>\n",
       "      <td>[2.7, 7.1, 10.72, 16.88, 20.93, 22.53, 29.48, ...</td>\n",
       "      <td>47.21</td>\n",
       "      <td>[1.96, 9.72, 11.46, 13.84, 19.65, 21.38, 25.75...</td>\n",
       "      <td>49.33</td>\n",
       "      <td>[3.29, 14.35, 15.21, 14.4, 18.82, 22.04, 25.53...</td>\n",
       "      <td>45.21</td>\n",
       "      <td>[0.34, 9.55, 11.12, 11.7, 17.17, 18.69, 22.34,...</td>\n",
       "      <td>...</td>\n",
       "      <td>1.387141</td>\n",
       "      <td>1.355441</td>\n",
       "      <td>9.412899</td>\n",
       "      <td>278.120549</td>\n",
       "      <td>8.013843</td>\n",
       "      <td>8.271126</td>\n",
       "      <td>9.684651</td>\n",
       "      <td>6.385222</td>\n",
       "      <td>278.000434</td>\n",
       "      <td>-0.031700</td>\n",
       "    </tr>\n",
       "  </tbody>\n",
       "</table>\n",
       "<p>5 rows × 88 columns</p>\n",
       "</div>"
      ],
      "text/plain": [
       "                     01N_Leq  \\\n",
       "time                           \n",
       "2020-12-01 09:56:18    49.43   \n",
       "2020-12-01 09:56:28    49.00   \n",
       "2020-12-01 09:56:38    48.01   \n",
       "2020-12-01 09:56:48    48.00   \n",
       "2020-12-01 09:56:58    48.34   \n",
       "\n",
       "                                             01N_third_octave_spectrum  \\\n",
       "time                                                                     \n",
       "2020-12-01 09:56:18  [3.35, 10.85, 24.63, 15.73, 16.17, 23.96, 25.1...   \n",
       "2020-12-01 09:56:28  [2.29, 9.93, 22.62, 14.67, 17.28, 23.35, 23.17...   \n",
       "2020-12-01 09:56:38  [2.02, 12.18, 15.71, 14.84, 18.95, 21.32, 22.9...   \n",
       "2020-12-01 09:56:48  [1.56, 14.51, 14.6, 13.55, 19.45, 20.52, 22.77...   \n",
       "2020-12-01 09:56:58  [1.86, 14.07, 17.23, 15.58, 20.06, 22.21, 27.6...   \n",
       "\n",
       "                     02N_Leq  \\\n",
       "time                           \n",
       "2020-12-01 09:56:18    45.89   \n",
       "2020-12-01 09:56:28    45.28   \n",
       "2020-12-01 09:56:38    44.66   \n",
       "2020-12-01 09:56:48    44.68   \n",
       "2020-12-01 09:56:58    45.41   \n",
       "\n",
       "                                             02N_third_octave_spectrum  \\\n",
       "time                                                                     \n",
       "2020-12-01 09:56:18  [-0.93, 4.36, 14.89, 14.96, 13.96, 21.06, 21.5...   \n",
       "2020-12-01 09:56:28  [-1.21, 5.05, 13.57, 15.11, 15.03, 20.5, 21.98...   \n",
       "2020-12-01 09:56:38  [-1.17, 4.74, 9.62, 14.79, 16.48, 19.47, 22.93...   \n",
       "2020-12-01 09:56:48  [-0.51, 5.34, 9.35, 14.46, 18.17, 18.75, 21.42...   \n",
       "2020-12-01 09:56:58  [2.7, 7.1, 10.72, 16.88, 20.93, 22.53, 29.48, ...   \n",
       "\n",
       "                     03N_Leq  \\\n",
       "time                           \n",
       "2020-12-01 09:56:18    48.24   \n",
       "2020-12-01 09:56:28    47.96   \n",
       "2020-12-01 09:56:38    46.97   \n",
       "2020-12-01 09:56:48    46.92   \n",
       "2020-12-01 09:56:58    47.21   \n",
       "\n",
       "                                             03N_third_octave_spectrum  \\\n",
       "time                                                                     \n",
       "2020-12-01 09:56:18  [1.66, 6.58, 18.71, 14.06, 15.81, 22.87, 23.93...   \n",
       "2020-12-01 09:56:28  [3.13, 7.92, 18.27, 13.66, 17.17, 22.64, 24.51...   \n",
       "2020-12-01 09:56:38  [1.02, 8.94, 12.37, 13.41, 18.21, 21.59, 23.73...   \n",
       "2020-12-01 09:56:48  [4.68, 11.31, 12.84, 14.59, 19.29, 20.4, 22.91...   \n",
       "2020-12-01 09:56:58  [1.96, 9.72, 11.46, 13.84, 19.65, 21.38, 25.75...   \n",
       "\n",
       "                     04C_Leq  \\\n",
       "time                           \n",
       "2020-12-01 09:56:18    50.77   \n",
       "2020-12-01 09:56:28    50.26   \n",
       "2020-12-01 09:56:38    49.48   \n",
       "2020-12-01 09:56:48    49.17   \n",
       "2020-12-01 09:56:58    49.33   \n",
       "\n",
       "                                             04C_third_octave_spectrum  \\\n",
       "time                                                                     \n",
       "2020-12-01 09:56:18  [5.25, 9.25, 16.7, 15.16, 16.73, 24.81, 25.35,...   \n",
       "2020-12-01 09:56:28  [8.5, 10.69, 16.2, 15.14, 18.4, 23.49, 25.56, ...   \n",
       "2020-12-01 09:56:38  [7.26, 12.54, 14.7, 14.21, 19.32, 22.72, 24.92...   \n",
       "2020-12-01 09:56:48  [4.31, 12.03, 13.19, 12.5, 17.86, 20.84, 24.35...   \n",
       "2020-12-01 09:56:58  [3.29, 14.35, 15.21, 14.4, 18.82, 22.04, 25.53...   \n",
       "\n",
       "                     05C_Leq  \\\n",
       "time                           \n",
       "2020-12-01 09:56:18    46.39   \n",
       "2020-12-01 09:56:28    45.70   \n",
       "2020-12-01 09:56:38    45.62   \n",
       "2020-12-01 09:56:48    45.13   \n",
       "2020-12-01 09:56:58    45.21   \n",
       "\n",
       "                                             05C_third_octave_spectrum  ...  \\\n",
       "time                                                                    ...   \n",
       "2020-12-01 09:56:18  [1.61, 5.67, 12.34, 11.85, 13.86, 21.04, 22.73...  ...   \n",
       "2020-12-01 09:56:28  [1.33, 4.63, 11.19, 11.48, 14.96, 19.88, 21.14...  ...   \n",
       "2020-12-01 09:56:38  [0.92, 9.0, 11.85, 11.37, 17.2, 18.36, 21.49, ...  ...   \n",
       "2020-12-01 09:56:48  [0.49, 10.56, 10.6, 10.69, 16.89, 18.47, 21.16...  ...   \n",
       "2020-12-01 09:56:58  [0.34, 9.55, 11.12, 11.7, 17.17, 18.69, 22.34,...  ...   \n",
       "\n",
       "                     WD_Nacelle WD_Nacelle_Mod  WindSpeed_80m  \\\n",
       "time                                                            \n",
       "2020-12-01 09:56:18    9.220574       9.243865       9.340056   \n",
       "2020-12-01 09:56:28    1.166217       1.140544      10.800011   \n",
       "2020-12-01 09:56:38   -4.678317      -4.684401      10.339222   \n",
       "2020-12-01 09:56:48    2.009028       1.968307       9.712649   \n",
       "2020-12-01 09:56:58    1.387141       1.355441       9.412899   \n",
       "\n",
       "                    Wind_Direction_38m  Windspeed_38m Windspeed_55m  \\\n",
       "time                                                                  \n",
       "2020-12-01 09:56:18         289.334176       7.964139      8.266130   \n",
       "2020-12-01 09:56:28         283.711751       8.007071      9.171196   \n",
       "2020-12-01 09:56:38         277.398269       8.292574      9.597357   \n",
       "2020-12-01 09:56:48         280.052061       7.896861      8.619720   \n",
       "2020-12-01 09:56:58         278.120549       8.013843      8.271126   \n",
       "\n",
       "                     Windspeed_87m Windspeed_AeroA_10m  Yaw_Encoder  \\\n",
       "time                                                                  \n",
       "2020-12-01 09:56:18      10.113497            7.455780   277.996314   \n",
       "2020-12-01 09:56:28      10.840616            7.882140   277.996314   \n",
       "2020-12-01 09:56:38      10.417317            7.334151   278.000022   \n",
       "2020-12-01 09:56:48       9.764527            7.403276   278.000434   \n",
       "2020-12-01 09:56:58       9.684651            6.385222   278.000434   \n",
       "\n",
       "                    Yaw_Offset_Cmd  \n",
       "time                                \n",
       "2020-12-01 09:56:18       0.023291  \n",
       "2020-12-01 09:56:28      -0.025674  \n",
       "2020-12-01 09:56:38      -0.006084  \n",
       "2020-12-01 09:56:48      -0.040721  \n",
       "2020-12-01 09:56:58      -0.031700  \n",
       "\n",
       "[5 rows x 88 columns]"
      ]
     },
     "execution_count": 110,
     "metadata": {},
     "output_type": "execute_result"
    }
   ],
   "source": [
    "df.head()"
   ]
  },
  {
   "cell_type": "code",
   "execution_count": 111,
   "metadata": {},
   "outputs": [
    {
     "data": {
      "text/plain": [
       "Index(['01N_Leq', '01N_third_octave_spectrum', '02N_Leq',\n",
       "       '02N_third_octave_spectrum', '03N_Leq', '03N_third_octave_spectrum',\n",
       "       '04C_Leq', '04C_third_octave_spectrum', '05C_Leq',\n",
       "       '05C_third_octave_spectrum', '06S_Leq', '06S_third_octave_spectrum',\n",
       "       '07S_Leq', '07S_third_octave_spectrum', '08S_Leq',\n",
       "       '08S_third_octave_spectrum', '11N_Leq', '11N_third_octave_spectrum',\n",
       "       '12C_Leq', '12C_third_octave_spectrum', '13S_Leq',\n",
       "       '13S_third_octave_spectrum', 'Active Power', 'Air_Press_1',\n",
       "       'Air_Press_2', 'Azimuth', 'AzimuthAO', 'Blade_1_Edge', 'Blade_1_Flap',\n",
       "       'Blade_2_Edge', 'Blade_2_Flap', 'Blade_3_Edge', 'Blade_3_Flap',\n",
       "       'EGD_AI_CuTorqueAct', 'EGD_AI_In_GridMonRealPowerAct',\n",
       "       'EGD_AI_In_PitchAngleCurrent1', 'EGD_AI_In_PitchAngleCurrent2',\n",
       "       'EGD_AI_In_PitchAngleCurrent3', 'EGD_DI_In_TBDiscBrakeClosed',\n",
       "       'EGD_In_RotorSpd', 'EGD_In_WindSpd', 'EGD_OpCtl_TurbineFullState',\n",
       "       'EGD_OpCtl_TurbineOperationState', 'EGD_OpCtl_TurbineStatus',\n",
       "       'EGD_Out_CalcTrbineStateSCADA', 'EGD_Out_TurbineStatusSCADA',\n",
       "       'EGD_W_In_WtgBrake', 'EGD_Yaw_PositionToNorth', 'HSS RPM', 'Hum1',\n",
       "       'Hum2', 'LSS RPM', 'LabVIEW Timestamp', 'Late Scans',\n",
       "       'MS Excel Timestamp', 'Mainshaft_Downwind_Bend_0',\n",
       "       'Mainshaft_Downwind_Bend_90', 'Mainshaft_Downwind_Torque',\n",
       "       'NacelleWindSpeed', 'Pitch_Blade1', 'Pitch_Blade2', 'Power Factor',\n",
       "       'Precipitation', 'Reactive Power', 'SCADA_nacelleWS', 'Scan Errors',\n",
       "       'Temp1', 'Temp2', 'Tower Base Bend 1', 'Tower Base Bend 2',\n",
       "       'Tower Base Torque', 'TowerTopBending_0', 'TowerTopBending_90',\n",
       "       'TowerTopDCAccel_EW', 'TowerTopDCAccel_NS', 'TowerTopTorque', 'WD1_87m',\n",
       "       'WD_Mod_Active', 'WD_Nacelle', 'WD_Nacelle_Mod', 'WindSpeed_80m',\n",
       "       'Wind_Direction_38m', 'Windspeed_38m', 'Windspeed_55m', 'Windspeed_87m',\n",
       "       'Windspeed_AeroA_10m', 'Yaw_Encoder', 'Yaw_Offset_Cmd'],\n",
       "      dtype='object')"
      ]
     },
     "execution_count": 111,
     "metadata": {},
     "output_type": "execute_result"
    }
   ],
   "source": [
    "df.columns\n"
   ]
  },
  {
   "cell_type": "code",
   "execution_count": 115,
   "metadata": {},
   "outputs": [
    {
     "data": {
      "text/plain": [
       "[<matplotlib.lines.Line2D at 0x7f955873a7d0>]"
      ]
     },
     "execution_count": 115,
     "metadata": {},
     "output_type": "execute_result"
    }
   ],
   "source": [
    "plt.figure()\n",
    "# plt.plot(df['Active Power'])\n",
    "# plt.plot(df['WindSpeed_80m'])\n",
    "# plt.plot(df['Active Power'].values)\n",
    "# plt.plot(df['EGD_OpCtl_TurbineFullState'].values)\n",
    "# plt.plot(df['EGD_OpCtl_TurbineOperationState'].values)\n",
    "# plt.plot(df['EGD_OpCtl_TurbineStatus'].values)\n",
    "# plt.plot(df['EGD_Out_CalcTrbineStateSCADA'].values)\n",
    "# plt.plot(df['EGD_Out_TurbineStatusSCADA'].values)\n",
    "# plt.plot(df['EGD_Yaw_PositionToNorth'],'r')\n",
    "# plt.plot(df['Yaw_Encoder'])\n",
    "# plt.plot(df['WD1_87m'])\n",
    "# plt.plot(df['Wind_Direction_38m'])\n",
    "# plt.scatter(df['WindSpeed_80m'],df['01N_Leq'])\n",
    "plt.plot(df['Active Power'])\n",
    "plt.plot(df['Yaw_Offset_Cmd'])"
   ]
  },
  {
   "cell_type": "code",
   "execution_count": 17,
   "metadata": {},
   "outputs": [
    {
     "name": "stdout",
     "output_type": "stream",
     "text": [
      "Using matplotlib backend: MacOSX\n"
     ]
    }
   ],
   "source": []
  },
  {
   "cell_type": "code",
   "execution_count": 52,
   "metadata": {},
   "outputs": [
    {
     "data": {
      "text/plain": [
       "[<matplotlib.lines.Line2D at 0x7f95afd87050>]"
      ]
     },
     "execution_count": 52,
     "metadata": {},
     "output_type": "execute_result"
    }
   ],
   "source": [
    "plt.figure()\n",
    "plt.plot(df['01N_Leq'])"
   ]
  },
  {
   "cell_type": "code",
   "execution_count": 62,
   "metadata": {},
   "outputs": [],
   "source": [
    "df_fft = pd.read_pickle(dataset_file_fft)"
   ]
  },
  {
   "cell_type": "code",
   "execution_count": 63,
   "metadata": {},
   "outputs": [
    {
     "data": {
      "text/html": [
       "<div>\n",
       "<style scoped>\n",
       "    .dataframe tbody tr th:only-of-type {\n",
       "        vertical-align: middle;\n",
       "    }\n",
       "\n",
       "    .dataframe tbody tr th {\n",
       "        vertical-align: top;\n",
       "    }\n",
       "\n",
       "    .dataframe thead th {\n",
       "        text-align: right;\n",
       "    }\n",
       "</style>\n",
       "<table border=\"1\" class=\"dataframe\">\n",
       "  <thead>\n",
       "    <tr style=\"text-align: right;\">\n",
       "      <th></th>\n",
       "      <th>01N_df</th>\n",
       "      <th>01N_f0</th>\n",
       "      <th>01N_spectrum</th>\n",
       "      <th>02N_df</th>\n",
       "      <th>02N_f0</th>\n",
       "      <th>02N_spectrum</th>\n",
       "      <th>03N_df</th>\n",
       "      <th>03N_f0</th>\n",
       "      <th>03N_spectrum</th>\n",
       "      <th>04C_df</th>\n",
       "      <th>...</th>\n",
       "      <th>WD_Nacelle</th>\n",
       "      <th>WD_Nacelle_Mod</th>\n",
       "      <th>WindSpeed_80m</th>\n",
       "      <th>Wind_Direction_38m</th>\n",
       "      <th>Windspeed_38m</th>\n",
       "      <th>Windspeed_55m</th>\n",
       "      <th>Windspeed_87m</th>\n",
       "      <th>Windspeed_AeroA_10m</th>\n",
       "      <th>Yaw_Encoder</th>\n",
       "      <th>Yaw_Offset_Cmd</th>\n",
       "    </tr>\n",
       "    <tr>\n",
       "      <th>time</th>\n",
       "      <th></th>\n",
       "      <th></th>\n",
       "      <th></th>\n",
       "      <th></th>\n",
       "      <th></th>\n",
       "      <th></th>\n",
       "      <th></th>\n",
       "      <th></th>\n",
       "      <th></th>\n",
       "      <th></th>\n",
       "      <th></th>\n",
       "      <th></th>\n",
       "      <th></th>\n",
       "      <th></th>\n",
       "      <th></th>\n",
       "      <th></th>\n",
       "      <th></th>\n",
       "      <th></th>\n",
       "      <th></th>\n",
       "      <th></th>\n",
       "      <th></th>\n",
       "    </tr>\n",
       "  </thead>\n",
       "  <tbody>\n",
       "    <tr>\n",
       "      <th>2020-12-01 09:56:08</th>\n",
       "      <td>2.999941</td>\n",
       "      <td>0.0</td>\n",
       "      <td>[-38.82, -24.57, -15.76, -9.57, -8.0, -6.97, -...</td>\n",
       "      <td>2.999941</td>\n",
       "      <td>0.0</td>\n",
       "      <td>[-46.98, -31.64, -22.84, -18.44, -11.85, -8.38...</td>\n",
       "      <td>2.999941</td>\n",
       "      <td>0.0</td>\n",
       "      <td>[-41.62, -26.87, -17.2, -11.03, -7.01, -4.1, -...</td>\n",
       "      <td>2.999941</td>\n",
       "      <td>...</td>\n",
       "      <td>8.314922</td>\n",
       "      <td>8.329244</td>\n",
       "      <td>8.258775</td>\n",
       "      <td>293.725038</td>\n",
       "      <td>7.815275</td>\n",
       "      <td>8.409337</td>\n",
       "      <td>8.201277</td>\n",
       "      <td>6.821761</td>\n",
       "      <td>277.996314</td>\n",
       "      <td>0.014322</td>\n",
       "    </tr>\n",
       "    <tr>\n",
       "      <th>2020-12-01 09:56:18</th>\n",
       "      <td>2.999941</td>\n",
       "      <td>0.0</td>\n",
       "      <td>[-38.36, -22.46, -12.84, -6.76, -1.75, -1.25, ...</td>\n",
       "      <td>2.999941</td>\n",
       "      <td>0.0</td>\n",
       "      <td>[-41.41, -25.04, -17.1, -13.64, -9.0, -5.67, -...</td>\n",
       "      <td>2.999941</td>\n",
       "      <td>0.0</td>\n",
       "      <td>[-40.65, -27.39, -19.7, -13.2, -9.77, -6.06, -...</td>\n",
       "      <td>2.999941</td>\n",
       "      <td>...</td>\n",
       "      <td>9.220574</td>\n",
       "      <td>9.243865</td>\n",
       "      <td>9.340056</td>\n",
       "      <td>289.335004</td>\n",
       "      <td>7.964139</td>\n",
       "      <td>8.266130</td>\n",
       "      <td>10.113497</td>\n",
       "      <td>7.455780</td>\n",
       "      <td>277.996314</td>\n",
       "      <td>0.023291</td>\n",
       "    </tr>\n",
       "    <tr>\n",
       "      <th>2020-12-01 09:56:28</th>\n",
       "      <td>2.999941</td>\n",
       "      <td>0.0</td>\n",
       "      <td>[-39.1, -23.53, -15.11, -7.97, -3.87, -1.65, 1...</td>\n",
       "      <td>2.999941</td>\n",
       "      <td>0.0</td>\n",
       "      <td>[-45.68, -32.26, -24.36, -18.23, -11.9, -7.39,...</td>\n",
       "      <td>2.999941</td>\n",
       "      <td>0.0</td>\n",
       "      <td>[-40.55, -25.97, -16.23, -7.49, -3.68, -1.9, 1...</td>\n",
       "      <td>2.999941</td>\n",
       "      <td>...</td>\n",
       "      <td>1.166217</td>\n",
       "      <td>1.140544</td>\n",
       "      <td>10.800011</td>\n",
       "      <td>283.711310</td>\n",
       "      <td>8.007071</td>\n",
       "      <td>9.171196</td>\n",
       "      <td>10.840616</td>\n",
       "      <td>7.882140</td>\n",
       "      <td>277.996314</td>\n",
       "      <td>-0.025674</td>\n",
       "    </tr>\n",
       "    <tr>\n",
       "      <th>2020-12-01 09:56:38</th>\n",
       "      <td>2.999941</td>\n",
       "      <td>0.0</td>\n",
       "      <td>[-40.28, -26.9, -17.8, -11.92, -7.58, -4.74, 0...</td>\n",
       "      <td>2.999941</td>\n",
       "      <td>0.0</td>\n",
       "      <td>[-48.6, -36.72, -27.28, -18.8, -11.26, -7.66, ...</td>\n",
       "      <td>2.999941</td>\n",
       "      <td>0.0</td>\n",
       "      <td>[-42.98, -31.08, -20.44, -12.32, -9.07, -5.46,...</td>\n",
       "      <td>2.999941</td>\n",
       "      <td>...</td>\n",
       "      <td>-4.678317</td>\n",
       "      <td>-4.684401</td>\n",
       "      <td>10.339222</td>\n",
       "      <td>277.398717</td>\n",
       "      <td>8.292574</td>\n",
       "      <td>9.597357</td>\n",
       "      <td>10.417317</td>\n",
       "      <td>7.334151</td>\n",
       "      <td>278.000022</td>\n",
       "      <td>-0.006084</td>\n",
       "    </tr>\n",
       "    <tr>\n",
       "      <th>2020-12-01 09:56:48</th>\n",
       "      <td>2.999941</td>\n",
       "      <td>0.0</td>\n",
       "      <td>[-42.6, -26.85, -19.11, -15.57, -10.54, -6.06,...</td>\n",
       "      <td>2.999941</td>\n",
       "      <td>0.0</td>\n",
       "      <td>[-47.99, -31.9, -23.64, -17.66, -10.4, -7.91, ...</td>\n",
       "      <td>2.999941</td>\n",
       "      <td>0.0</td>\n",
       "      <td>[-34.47, -19.02, -8.16, -3.32, 1.96, 4.57, 4.5...</td>\n",
       "      <td>2.999941</td>\n",
       "      <td>...</td>\n",
       "      <td>2.009028</td>\n",
       "      <td>1.968307</td>\n",
       "      <td>9.712649</td>\n",
       "      <td>280.055946</td>\n",
       "      <td>7.896861</td>\n",
       "      <td>8.619720</td>\n",
       "      <td>9.764527</td>\n",
       "      <td>7.403276</td>\n",
       "      <td>278.000434</td>\n",
       "      <td>-0.040721</td>\n",
       "    </tr>\n",
       "  </tbody>\n",
       "</table>\n",
       "<p>5 rows × 99 columns</p>\n",
       "</div>"
      ],
      "text/plain": [
       "                       01N_df  01N_f0  \\\n",
       "time                                    \n",
       "2020-12-01 09:56:08  2.999941     0.0   \n",
       "2020-12-01 09:56:18  2.999941     0.0   \n",
       "2020-12-01 09:56:28  2.999941     0.0   \n",
       "2020-12-01 09:56:38  2.999941     0.0   \n",
       "2020-12-01 09:56:48  2.999941     0.0   \n",
       "\n",
       "                                                          01N_spectrum  \\\n",
       "time                                                                     \n",
       "2020-12-01 09:56:08  [-38.82, -24.57, -15.76, -9.57, -8.0, -6.97, -...   \n",
       "2020-12-01 09:56:18  [-38.36, -22.46, -12.84, -6.76, -1.75, -1.25, ...   \n",
       "2020-12-01 09:56:28  [-39.1, -23.53, -15.11, -7.97, -3.87, -1.65, 1...   \n",
       "2020-12-01 09:56:38  [-40.28, -26.9, -17.8, -11.92, -7.58, -4.74, 0...   \n",
       "2020-12-01 09:56:48  [-42.6, -26.85, -19.11, -15.57, -10.54, -6.06,...   \n",
       "\n",
       "                       02N_df  02N_f0  \\\n",
       "time                                    \n",
       "2020-12-01 09:56:08  2.999941     0.0   \n",
       "2020-12-01 09:56:18  2.999941     0.0   \n",
       "2020-12-01 09:56:28  2.999941     0.0   \n",
       "2020-12-01 09:56:38  2.999941     0.0   \n",
       "2020-12-01 09:56:48  2.999941     0.0   \n",
       "\n",
       "                                                          02N_spectrum  \\\n",
       "time                                                                     \n",
       "2020-12-01 09:56:08  [-46.98, -31.64, -22.84, -18.44, -11.85, -8.38...   \n",
       "2020-12-01 09:56:18  [-41.41, -25.04, -17.1, -13.64, -9.0, -5.67, -...   \n",
       "2020-12-01 09:56:28  [-45.68, -32.26, -24.36, -18.23, -11.9, -7.39,...   \n",
       "2020-12-01 09:56:38  [-48.6, -36.72, -27.28, -18.8, -11.26, -7.66, ...   \n",
       "2020-12-01 09:56:48  [-47.99, -31.9, -23.64, -17.66, -10.4, -7.91, ...   \n",
       "\n",
       "                       03N_df  03N_f0  \\\n",
       "time                                    \n",
       "2020-12-01 09:56:08  2.999941     0.0   \n",
       "2020-12-01 09:56:18  2.999941     0.0   \n",
       "2020-12-01 09:56:28  2.999941     0.0   \n",
       "2020-12-01 09:56:38  2.999941     0.0   \n",
       "2020-12-01 09:56:48  2.999941     0.0   \n",
       "\n",
       "                                                          03N_spectrum  \\\n",
       "time                                                                     \n",
       "2020-12-01 09:56:08  [-41.62, -26.87, -17.2, -11.03, -7.01, -4.1, -...   \n",
       "2020-12-01 09:56:18  [-40.65, -27.39, -19.7, -13.2, -9.77, -6.06, -...   \n",
       "2020-12-01 09:56:28  [-40.55, -25.97, -16.23, -7.49, -3.68, -1.9, 1...   \n",
       "2020-12-01 09:56:38  [-42.98, -31.08, -20.44, -12.32, -9.07, -5.46,...   \n",
       "2020-12-01 09:56:48  [-34.47, -19.02, -8.16, -3.32, 1.96, 4.57, 4.5...   \n",
       "\n",
       "                       04C_df  ...  WD_Nacelle WD_Nacelle_Mod  WindSpeed_80m  \\\n",
       "time                           ...                                             \n",
       "2020-12-01 09:56:08  2.999941  ...    8.314922       8.329244       8.258775   \n",
       "2020-12-01 09:56:18  2.999941  ...    9.220574       9.243865       9.340056   \n",
       "2020-12-01 09:56:28  2.999941  ...    1.166217       1.140544      10.800011   \n",
       "2020-12-01 09:56:38  2.999941  ...   -4.678317      -4.684401      10.339222   \n",
       "2020-12-01 09:56:48  2.999941  ...    2.009028       1.968307       9.712649   \n",
       "\n",
       "                     Wind_Direction_38m Windspeed_38m  Windspeed_55m  \\\n",
       "time                                                                   \n",
       "2020-12-01 09:56:08          293.725038      7.815275       8.409337   \n",
       "2020-12-01 09:56:18          289.335004      7.964139       8.266130   \n",
       "2020-12-01 09:56:28          283.711310      8.007071       9.171196   \n",
       "2020-12-01 09:56:38          277.398717      8.292574       9.597357   \n",
       "2020-12-01 09:56:48          280.055946      7.896861       8.619720   \n",
       "\n",
       "                     Windspeed_87m Windspeed_AeroA_10m  Yaw_Encoder  \\\n",
       "time                                                                  \n",
       "2020-12-01 09:56:08       8.201277            6.821761   277.996314   \n",
       "2020-12-01 09:56:18      10.113497            7.455780   277.996314   \n",
       "2020-12-01 09:56:28      10.840616            7.882140   277.996314   \n",
       "2020-12-01 09:56:38      10.417317            7.334151   278.000022   \n",
       "2020-12-01 09:56:48       9.764527            7.403276   278.000434   \n",
       "\n",
       "                     Yaw_Offset_Cmd  \n",
       "time                                 \n",
       "2020-12-01 09:56:08        0.014322  \n",
       "2020-12-01 09:56:18        0.023291  \n",
       "2020-12-01 09:56:28       -0.025674  \n",
       "2020-12-01 09:56:38       -0.006084  \n",
       "2020-12-01 09:56:48       -0.040721  \n",
       "\n",
       "[5 rows x 99 columns]"
      ]
     },
     "execution_count": 63,
     "metadata": {},
     "output_type": "execute_result"
    }
   ],
   "source": [
    "df_fft.head()"
   ]
  },
  {
   "cell_type": "code",
   "execution_count": 64,
   "metadata": {},
   "outputs": [
    {
     "data": {
      "text/html": [
       "<div>\n",
       "<style scoped>\n",
       "    .dataframe tbody tr th:only-of-type {\n",
       "        vertical-align: middle;\n",
       "    }\n",
       "\n",
       "    .dataframe tbody tr th {\n",
       "        vertical-align: top;\n",
       "    }\n",
       "\n",
       "    .dataframe thead th {\n",
       "        text-align: right;\n",
       "    }\n",
       "</style>\n",
       "<table border=\"1\" class=\"dataframe\">\n",
       "  <thead>\n",
       "    <tr style=\"text-align: right;\">\n",
       "      <th></th>\n",
       "      <th>01N_df</th>\n",
       "      <th>01N_f0</th>\n",
       "      <th>01N_spectrum</th>\n",
       "      <th>02N_df</th>\n",
       "      <th>02N_f0</th>\n",
       "      <th>02N_spectrum</th>\n",
       "      <th>03N_df</th>\n",
       "      <th>03N_f0</th>\n",
       "      <th>03N_spectrum</th>\n",
       "      <th>04C_df</th>\n",
       "      <th>...</th>\n",
       "      <th>WD_Nacelle</th>\n",
       "      <th>WD_Nacelle_Mod</th>\n",
       "      <th>WindSpeed_80m</th>\n",
       "      <th>Wind_Direction_38m</th>\n",
       "      <th>Windspeed_38m</th>\n",
       "      <th>Windspeed_55m</th>\n",
       "      <th>Windspeed_87m</th>\n",
       "      <th>Windspeed_AeroA_10m</th>\n",
       "      <th>Yaw_Encoder</th>\n",
       "      <th>Yaw_Offset_Cmd</th>\n",
       "    </tr>\n",
       "    <tr>\n",
       "      <th>time</th>\n",
       "      <th></th>\n",
       "      <th></th>\n",
       "      <th></th>\n",
       "      <th></th>\n",
       "      <th></th>\n",
       "      <th></th>\n",
       "      <th></th>\n",
       "      <th></th>\n",
       "      <th></th>\n",
       "      <th></th>\n",
       "      <th></th>\n",
       "      <th></th>\n",
       "      <th></th>\n",
       "      <th></th>\n",
       "      <th></th>\n",
       "      <th></th>\n",
       "      <th></th>\n",
       "      <th></th>\n",
       "      <th></th>\n",
       "      <th></th>\n",
       "      <th></th>\n",
       "    </tr>\n",
       "  </thead>\n",
       "  <tbody>\n",
       "    <tr>\n",
       "      <th>2020-12-22 13:55:34</th>\n",
       "      <td>2.999941</td>\n",
       "      <td>0.0</td>\n",
       "      <td>[-49.95, -33.45, -23.62, -15.2, -7.43, -4.22, ...</td>\n",
       "      <td>2.999941</td>\n",
       "      <td>0.0</td>\n",
       "      <td>[-45.31, -32.4, -24.49, -16.0, -7.68, -5.74, -...</td>\n",
       "      <td>2.999941</td>\n",
       "      <td>0.0</td>\n",
       "      <td>[-49.26, -36.34, -24.39, -14.84, -7.59, -5.58,...</td>\n",
       "      <td>2.999941</td>\n",
       "      <td>...</td>\n",
       "      <td>NaN</td>\n",
       "      <td>NaN</td>\n",
       "      <td>1.164274</td>\n",
       "      <td>260.075688</td>\n",
       "      <td>1.433555</td>\n",
       "      <td>1.671621</td>\n",
       "      <td>1.169629</td>\n",
       "      <td>0.208635</td>\n",
       "      <td>203.637650</td>\n",
       "      <td>NaN</td>\n",
       "    </tr>\n",
       "    <tr>\n",
       "      <th>2020-12-22 13:55:44</th>\n",
       "      <td>2.999941</td>\n",
       "      <td>0.0</td>\n",
       "      <td>[-50.68, -37.34, -24.19, -14.95, -7.85, -4.79,...</td>\n",
       "      <td>2.999941</td>\n",
       "      <td>0.0</td>\n",
       "      <td>[-51.17, -37.34, -24.9, -16.4, -9.14, -5.77, 0...</td>\n",
       "      <td>2.999941</td>\n",
       "      <td>0.0</td>\n",
       "      <td>[-45.77, -32.96, -22.75, -14.78, -7.4, -4.11, ...</td>\n",
       "      <td>2.999941</td>\n",
       "      <td>...</td>\n",
       "      <td>NaN</td>\n",
       "      <td>NaN</td>\n",
       "      <td>0.913224</td>\n",
       "      <td>251.350227</td>\n",
       "      <td>1.381113</td>\n",
       "      <td>1.659197</td>\n",
       "      <td>0.902624</td>\n",
       "      <td>0.208162</td>\n",
       "      <td>197.236739</td>\n",
       "      <td>NaN</td>\n",
       "    </tr>\n",
       "    <tr>\n",
       "      <th>2020-12-22 13:55:54</th>\n",
       "      <td>2.999941</td>\n",
       "      <td>0.0</td>\n",
       "      <td>[-48.68, -32.91, -21.65, -13.17, -7.27, -3.09,...</td>\n",
       "      <td>2.999941</td>\n",
       "      <td>0.0</td>\n",
       "      <td>[-51.12, -36.09, -23.73, -15.61, -9.54, -5.5, ...</td>\n",
       "      <td>2.999941</td>\n",
       "      <td>0.0</td>\n",
       "      <td>[-45.64, -29.81, -18.07, -11.61, -7.15, -3.23,...</td>\n",
       "      <td>2.999941</td>\n",
       "      <td>...</td>\n",
       "      <td>NaN</td>\n",
       "      <td>NaN</td>\n",
       "      <td>1.267204</td>\n",
       "      <td>254.002535</td>\n",
       "      <td>1.363973</td>\n",
       "      <td>1.587994</td>\n",
       "      <td>0.719737</td>\n",
       "      <td>0.208439</td>\n",
       "      <td>195.981040</td>\n",
       "      <td>NaN</td>\n",
       "    </tr>\n",
       "    <tr>\n",
       "      <th>2020-12-22 13:56:04</th>\n",
       "      <td>2.999941</td>\n",
       "      <td>0.0</td>\n",
       "      <td>[-47.57, -32.18, -22.06, -13.91, -6.7, -2.29, ...</td>\n",
       "      <td>2.999941</td>\n",
       "      <td>0.0</td>\n",
       "      <td>[-51.18, -35.62, -25.08, -15.57, -8.23, -4.62,...</td>\n",
       "      <td>2.999941</td>\n",
       "      <td>0.0</td>\n",
       "      <td>[-45.69, -33.69, -21.07, -12.34, -6.81, -3.25,...</td>\n",
       "      <td>2.999941</td>\n",
       "      <td>...</td>\n",
       "      <td>NaN</td>\n",
       "      <td>NaN</td>\n",
       "      <td>1.642465</td>\n",
       "      <td>239.454102</td>\n",
       "      <td>1.419498</td>\n",
       "      <td>1.731842</td>\n",
       "      <td>1.431957</td>\n",
       "      <td>0.208663</td>\n",
       "      <td>195.981040</td>\n",
       "      <td>NaN</td>\n",
       "    </tr>\n",
       "    <tr>\n",
       "      <th>2020-12-22 13:56:14</th>\n",
       "      <td>2.999941</td>\n",
       "      <td>0.0</td>\n",
       "      <td>[-47.54, -32.4, -21.95, -13.35, -6.6, -3.77, 0...</td>\n",
       "      <td>2.999941</td>\n",
       "      <td>0.0</td>\n",
       "      <td>[-50.36, -34.93, -24.0, -15.19, -8.28, -5.34, ...</td>\n",
       "      <td>2.999941</td>\n",
       "      <td>0.0</td>\n",
       "      <td>[-47.47, -32.29, -20.73, -13.01, -8.07, -3.48,...</td>\n",
       "      <td>2.999941</td>\n",
       "      <td>...</td>\n",
       "      <td>NaN</td>\n",
       "      <td>NaN</td>\n",
       "      <td>1.990227</td>\n",
       "      <td>225.004832</td>\n",
       "      <td>1.718345</td>\n",
       "      <td>1.820108</td>\n",
       "      <td>2.139507</td>\n",
       "      <td>0.209734</td>\n",
       "      <td>195.981040</td>\n",
       "      <td>NaN</td>\n",
       "    </tr>\n",
       "  </tbody>\n",
       "</table>\n",
       "<p>5 rows × 99 columns</p>\n",
       "</div>"
      ],
      "text/plain": [
       "                       01N_df  01N_f0  \\\n",
       "time                                    \n",
       "2020-12-22 13:55:34  2.999941     0.0   \n",
       "2020-12-22 13:55:44  2.999941     0.0   \n",
       "2020-12-22 13:55:54  2.999941     0.0   \n",
       "2020-12-22 13:56:04  2.999941     0.0   \n",
       "2020-12-22 13:56:14  2.999941     0.0   \n",
       "\n",
       "                                                          01N_spectrum  \\\n",
       "time                                                                     \n",
       "2020-12-22 13:55:34  [-49.95, -33.45, -23.62, -15.2, -7.43, -4.22, ...   \n",
       "2020-12-22 13:55:44  [-50.68, -37.34, -24.19, -14.95, -7.85, -4.79,...   \n",
       "2020-12-22 13:55:54  [-48.68, -32.91, -21.65, -13.17, -7.27, -3.09,...   \n",
       "2020-12-22 13:56:04  [-47.57, -32.18, -22.06, -13.91, -6.7, -2.29, ...   \n",
       "2020-12-22 13:56:14  [-47.54, -32.4, -21.95, -13.35, -6.6, -3.77, 0...   \n",
       "\n",
       "                       02N_df  02N_f0  \\\n",
       "time                                    \n",
       "2020-12-22 13:55:34  2.999941     0.0   \n",
       "2020-12-22 13:55:44  2.999941     0.0   \n",
       "2020-12-22 13:55:54  2.999941     0.0   \n",
       "2020-12-22 13:56:04  2.999941     0.0   \n",
       "2020-12-22 13:56:14  2.999941     0.0   \n",
       "\n",
       "                                                          02N_spectrum  \\\n",
       "time                                                                     \n",
       "2020-12-22 13:55:34  [-45.31, -32.4, -24.49, -16.0, -7.68, -5.74, -...   \n",
       "2020-12-22 13:55:44  [-51.17, -37.34, -24.9, -16.4, -9.14, -5.77, 0...   \n",
       "2020-12-22 13:55:54  [-51.12, -36.09, -23.73, -15.61, -9.54, -5.5, ...   \n",
       "2020-12-22 13:56:04  [-51.18, -35.62, -25.08, -15.57, -8.23, -4.62,...   \n",
       "2020-12-22 13:56:14  [-50.36, -34.93, -24.0, -15.19, -8.28, -5.34, ...   \n",
       "\n",
       "                       03N_df  03N_f0  \\\n",
       "time                                    \n",
       "2020-12-22 13:55:34  2.999941     0.0   \n",
       "2020-12-22 13:55:44  2.999941     0.0   \n",
       "2020-12-22 13:55:54  2.999941     0.0   \n",
       "2020-12-22 13:56:04  2.999941     0.0   \n",
       "2020-12-22 13:56:14  2.999941     0.0   \n",
       "\n",
       "                                                          03N_spectrum  \\\n",
       "time                                                                     \n",
       "2020-12-22 13:55:34  [-49.26, -36.34, -24.39, -14.84, -7.59, -5.58,...   \n",
       "2020-12-22 13:55:44  [-45.77, -32.96, -22.75, -14.78, -7.4, -4.11, ...   \n",
       "2020-12-22 13:55:54  [-45.64, -29.81, -18.07, -11.61, -7.15, -3.23,...   \n",
       "2020-12-22 13:56:04  [-45.69, -33.69, -21.07, -12.34, -6.81, -3.25,...   \n",
       "2020-12-22 13:56:14  [-47.47, -32.29, -20.73, -13.01, -8.07, -3.48,...   \n",
       "\n",
       "                       04C_df  ...  WD_Nacelle WD_Nacelle_Mod  WindSpeed_80m  \\\n",
       "time                           ...                                             \n",
       "2020-12-22 13:55:34  2.999941  ...         NaN            NaN       1.164274   \n",
       "2020-12-22 13:55:44  2.999941  ...         NaN            NaN       0.913224   \n",
       "2020-12-22 13:55:54  2.999941  ...         NaN            NaN       1.267204   \n",
       "2020-12-22 13:56:04  2.999941  ...         NaN            NaN       1.642465   \n",
       "2020-12-22 13:56:14  2.999941  ...         NaN            NaN       1.990227   \n",
       "\n",
       "                     Wind_Direction_38m Windspeed_38m  Windspeed_55m  \\\n",
       "time                                                                   \n",
       "2020-12-22 13:55:34          260.075688      1.433555       1.671621   \n",
       "2020-12-22 13:55:44          251.350227      1.381113       1.659197   \n",
       "2020-12-22 13:55:54          254.002535      1.363973       1.587994   \n",
       "2020-12-22 13:56:04          239.454102      1.419498       1.731842   \n",
       "2020-12-22 13:56:14          225.004832      1.718345       1.820108   \n",
       "\n",
       "                     Windspeed_87m Windspeed_AeroA_10m  Yaw_Encoder  \\\n",
       "time                                                                  \n",
       "2020-12-22 13:55:34       1.169629            0.208635   203.637650   \n",
       "2020-12-22 13:55:44       0.902624            0.208162   197.236739   \n",
       "2020-12-22 13:55:54       0.719737            0.208439   195.981040   \n",
       "2020-12-22 13:56:04       1.431957            0.208663   195.981040   \n",
       "2020-12-22 13:56:14       2.139507            0.209734   195.981040   \n",
       "\n",
       "                     Yaw_Offset_Cmd  \n",
       "time                                 \n",
       "2020-12-22 13:55:34             NaN  \n",
       "2020-12-22 13:55:44             NaN  \n",
       "2020-12-22 13:55:54             NaN  \n",
       "2020-12-22 13:56:04             NaN  \n",
       "2020-12-22 13:56:14             NaN  \n",
       "\n",
       "[5 rows x 99 columns]"
      ]
     },
     "execution_count": 64,
     "metadata": {},
     "output_type": "execute_result"
    }
   ],
   "source": [
    "df_fft.tail()"
   ]
  },
  {
   "cell_type": "markdown",
   "metadata": {},
   "source": [
    "## Summarize data"
   ]
  },
  {
   "cell_type": "code",
   "execution_count": 117,
   "metadata": {},
   "outputs": [],
   "source": [
    "df['Turbine Operating'] = (df['EGD_OpCtl_TurbineStatus'] == 2)\n",
    "df['Direction Valid'] = (df['Yaw_Encoder'] >= 270.) & (df['Yaw_Encoder'] >= 300.)\n",
    "df['Yaw_Offset_Cmd_Bin'] = 0.\n",
    "df.loc[df['Yaw_Offset_Cmd'] < -9.,'Yaw_Offset_Cmd_Bin'] = -18.\n",
    "df.loc[(df['Yaw_Offset_Cmd'] >= 5.) & (df['Yaw_Offset_Cmd'] < 14.),'Yaw_Offset_Cmd_Bin'] = 10.\n",
    "df.loc[(df['Yaw_Offset_Cmd'] >= 14.) & (df['Yaw_Offset_Cmd'] < 21.5),'Yaw_Offset_Cmd_Bin'] = 18.\n",
    "df.loc[df['Yaw_Offset_Cmd'] >= 21.5,'Yaw_Offset_Cmd_Bin'] = 25."
   ]
  },
  {
   "cell_type": "markdown",
   "metadata": {},
   "source": [
    "### Plot histograms by offset"
   ]
  },
  {
   "cell_type": "code",
   "execution_count": null,
   "metadata": {},
   "outputs": [],
   "source": []
  },
  {
   "cell_type": "markdown",
   "metadata": {},
   "source": [
    "## Check out data format"
   ]
  },
  {
   "cell_type": "code",
   "execution_count": null,
   "metadata": {},
   "outputs": [],
   "source": [
    "filename = os.path.join(root_dir_tdms,'2020-12-11/DOE15_SlowData_2020_12_11_06_16_29_1Hz.tdms')\n",
    "\n",
    "currFile = TdmsFile(filename)\n",
    "df_sc = currFile.as_dataframe()\n",
    "\n",
    "#rename columns\n",
    "col_names = list(df_sc.columns)\n",
    "for i in range(len(col_names)):\n",
    "    col_names[i] = col_names[i].replace('/\\'SlowData\\'/\\'','')[:-1]\n",
    "df_sc.columns = col_names\n",
    "\n",
    "# set timestamp\n",
    "# TODO: For now, rounding timestamp to nearest second. Should we change to interpolating to integer seconds?\n",
    "df_sc['time'] = pd.to_datetime(currFile.object('SlowData','MS Excel Timestamp').time_track(absolute_time=True))\n",
    "df_sc['time'] = df_sc.time.dt.round(freq='s')"
   ]
  },
  {
   "cell_type": "code",
   "execution_count": 95,
   "metadata": {},
   "outputs": [
    {
     "data": {
      "text/plain": [
       "array([\"/'SlowData'/'MS Excel Timestamp'\",\n",
       "       \"/'SlowData'/'LabVIEW Timestamp'\", \"/'SlowData'/'Scan Errors'\",\n",
       "       \"/'SlowData'/'Late Scans'\", \"/'SlowData'/'SCADA_nacelleWS'\",\n",
       "       \"/'SlowData'/'Hum1'\", \"/'SlowData'/'Temp1'\", \"/'SlowData'/'Hum2'\",\n",
       "       \"/'SlowData'/'Temp2'\", \"/'SlowData'/'Windspeed_38m'\",\n",
       "       \"/'SlowData'/'Windspeed_55m'\", \"/'SlowData'/'Windspeed_87m'\",\n",
       "       \"/'SlowData'/'WD1_87m'\", \"/'SlowData'/'Air_Press_2'\",\n",
       "       \"/'SlowData'/'Air_Press_1'\", \"/'SlowData'/'Wind_Direction_38m'\",\n",
       "       \"/'SlowData'/'WindSpeed_80m'\", \"/'SlowData'/'Precipitation'\",\n",
       "       \"/'SlowData'/'Tower Base Bend 1'\",\n",
       "       \"/'SlowData'/'Tower Base Bend 2'\",\n",
       "       \"/'SlowData'/'Tower Base Torque'\", \"/'SlowData'/'Active Power'\",\n",
       "       \"/'SlowData'/'Reactive Power'\", \"/'SlowData'/'Power Factor'\",\n",
       "       \"/'SlowData'/'Windspeed_AeroA_10m'\",\n",
       "       \"/'SlowData'/'TowerTopBending_0'\",\n",
       "       \"/'SlowData'/'TowerTopBending_90'\", \"/'SlowData'/'TowerTopTorque'\",\n",
       "       \"/'SlowData'/'TowerTopDCAccel_NS'\",\n",
       "       \"/'SlowData'/'TowerTopDCAccel_EW'\", \"/'SlowData'/'LSS RPM'\",\n",
       "       \"/'SlowData'/'HSS RPM'\", \"/'SlowData'/'NacelleWindSpeed'\",\n",
       "       \"/'SlowData'/'Mainshaft_Downwind_Bend_0'\",\n",
       "       \"/'SlowData'/'Mainshaft_Downwind_Bend_90'\",\n",
       "       \"/'SlowData'/'Mainshaft_Downwind_Torque'\",\n",
       "       \"/'SlowData'/'AzimuthAO'\", \"/'SlowData'/'Blade_1_Flap'\",\n",
       "       \"/'SlowData'/'Blade_1_Edge'\", \"/'SlowData'/'Blade_2_Flap'\",\n",
       "       \"/'SlowData'/'Blade_2_Edge'\", \"/'SlowData'/'Blade_3_Flap'\",\n",
       "       \"/'SlowData'/'Blade_3_Edge'\", \"/'SlowData'/'Pitch_Blade2'\",\n",
       "       \"/'SlowData'/'Azimuth'\", \"/'SlowData'/'Yaw_Encoder'\",\n",
       "       \"/'SlowData'/'Pitch_Blade1'\", \"/'SlowData'/'WD_Mod_Active'\",\n",
       "       \"/'SlowData'/'WD_Nacelle'\", \"/'SlowData'/'WD_Nacelle_Mod'\",\n",
       "       \"/'SlowData'/'EGD_AI_CuTorqueAct'\",\n",
       "       \"/'SlowData'/'EGD_AI_In_GridMonRealPowerAct'\",\n",
       "       \"/'SlowData'/'EGD_AI_In_PitchAngleCurrent1'\",\n",
       "       \"/'SlowData'/'EGD_AI_In_PitchAngleCurrent2'\",\n",
       "       \"/'SlowData'/'EGD_AI_In_PitchAngleCurrent3'\",\n",
       "       \"/'SlowData'/'EGD_DI_In_TBDiscBrakeClosed'\",\n",
       "       \"/'SlowData'/'EGD_In_RotorSpd'\", \"/'SlowData'/'EGD_In_WindSpd'\",\n",
       "       \"/'SlowData'/'EGD_OpCtl_TurbineFullState'\",\n",
       "       \"/'SlowData'/'EGD_OpCtl_TurbineOperationState'\",\n",
       "       \"/'SlowData'/'EGD_OpCtl_TurbineStatus'\",\n",
       "       \"/'SlowData'/'EGD_Out_CalcTrbineStateSCADA'\",\n",
       "       \"/'SlowData'/'EGD_Out_TurbineStatusSCADA'\",\n",
       "       \"/'SlowData'/'EGD_W_In_WtgBrake'\",\n",
       "       \"/'SlowData'/'EGD_Yaw_PositionToNorth'\"], dtype=object)"
      ]
     },
     "execution_count": 95,
     "metadata": {},
     "output_type": "execute_result"
    }
   ],
   "source": [
    "df_sc.columns.values"
   ]
  },
  {
   "cell_type": "code",
   "execution_count": null,
   "metadata": {},
   "outputs": [],
   "source": [
    "filename = os.path.join(root_dir_noiselab,'noiseLAB_20201201_115609.xls')\n",
    "filename_fft = os.path.join(root_dir_noiselab,'noiseLAB_20201201_115609_FFT.xls')"
   ]
  },
  {
   "cell_type": "code",
   "execution_count": null,
   "metadata": {},
   "outputs": [],
   "source": [
    "imp.reload(rd)\n",
    "\n",
    "df_nl = rd.read_NoiseLabSlice_file(filename)\n",
    "df_nl_fft = rd.read_NoiseLabFFTSlice_file(filename_fft)\n",
    "\n",
    "# df_nl = pd.read_csv(filename,sep='\\t')\n",
    "\n",
    "# remove whitespace\n",
    "# df_nl.rename(columns=lambda x: x.strip(),inplace=True)"
   ]
  },
  {
   "cell_type": "code",
   "execution_count": null,
   "metadata": {},
   "outputs": [],
   "source": [
    "df_nl.head()"
   ]
  },
  {
   "cell_type": "code",
   "execution_count": null,
   "metadata": {},
   "outputs": [],
   "source": [
    "df_nl_fft.head()"
   ]
  },
  {
   "cell_type": "code",
   "execution_count": 69,
   "metadata": {},
   "outputs": [],
   "source": [
    "filename = os.path.join(root_dir_tdms,'2020-12-22/DOE15_SlowData_2020_12_22_06_13_41_1Hz.tdms')\n",
    "# df_sc = rd.read_tdmsSCADA_file(filename)\n",
    "currFile = TdmsFile(filename)\n",
    "df_sc = currFile.as_dataframe()"
   ]
  },
  {
   "cell_type": "code",
   "execution_count": 70,
   "metadata": {},
   "outputs": [
    {
     "data": {
      "text/plain": [
       "array([\"/'SlowData'/'MS Excel Timestamp'\",\n",
       "       \"/'SlowData'/'LabVIEW Timestamp'\", \"/'SlowData'/'Scan Errors'\",\n",
       "       \"/'SlowData'/'Late Scans'\", \"/'SlowData'/'SCADA_nacelleWS'\",\n",
       "       \"/'SlowData'/'Hum1'\", \"/'SlowData'/'Temp1'\", \"/'SlowData'/'Hum2'\",\n",
       "       \"/'SlowData'/'Temp2'\", \"/'SlowData'/'Windspeed_38m'\",\n",
       "       \"/'SlowData'/'Windspeed_55m'\", \"/'SlowData'/'Windspeed_87m'\",\n",
       "       \"/'SlowData'/'WD1_87m'\", \"/'SlowData'/'Air_Press_2'\",\n",
       "       \"/'SlowData'/'Air_Press_1'\", \"/'SlowData'/'Wind_Direction_38m'\",\n",
       "       \"/'SlowData'/'WindSpeed_80m'\", \"/'SlowData'/'Precipitation'\",\n",
       "       \"/'SlowData'/'Tower Base Bend 1'\",\n",
       "       \"/'SlowData'/'Tower Base Bend 2'\",\n",
       "       \"/'SlowData'/'Tower Base Torque'\", \"/'SlowData'/'Active Power'\",\n",
       "       \"/'SlowData'/'Reactive Power'\", \"/'SlowData'/'Power Factor'\",\n",
       "       \"/'SlowData'/'Windspeed_AeroA_10m'\",\n",
       "       \"/'SlowData'/'TowerTopBending_0'\",\n",
       "       \"/'SlowData'/'TowerTopBending_90'\", \"/'SlowData'/'TowerTopTorque'\",\n",
       "       \"/'SlowData'/'TowerTopDCAccel_NS'\",\n",
       "       \"/'SlowData'/'TowerTopDCAccel_EW'\", \"/'SlowData'/'LSS RPM'\",\n",
       "       \"/'SlowData'/'HSS RPM'\", \"/'SlowData'/'NacelleWindSpeed'\",\n",
       "       \"/'SlowData'/'Mainshaft_Downwind_Bend_0'\",\n",
       "       \"/'SlowData'/'Mainshaft_Downwind_Bend_90'\",\n",
       "       \"/'SlowData'/'Mainshaft_Downwind_Torque'\",\n",
       "       \"/'SlowData'/'AzimuthAO'\", \"/'SlowData'/'Blade_1_Flap'\",\n",
       "       \"/'SlowData'/'Blade_1_Edge'\", \"/'SlowData'/'Blade_2_Flap'\",\n",
       "       \"/'SlowData'/'Blade_2_Edge'\", \"/'SlowData'/'Blade_3_Flap'\",\n",
       "       \"/'SlowData'/'Blade_3_Edge'\", \"/'SlowData'/'Pitch_Blade2'\",\n",
       "       \"/'SlowData'/'Azimuth'\", \"/'SlowData'/'Yaw_Encoder'\",\n",
       "       \"/'SlowData'/'Pitch_Blade1'\", \"/'SlowData'/'WD_Mod_Active'\",\n",
       "       \"/'SlowData'/'WD_Nacelle'\", \"/'SlowData'/'WD_Nacelle_Mod'\",\n",
       "       \"/'SlowData'/'EGD_AI_CuTorqueAct'\",\n",
       "       \"/'SlowData'/'EGD_AI_In_GridMonRealPowerAct'\",\n",
       "       \"/'SlowData'/'EGD_AI_In_PitchAngleCurrent1'\",\n",
       "       \"/'SlowData'/'EGD_AI_In_PitchAngleCurrent2'\",\n",
       "       \"/'SlowData'/'EGD_AI_In_PitchAngleCurrent3'\",\n",
       "       \"/'SlowData'/'EGD_DI_In_TBDiscBrakeClosed'\",\n",
       "       \"/'SlowData'/'EGD_In_RotorSpd'\", \"/'SlowData'/'EGD_In_WindSpd'\",\n",
       "       \"/'SlowData'/'EGD_OpCtl_TurbineFullState'\",\n",
       "       \"/'SlowData'/'EGD_OpCtl_TurbineOperationState'\",\n",
       "       \"/'SlowData'/'EGD_OpCtl_TurbineStatus'\",\n",
       "       \"/'SlowData'/'EGD_Out_CalcTrbineStateSCADA'\",\n",
       "       \"/'SlowData'/'EGD_Out_TurbineStatusSCADA'\",\n",
       "       \"/'SlowData'/'EGD_W_In_WtgBrake'\",\n",
       "       \"/'SlowData'/'EGD_Yaw_PositionToNorth'\"], dtype=object)"
      ]
     },
     "execution_count": 70,
     "metadata": {},
     "output_type": "execute_result"
    }
   ],
   "source": [
    "df_sc.columns.values"
   ]
  },
  {
   "cell_type": "code",
   "execution_count": 73,
   "metadata": {},
   "outputs": [
    {
     "data": {
      "text/plain": [
       "0          -3.711191\n",
       "1          -3.677536\n",
       "2          -3.691746\n",
       "3          -3.663327\n",
       "4          -3.645377\n",
       "5          -3.599009\n",
       "6          -3.633785\n",
       "7          -3.625184\n",
       "8          -4.400742\n",
       "9          -4.870040\n",
       "10         -4.849847\n",
       "11         -4.148330\n",
       "12         -3.709696\n",
       "13         -3.823000\n",
       "14         -3.857403\n",
       "15         -3.911999\n",
       "16         -5.103006\n",
       "17         -4.463938\n",
       "18         -4.102709\n",
       "19         -4.135990\n",
       "20         -4.195821\n",
       "21         -4.263879\n",
       "22         -4.386906\n",
       "23         -4.431405\n",
       "24         -4.502454\n",
       "25         -4.523021\n",
       "26         -4.537979\n",
       "27         -4.561911\n",
       "28         -4.554806\n",
       "29         -4.574251\n",
       "            ...     \n",
       "21928    1491.933281\n",
       "21929    1492.786245\n",
       "21930    1495.240805\n",
       "21931    1496.762753\n",
       "21932    1499.832075\n",
       "21933    1495.206777\n",
       "21934    1496.252321\n",
       "21935    1489.795076\n",
       "21936    1492.625076\n",
       "21937    1494.009786\n",
       "21938    1497.672930\n",
       "21939    1498.081649\n",
       "21940    1481.890299\n",
       "21941    1353.442440\n",
       "21942    1351.004333\n",
       "21943    1348.413283\n",
       "21944    1347.770101\n",
       "21945    1384.004038\n",
       "21946    1417.924390\n",
       "21947    1418.046295\n",
       "21948    1397.308175\n",
       "21949    1367.511290\n",
       "21950    1354.546319\n",
       "21951    1334.271888\n",
       "21952    1333.261868\n",
       "21953    1386.256669\n",
       "21954    1343.205382\n",
       "21955    1339.501852\n",
       "21956    1242.756864\n",
       "21957    1241.579318\n",
       "Name: /'SlowData'/'Active Power', Length: 21958, dtype: float64"
      ]
     },
     "execution_count": 73,
     "metadata": {},
     "output_type": "execute_result"
    }
   ],
   "source": [
    "df_sc[\"/'SlowData'/'Active Power'\"]"
   ]
  },
  {
   "cell_type": "code",
   "execution_count": null,
   "metadata": {},
   "outputs": [],
   "source": []
  }
 ],
 "metadata": {
  "kernelspec": {
   "display_name": "Python 3",
   "language": "python",
   "name": "python3"
  },
  "language_info": {
   "codemirror_mode": {
    "name": "ipython",
    "version": 3
   },
   "file_extension": ".py",
   "mimetype": "text/x-python",
   "name": "python",
   "nbconvert_exporter": "python",
   "pygments_lexer": "ipython3",
   "version": "3.7.4"
  },
  "toc": {
   "base_numbering": 1,
   "nav_menu": {},
   "number_sections": true,
   "sideBar": true,
   "skip_h1_title": false,
   "title_cell": "Table of Contents",
   "title_sidebar": "Contents",
   "toc_cell": false,
   "toc_position": {},
   "toc_section_display": true,
   "toc_window_display": true
  }
 },
 "nbformat": 4,
 "nbformat_minor": 4
}
